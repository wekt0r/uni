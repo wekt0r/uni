{
 "cells": [
  {
   "cell_type": "code",
   "execution_count": 1,
   "metadata": {},
   "outputs": [],
   "source": [
    "import tabulate\n",
    "from IPython.core.display import HTML\n",
    "from z1 import solution"
   ]
  },
  {
   "cell_type": "code",
   "execution_count": 2,
   "metadata": {},
   "outputs": [],
   "source": [
    "figures = ('♔', '♖', '♚')"
   ]
  },
  {
   "cell_type": "code",
   "execution_count": 3,
   "metadata": {},
   "outputs": [],
   "source": [
    "def pos2d(s):\n",
    "    \"\"\"\n",
    "        s - position on the board, for example 'a3' or 'h8'\n",
    "    \"\"\"\n",
    "    column = ord(s[0]) - ord('a')\n",
    "    row = ord(s[1]) - ord('1')\n",
    "    return column, row\n",
    "\n",
    "def print_board(bkx, bky, wkx, wky, wtx, wty ):\n",
    "    \"\"\"\n",
    "        wk - position of the white king\n",
    "        wt - position of the white tower\n",
    "        bk - position of the black king\n",
    "      \"\"\"\n",
    "    board = [ [' ' for i in range(8)] for j in range(8) ] \n",
    "    c,r = wkx, wky\n",
    "    board[r][c] = figures[0]\n",
    "    c,r = wtx, wty\n",
    "    board[r][c] = figures[1]\n",
    "    c,r = bkx, bky\n",
    "    board[r][c] = figures[2]\n",
    "    board = [ ([chr(j+49)] + board[j]) for j in range(8) ] + [ [' '] +  [chr(j+97) for j in range(8)] ]\n",
    "    display(HTML(tabulate.tabulate(board, tablefmt='html').replace(\n",
    "        '<table>', '<table style=\"border: 2px solid black;\">').replace(\n",
    "        '<td>'   , '<td    style=\"border: 1px solid black;\">')\n",
    "    ))\n",
    "#changed a little bit"
   ]
  },
  {
   "cell_type": "code",
   "execution_count": 4,
   "metadata": {},
   "outputs": [],
   "source": [
    "tests = \"\"\"white h6 a4 d4\n",
    "black b4 f3 e8\n",
    "white a1 e3 b7\n",
    "black h7 a2 f2\n",
    "black a2 e4 a4\n",
    "black g8 h1 c4\n",
    "white b4 f4 d7\"\"\".split(\"\\n\")"
   ]
  },
  {
   "cell_type": "code",
   "execution_count": 6,
   "metadata": {},
   "outputs": [
    {
     "name": "stdout",
     "output_type": "stream",
     "text": [
      "9\n",
      "6\n",
      "9\n",
      "6\n",
      "8\n",
      "10\n",
      "5\n"
     ]
    }
   ],
   "source": [
    "for test in tests:\n",
    "    print(solution(test)[0]) # number of moves"
   ]
  },
  {
   "cell_type": "code",
   "execution_count": 7,
   "metadata": {},
   "outputs": [
    {
     "name": "stdout",
     "output_type": "stream",
     "text": [
      "We are testing white h6 a4 d4\n"
     ]
    },
    {
     "data": {
      "text/html": [
       "<table style=\"border: 2px solid black;\">\n",
       "<tbody>\n",
       "<tr><td    style=\"border: 1px solid black;\">1</td><td    style=\"border: 1px solid black;\"> </td><td    style=\"border: 1px solid black;\"> </td><td    style=\"border: 1px solid black;\"> </td><td    style=\"border: 1px solid black;\"> </td><td    style=\"border: 1px solid black;\"> </td><td    style=\"border: 1px solid black;\"> </td><td    style=\"border: 1px solid black;\"> </td><td    style=\"border: 1px solid black;\"> </td></tr>\n",
       "<tr><td    style=\"border: 1px solid black;\">2</td><td    style=\"border: 1px solid black;\"> </td><td    style=\"border: 1px solid black;\"> </td><td    style=\"border: 1px solid black;\"> </td><td    style=\"border: 1px solid black;\"> </td><td    style=\"border: 1px solid black;\"> </td><td    style=\"border: 1px solid black;\"> </td><td    style=\"border: 1px solid black;\"> </td><td    style=\"border: 1px solid black;\"> </td></tr>\n",
       "<tr><td    style=\"border: 1px solid black;\">3</td><td    style=\"border: 1px solid black;\"> </td><td    style=\"border: 1px solid black;\"> </td><td    style=\"border: 1px solid black;\"> </td><td    style=\"border: 1px solid black;\"> </td><td    style=\"border: 1px solid black;\"> </td><td    style=\"border: 1px solid black;\"> </td><td    style=\"border: 1px solid black;\"> </td><td    style=\"border: 1px solid black;\"> </td></tr>\n",
       "<tr><td    style=\"border: 1px solid black;\">4</td><td    style=\"border: 1px solid black;\">♖</td><td    style=\"border: 1px solid black;\"> </td><td    style=\"border: 1px solid black;\"> </td><td    style=\"border: 1px solid black;\">♚</td><td    style=\"border: 1px solid black;\"> </td><td    style=\"border: 1px solid black;\"> </td><td    style=\"border: 1px solid black;\"> </td><td    style=\"border: 1px solid black;\"> </td></tr>\n",
       "<tr><td    style=\"border: 1px solid black;\">5</td><td    style=\"border: 1px solid black;\"> </td><td    style=\"border: 1px solid black;\"> </td><td    style=\"border: 1px solid black;\"> </td><td    style=\"border: 1px solid black;\"> </td><td    style=\"border: 1px solid black;\"> </td><td    style=\"border: 1px solid black;\"> </td><td    style=\"border: 1px solid black;\"> </td><td    style=\"border: 1px solid black;\"> </td></tr>\n",
       "<tr><td    style=\"border: 1px solid black;\">6</td><td    style=\"border: 1px solid black;\"> </td><td    style=\"border: 1px solid black;\"> </td><td    style=\"border: 1px solid black;\"> </td><td    style=\"border: 1px solid black;\"> </td><td    style=\"border: 1px solid black;\"> </td><td    style=\"border: 1px solid black;\"> </td><td    style=\"border: 1px solid black;\"> </td><td    style=\"border: 1px solid black;\">♔</td></tr>\n",
       "<tr><td    style=\"border: 1px solid black;\">7</td><td    style=\"border: 1px solid black;\"> </td><td    style=\"border: 1px solid black;\"> </td><td    style=\"border: 1px solid black;\"> </td><td    style=\"border: 1px solid black;\"> </td><td    style=\"border: 1px solid black;\"> </td><td    style=\"border: 1px solid black;\"> </td><td    style=\"border: 1px solid black;\"> </td><td    style=\"border: 1px solid black;\"> </td></tr>\n",
       "<tr><td    style=\"border: 1px solid black;\">8</td><td    style=\"border: 1px solid black;\"> </td><td    style=\"border: 1px solid black;\"> </td><td    style=\"border: 1px solid black;\"> </td><td    style=\"border: 1px solid black;\"> </td><td    style=\"border: 1px solid black;\"> </td><td    style=\"border: 1px solid black;\"> </td><td    style=\"border: 1px solid black;\"> </td><td    style=\"border: 1px solid black;\"> </td></tr>\n",
       "<tr><td    style=\"border: 1px solid black;\"> </td><td    style=\"border: 1px solid black;\">a</td><td    style=\"border: 1px solid black;\">b</td><td    style=\"border: 1px solid black;\">c</td><td    style=\"border: 1px solid black;\">d</td><td    style=\"border: 1px solid black;\">e</td><td    style=\"border: 1px solid black;\">f</td><td    style=\"border: 1px solid black;\">g</td><td    style=\"border: 1px solid black;\">h</td></tr>\n",
       "</tbody>\n",
       "</table>"
      ],
      "text/plain": [
       "<IPython.core.display.HTML object>"
      ]
     },
     "metadata": {},
     "output_type": "display_data"
    },
    {
     "data": {
      "text/html": [
       "<table style=\"border: 2px solid black;\">\n",
       "<tbody>\n",
       "<tr><td    style=\"border: 1px solid black;\">1</td><td    style=\"border: 1px solid black;\"> </td><td    style=\"border: 1px solid black;\"> </td><td    style=\"border: 1px solid black;\"> </td><td    style=\"border: 1px solid black;\"> </td><td    style=\"border: 1px solid black;\"> </td><td    style=\"border: 1px solid black;\"> </td><td    style=\"border: 1px solid black;\"> </td><td    style=\"border: 1px solid black;\"> </td></tr>\n",
       "<tr><td    style=\"border: 1px solid black;\">2</td><td    style=\"border: 1px solid black;\"> </td><td    style=\"border: 1px solid black;\"> </td><td    style=\"border: 1px solid black;\"> </td><td    style=\"border: 1px solid black;\"> </td><td    style=\"border: 1px solid black;\"> </td><td    style=\"border: 1px solid black;\"> </td><td    style=\"border: 1px solid black;\"> </td><td    style=\"border: 1px solid black;\"> </td></tr>\n",
       "<tr><td    style=\"border: 1px solid black;\">3</td><td    style=\"border: 1px solid black;\"> </td><td    style=\"border: 1px solid black;\"> </td><td    style=\"border: 1px solid black;\"> </td><td    style=\"border: 1px solid black;\"> </td><td    style=\"border: 1px solid black;\"> </td><td    style=\"border: 1px solid black;\"> </td><td    style=\"border: 1px solid black;\"> </td><td    style=\"border: 1px solid black;\"> </td></tr>\n",
       "<tr><td    style=\"border: 1px solid black;\">4</td><td    style=\"border: 1px solid black;\">♖</td><td    style=\"border: 1px solid black;\"> </td><td    style=\"border: 1px solid black;\"> </td><td    style=\"border: 1px solid black;\">♚</td><td    style=\"border: 1px solid black;\"> </td><td    style=\"border: 1px solid black;\"> </td><td    style=\"border: 1px solid black;\"> </td><td    style=\"border: 1px solid black;\"> </td></tr>\n",
       "<tr><td    style=\"border: 1px solid black;\">5</td><td    style=\"border: 1px solid black;\"> </td><td    style=\"border: 1px solid black;\"> </td><td    style=\"border: 1px solid black;\"> </td><td    style=\"border: 1px solid black;\"> </td><td    style=\"border: 1px solid black;\"> </td><td    style=\"border: 1px solid black;\"> </td><td    style=\"border: 1px solid black;\">♔</td><td    style=\"border: 1px solid black;\"> </td></tr>\n",
       "<tr><td    style=\"border: 1px solid black;\">6</td><td    style=\"border: 1px solid black;\"> </td><td    style=\"border: 1px solid black;\"> </td><td    style=\"border: 1px solid black;\"> </td><td    style=\"border: 1px solid black;\"> </td><td    style=\"border: 1px solid black;\"> </td><td    style=\"border: 1px solid black;\"> </td><td    style=\"border: 1px solid black;\"> </td><td    style=\"border: 1px solid black;\"> </td></tr>\n",
       "<tr><td    style=\"border: 1px solid black;\">7</td><td    style=\"border: 1px solid black;\"> </td><td    style=\"border: 1px solid black;\"> </td><td    style=\"border: 1px solid black;\"> </td><td    style=\"border: 1px solid black;\"> </td><td    style=\"border: 1px solid black;\"> </td><td    style=\"border: 1px solid black;\"> </td><td    style=\"border: 1px solid black;\"> </td><td    style=\"border: 1px solid black;\"> </td></tr>\n",
       "<tr><td    style=\"border: 1px solid black;\">8</td><td    style=\"border: 1px solid black;\"> </td><td    style=\"border: 1px solid black;\"> </td><td    style=\"border: 1px solid black;\"> </td><td    style=\"border: 1px solid black;\"> </td><td    style=\"border: 1px solid black;\"> </td><td    style=\"border: 1px solid black;\"> </td><td    style=\"border: 1px solid black;\"> </td><td    style=\"border: 1px solid black;\"> </td></tr>\n",
       "<tr><td    style=\"border: 1px solid black;\"> </td><td    style=\"border: 1px solid black;\">a</td><td    style=\"border: 1px solid black;\">b</td><td    style=\"border: 1px solid black;\">c</td><td    style=\"border: 1px solid black;\">d</td><td    style=\"border: 1px solid black;\">e</td><td    style=\"border: 1px solid black;\">f</td><td    style=\"border: 1px solid black;\">g</td><td    style=\"border: 1px solid black;\">h</td></tr>\n",
       "</tbody>\n",
       "</table>"
      ],
      "text/plain": [
       "<IPython.core.display.HTML object>"
      ]
     },
     "metadata": {},
     "output_type": "display_data"
    },
    {
     "data": {
      "text/html": [
       "<table style=\"border: 2px solid black;\">\n",
       "<tbody>\n",
       "<tr><td    style=\"border: 1px solid black;\">1</td><td    style=\"border: 1px solid black;\"> </td><td    style=\"border: 1px solid black;\"> </td><td    style=\"border: 1px solid black;\"> </td><td    style=\"border: 1px solid black;\"> </td><td    style=\"border: 1px solid black;\"> </td><td    style=\"border: 1px solid black;\"> </td><td    style=\"border: 1px solid black;\"> </td><td    style=\"border: 1px solid black;\"> </td></tr>\n",
       "<tr><td    style=\"border: 1px solid black;\">2</td><td    style=\"border: 1px solid black;\"> </td><td    style=\"border: 1px solid black;\"> </td><td    style=\"border: 1px solid black;\"> </td><td    style=\"border: 1px solid black;\"> </td><td    style=\"border: 1px solid black;\"> </td><td    style=\"border: 1px solid black;\"> </td><td    style=\"border: 1px solid black;\"> </td><td    style=\"border: 1px solid black;\"> </td></tr>\n",
       "<tr><td    style=\"border: 1px solid black;\">3</td><td    style=\"border: 1px solid black;\"> </td><td    style=\"border: 1px solid black;\"> </td><td    style=\"border: 1px solid black;\">♚</td><td    style=\"border: 1px solid black;\"> </td><td    style=\"border: 1px solid black;\"> </td><td    style=\"border: 1px solid black;\"> </td><td    style=\"border: 1px solid black;\"> </td><td    style=\"border: 1px solid black;\"> </td></tr>\n",
       "<tr><td    style=\"border: 1px solid black;\">4</td><td    style=\"border: 1px solid black;\">♖</td><td    style=\"border: 1px solid black;\"> </td><td    style=\"border: 1px solid black;\"> </td><td    style=\"border: 1px solid black;\"> </td><td    style=\"border: 1px solid black;\"> </td><td    style=\"border: 1px solid black;\"> </td><td    style=\"border: 1px solid black;\"> </td><td    style=\"border: 1px solid black;\"> </td></tr>\n",
       "<tr><td    style=\"border: 1px solid black;\">5</td><td    style=\"border: 1px solid black;\"> </td><td    style=\"border: 1px solid black;\"> </td><td    style=\"border: 1px solid black;\"> </td><td    style=\"border: 1px solid black;\"> </td><td    style=\"border: 1px solid black;\"> </td><td    style=\"border: 1px solid black;\"> </td><td    style=\"border: 1px solid black;\">♔</td><td    style=\"border: 1px solid black;\"> </td></tr>\n",
       "<tr><td    style=\"border: 1px solid black;\">6</td><td    style=\"border: 1px solid black;\"> </td><td    style=\"border: 1px solid black;\"> </td><td    style=\"border: 1px solid black;\"> </td><td    style=\"border: 1px solid black;\"> </td><td    style=\"border: 1px solid black;\"> </td><td    style=\"border: 1px solid black;\"> </td><td    style=\"border: 1px solid black;\"> </td><td    style=\"border: 1px solid black;\"> </td></tr>\n",
       "<tr><td    style=\"border: 1px solid black;\">7</td><td    style=\"border: 1px solid black;\"> </td><td    style=\"border: 1px solid black;\"> </td><td    style=\"border: 1px solid black;\"> </td><td    style=\"border: 1px solid black;\"> </td><td    style=\"border: 1px solid black;\"> </td><td    style=\"border: 1px solid black;\"> </td><td    style=\"border: 1px solid black;\"> </td><td    style=\"border: 1px solid black;\"> </td></tr>\n",
       "<tr><td    style=\"border: 1px solid black;\">8</td><td    style=\"border: 1px solid black;\"> </td><td    style=\"border: 1px solid black;\"> </td><td    style=\"border: 1px solid black;\"> </td><td    style=\"border: 1px solid black;\"> </td><td    style=\"border: 1px solid black;\"> </td><td    style=\"border: 1px solid black;\"> </td><td    style=\"border: 1px solid black;\"> </td><td    style=\"border: 1px solid black;\"> </td></tr>\n",
       "<tr><td    style=\"border: 1px solid black;\"> </td><td    style=\"border: 1px solid black;\">a</td><td    style=\"border: 1px solid black;\">b</td><td    style=\"border: 1px solid black;\">c</td><td    style=\"border: 1px solid black;\">d</td><td    style=\"border: 1px solid black;\">e</td><td    style=\"border: 1px solid black;\">f</td><td    style=\"border: 1px solid black;\">g</td><td    style=\"border: 1px solid black;\">h</td></tr>\n",
       "</tbody>\n",
       "</table>"
      ],
      "text/plain": [
       "<IPython.core.display.HTML object>"
      ]
     },
     "metadata": {},
     "output_type": "display_data"
    },
    {
     "data": {
      "text/html": [
       "<table style=\"border: 2px solid black;\">\n",
       "<tbody>\n",
       "<tr><td    style=\"border: 1px solid black;\">1</td><td    style=\"border: 1px solid black;\"> </td><td    style=\"border: 1px solid black;\"> </td><td    style=\"border: 1px solid black;\"> </td><td    style=\"border: 1px solid black;\"> </td><td    style=\"border: 1px solid black;\"> </td><td    style=\"border: 1px solid black;\"> </td><td    style=\"border: 1px solid black;\"> </td><td    style=\"border: 1px solid black;\"> </td></tr>\n",
       "<tr><td    style=\"border: 1px solid black;\">2</td><td    style=\"border: 1px solid black;\"> </td><td    style=\"border: 1px solid black;\"> </td><td    style=\"border: 1px solid black;\"> </td><td    style=\"border: 1px solid black;\"> </td><td    style=\"border: 1px solid black;\"> </td><td    style=\"border: 1px solid black;\"> </td><td    style=\"border: 1px solid black;\"> </td><td    style=\"border: 1px solid black;\"> </td></tr>\n",
       "<tr><td    style=\"border: 1px solid black;\">3</td><td    style=\"border: 1px solid black;\"> </td><td    style=\"border: 1px solid black;\"> </td><td    style=\"border: 1px solid black;\">♚</td><td    style=\"border: 1px solid black;\"> </td><td    style=\"border: 1px solid black;\"> </td><td    style=\"border: 1px solid black;\"> </td><td    style=\"border: 1px solid black;\"> </td><td    style=\"border: 1px solid black;\"> </td></tr>\n",
       "<tr><td    style=\"border: 1px solid black;\">4</td><td    style=\"border: 1px solid black;\">♖</td><td    style=\"border: 1px solid black;\"> </td><td    style=\"border: 1px solid black;\"> </td><td    style=\"border: 1px solid black;\"> </td><td    style=\"border: 1px solid black;\"> </td><td    style=\"border: 1px solid black;\">♔</td><td    style=\"border: 1px solid black;\"> </td><td    style=\"border: 1px solid black;\"> </td></tr>\n",
       "<tr><td    style=\"border: 1px solid black;\">5</td><td    style=\"border: 1px solid black;\"> </td><td    style=\"border: 1px solid black;\"> </td><td    style=\"border: 1px solid black;\"> </td><td    style=\"border: 1px solid black;\"> </td><td    style=\"border: 1px solid black;\"> </td><td    style=\"border: 1px solid black;\"> </td><td    style=\"border: 1px solid black;\"> </td><td    style=\"border: 1px solid black;\"> </td></tr>\n",
       "<tr><td    style=\"border: 1px solid black;\">6</td><td    style=\"border: 1px solid black;\"> </td><td    style=\"border: 1px solid black;\"> </td><td    style=\"border: 1px solid black;\"> </td><td    style=\"border: 1px solid black;\"> </td><td    style=\"border: 1px solid black;\"> </td><td    style=\"border: 1px solid black;\"> </td><td    style=\"border: 1px solid black;\"> </td><td    style=\"border: 1px solid black;\"> </td></tr>\n",
       "<tr><td    style=\"border: 1px solid black;\">7</td><td    style=\"border: 1px solid black;\"> </td><td    style=\"border: 1px solid black;\"> </td><td    style=\"border: 1px solid black;\"> </td><td    style=\"border: 1px solid black;\"> </td><td    style=\"border: 1px solid black;\"> </td><td    style=\"border: 1px solid black;\"> </td><td    style=\"border: 1px solid black;\"> </td><td    style=\"border: 1px solid black;\"> </td></tr>\n",
       "<tr><td    style=\"border: 1px solid black;\">8</td><td    style=\"border: 1px solid black;\"> </td><td    style=\"border: 1px solid black;\"> </td><td    style=\"border: 1px solid black;\"> </td><td    style=\"border: 1px solid black;\"> </td><td    style=\"border: 1px solid black;\"> </td><td    style=\"border: 1px solid black;\"> </td><td    style=\"border: 1px solid black;\"> </td><td    style=\"border: 1px solid black;\"> </td></tr>\n",
       "<tr><td    style=\"border: 1px solid black;\"> </td><td    style=\"border: 1px solid black;\">a</td><td    style=\"border: 1px solid black;\">b</td><td    style=\"border: 1px solid black;\">c</td><td    style=\"border: 1px solid black;\">d</td><td    style=\"border: 1px solid black;\">e</td><td    style=\"border: 1px solid black;\">f</td><td    style=\"border: 1px solid black;\">g</td><td    style=\"border: 1px solid black;\">h</td></tr>\n",
       "</tbody>\n",
       "</table>"
      ],
      "text/plain": [
       "<IPython.core.display.HTML object>"
      ]
     },
     "metadata": {},
     "output_type": "display_data"
    },
    {
     "data": {
      "text/html": [
       "<table style=\"border: 2px solid black;\">\n",
       "<tbody>\n",
       "<tr><td    style=\"border: 1px solid black;\">1</td><td    style=\"border: 1px solid black;\"> </td><td    style=\"border: 1px solid black;\"> </td><td    style=\"border: 1px solid black;\"> </td><td    style=\"border: 1px solid black;\"> </td><td    style=\"border: 1px solid black;\"> </td><td    style=\"border: 1px solid black;\"> </td><td    style=\"border: 1px solid black;\"> </td><td    style=\"border: 1px solid black;\"> </td></tr>\n",
       "<tr><td    style=\"border: 1px solid black;\">2</td><td    style=\"border: 1px solid black;\"> </td><td    style=\"border: 1px solid black;\">♚</td><td    style=\"border: 1px solid black;\"> </td><td    style=\"border: 1px solid black;\"> </td><td    style=\"border: 1px solid black;\"> </td><td    style=\"border: 1px solid black;\"> </td><td    style=\"border: 1px solid black;\"> </td><td    style=\"border: 1px solid black;\"> </td></tr>\n",
       "<tr><td    style=\"border: 1px solid black;\">3</td><td    style=\"border: 1px solid black;\"> </td><td    style=\"border: 1px solid black;\"> </td><td    style=\"border: 1px solid black;\"> </td><td    style=\"border: 1px solid black;\"> </td><td    style=\"border: 1px solid black;\"> </td><td    style=\"border: 1px solid black;\"> </td><td    style=\"border: 1px solid black;\"> </td><td    style=\"border: 1px solid black;\"> </td></tr>\n",
       "<tr><td    style=\"border: 1px solid black;\">4</td><td    style=\"border: 1px solid black;\">♖</td><td    style=\"border: 1px solid black;\"> </td><td    style=\"border: 1px solid black;\"> </td><td    style=\"border: 1px solid black;\"> </td><td    style=\"border: 1px solid black;\"> </td><td    style=\"border: 1px solid black;\">♔</td><td    style=\"border: 1px solid black;\"> </td><td    style=\"border: 1px solid black;\"> </td></tr>\n",
       "<tr><td    style=\"border: 1px solid black;\">5</td><td    style=\"border: 1px solid black;\"> </td><td    style=\"border: 1px solid black;\"> </td><td    style=\"border: 1px solid black;\"> </td><td    style=\"border: 1px solid black;\"> </td><td    style=\"border: 1px solid black;\"> </td><td    style=\"border: 1px solid black;\"> </td><td    style=\"border: 1px solid black;\"> </td><td    style=\"border: 1px solid black;\"> </td></tr>\n",
       "<tr><td    style=\"border: 1px solid black;\">6</td><td    style=\"border: 1px solid black;\"> </td><td    style=\"border: 1px solid black;\"> </td><td    style=\"border: 1px solid black;\"> </td><td    style=\"border: 1px solid black;\"> </td><td    style=\"border: 1px solid black;\"> </td><td    style=\"border: 1px solid black;\"> </td><td    style=\"border: 1px solid black;\"> </td><td    style=\"border: 1px solid black;\"> </td></tr>\n",
       "<tr><td    style=\"border: 1px solid black;\">7</td><td    style=\"border: 1px solid black;\"> </td><td    style=\"border: 1px solid black;\"> </td><td    style=\"border: 1px solid black;\"> </td><td    style=\"border: 1px solid black;\"> </td><td    style=\"border: 1px solid black;\"> </td><td    style=\"border: 1px solid black;\"> </td><td    style=\"border: 1px solid black;\"> </td><td    style=\"border: 1px solid black;\"> </td></tr>\n",
       "<tr><td    style=\"border: 1px solid black;\">8</td><td    style=\"border: 1px solid black;\"> </td><td    style=\"border: 1px solid black;\"> </td><td    style=\"border: 1px solid black;\"> </td><td    style=\"border: 1px solid black;\"> </td><td    style=\"border: 1px solid black;\"> </td><td    style=\"border: 1px solid black;\"> </td><td    style=\"border: 1px solid black;\"> </td><td    style=\"border: 1px solid black;\"> </td></tr>\n",
       "<tr><td    style=\"border: 1px solid black;\"> </td><td    style=\"border: 1px solid black;\">a</td><td    style=\"border: 1px solid black;\">b</td><td    style=\"border: 1px solid black;\">c</td><td    style=\"border: 1px solid black;\">d</td><td    style=\"border: 1px solid black;\">e</td><td    style=\"border: 1px solid black;\">f</td><td    style=\"border: 1px solid black;\">g</td><td    style=\"border: 1px solid black;\">h</td></tr>\n",
       "</tbody>\n",
       "</table>"
      ],
      "text/plain": [
       "<IPython.core.display.HTML object>"
      ]
     },
     "metadata": {},
     "output_type": "display_data"
    },
    {
     "data": {
      "text/html": [
       "<table style=\"border: 2px solid black;\">\n",
       "<tbody>\n",
       "<tr><td    style=\"border: 1px solid black;\">1</td><td    style=\"border: 1px solid black;\"> </td><td    style=\"border: 1px solid black;\"> </td><td    style=\"border: 1px solid black;\"> </td><td    style=\"border: 1px solid black;\"> </td><td    style=\"border: 1px solid black;\"> </td><td    style=\"border: 1px solid black;\"> </td><td    style=\"border: 1px solid black;\"> </td><td    style=\"border: 1px solid black;\"> </td></tr>\n",
       "<tr><td    style=\"border: 1px solid black;\">2</td><td    style=\"border: 1px solid black;\"> </td><td    style=\"border: 1px solid black;\">♚</td><td    style=\"border: 1px solid black;\"> </td><td    style=\"border: 1px solid black;\"> </td><td    style=\"border: 1px solid black;\"> </td><td    style=\"border: 1px solid black;\"> </td><td    style=\"border: 1px solid black;\"> </td><td    style=\"border: 1px solid black;\"> </td></tr>\n",
       "<tr><td    style=\"border: 1px solid black;\">3</td><td    style=\"border: 1px solid black;\"> </td><td    style=\"border: 1px solid black;\"> </td><td    style=\"border: 1px solid black;\"> </td><td    style=\"border: 1px solid black;\"> </td><td    style=\"border: 1px solid black;\">♔</td><td    style=\"border: 1px solid black;\"> </td><td    style=\"border: 1px solid black;\"> </td><td    style=\"border: 1px solid black;\"> </td></tr>\n",
       "<tr><td    style=\"border: 1px solid black;\">4</td><td    style=\"border: 1px solid black;\">♖</td><td    style=\"border: 1px solid black;\"> </td><td    style=\"border: 1px solid black;\"> </td><td    style=\"border: 1px solid black;\"> </td><td    style=\"border: 1px solid black;\"> </td><td    style=\"border: 1px solid black;\"> </td><td    style=\"border: 1px solid black;\"> </td><td    style=\"border: 1px solid black;\"> </td></tr>\n",
       "<tr><td    style=\"border: 1px solid black;\">5</td><td    style=\"border: 1px solid black;\"> </td><td    style=\"border: 1px solid black;\"> </td><td    style=\"border: 1px solid black;\"> </td><td    style=\"border: 1px solid black;\"> </td><td    style=\"border: 1px solid black;\"> </td><td    style=\"border: 1px solid black;\"> </td><td    style=\"border: 1px solid black;\"> </td><td    style=\"border: 1px solid black;\"> </td></tr>\n",
       "<tr><td    style=\"border: 1px solid black;\">6</td><td    style=\"border: 1px solid black;\"> </td><td    style=\"border: 1px solid black;\"> </td><td    style=\"border: 1px solid black;\"> </td><td    style=\"border: 1px solid black;\"> </td><td    style=\"border: 1px solid black;\"> </td><td    style=\"border: 1px solid black;\"> </td><td    style=\"border: 1px solid black;\"> </td><td    style=\"border: 1px solid black;\"> </td></tr>\n",
       "<tr><td    style=\"border: 1px solid black;\">7</td><td    style=\"border: 1px solid black;\"> </td><td    style=\"border: 1px solid black;\"> </td><td    style=\"border: 1px solid black;\"> </td><td    style=\"border: 1px solid black;\"> </td><td    style=\"border: 1px solid black;\"> </td><td    style=\"border: 1px solid black;\"> </td><td    style=\"border: 1px solid black;\"> </td><td    style=\"border: 1px solid black;\"> </td></tr>\n",
       "<tr><td    style=\"border: 1px solid black;\">8</td><td    style=\"border: 1px solid black;\"> </td><td    style=\"border: 1px solid black;\"> </td><td    style=\"border: 1px solid black;\"> </td><td    style=\"border: 1px solid black;\"> </td><td    style=\"border: 1px solid black;\"> </td><td    style=\"border: 1px solid black;\"> </td><td    style=\"border: 1px solid black;\"> </td><td    style=\"border: 1px solid black;\"> </td></tr>\n",
       "<tr><td    style=\"border: 1px solid black;\"> </td><td    style=\"border: 1px solid black;\">a</td><td    style=\"border: 1px solid black;\">b</td><td    style=\"border: 1px solid black;\">c</td><td    style=\"border: 1px solid black;\">d</td><td    style=\"border: 1px solid black;\">e</td><td    style=\"border: 1px solid black;\">f</td><td    style=\"border: 1px solid black;\">g</td><td    style=\"border: 1px solid black;\">h</td></tr>\n",
       "</tbody>\n",
       "</table>"
      ],
      "text/plain": [
       "<IPython.core.display.HTML object>"
      ]
     },
     "metadata": {},
     "output_type": "display_data"
    },
    {
     "data": {
      "text/html": [
       "<table style=\"border: 2px solid black;\">\n",
       "<tbody>\n",
       "<tr><td    style=\"border: 1px solid black;\">1</td><td    style=\"border: 1px solid black;\"> </td><td    style=\"border: 1px solid black;\"> </td><td    style=\"border: 1px solid black;\">♚</td><td    style=\"border: 1px solid black;\"> </td><td    style=\"border: 1px solid black;\"> </td><td    style=\"border: 1px solid black;\"> </td><td    style=\"border: 1px solid black;\"> </td><td    style=\"border: 1px solid black;\"> </td></tr>\n",
       "<tr><td    style=\"border: 1px solid black;\">2</td><td    style=\"border: 1px solid black;\"> </td><td    style=\"border: 1px solid black;\"> </td><td    style=\"border: 1px solid black;\"> </td><td    style=\"border: 1px solid black;\"> </td><td    style=\"border: 1px solid black;\"> </td><td    style=\"border: 1px solid black;\"> </td><td    style=\"border: 1px solid black;\"> </td><td    style=\"border: 1px solid black;\"> </td></tr>\n",
       "<tr><td    style=\"border: 1px solid black;\">3</td><td    style=\"border: 1px solid black;\"> </td><td    style=\"border: 1px solid black;\"> </td><td    style=\"border: 1px solid black;\"> </td><td    style=\"border: 1px solid black;\"> </td><td    style=\"border: 1px solid black;\">♔</td><td    style=\"border: 1px solid black;\"> </td><td    style=\"border: 1px solid black;\"> </td><td    style=\"border: 1px solid black;\"> </td></tr>\n",
       "<tr><td    style=\"border: 1px solid black;\">4</td><td    style=\"border: 1px solid black;\">♖</td><td    style=\"border: 1px solid black;\"> </td><td    style=\"border: 1px solid black;\"> </td><td    style=\"border: 1px solid black;\"> </td><td    style=\"border: 1px solid black;\"> </td><td    style=\"border: 1px solid black;\"> </td><td    style=\"border: 1px solid black;\"> </td><td    style=\"border: 1px solid black;\"> </td></tr>\n",
       "<tr><td    style=\"border: 1px solid black;\">5</td><td    style=\"border: 1px solid black;\"> </td><td    style=\"border: 1px solid black;\"> </td><td    style=\"border: 1px solid black;\"> </td><td    style=\"border: 1px solid black;\"> </td><td    style=\"border: 1px solid black;\"> </td><td    style=\"border: 1px solid black;\"> </td><td    style=\"border: 1px solid black;\"> </td><td    style=\"border: 1px solid black;\"> </td></tr>\n",
       "<tr><td    style=\"border: 1px solid black;\">6</td><td    style=\"border: 1px solid black;\"> </td><td    style=\"border: 1px solid black;\"> </td><td    style=\"border: 1px solid black;\"> </td><td    style=\"border: 1px solid black;\"> </td><td    style=\"border: 1px solid black;\"> </td><td    style=\"border: 1px solid black;\"> </td><td    style=\"border: 1px solid black;\"> </td><td    style=\"border: 1px solid black;\"> </td></tr>\n",
       "<tr><td    style=\"border: 1px solid black;\">7</td><td    style=\"border: 1px solid black;\"> </td><td    style=\"border: 1px solid black;\"> </td><td    style=\"border: 1px solid black;\"> </td><td    style=\"border: 1px solid black;\"> </td><td    style=\"border: 1px solid black;\"> </td><td    style=\"border: 1px solid black;\"> </td><td    style=\"border: 1px solid black;\"> </td><td    style=\"border: 1px solid black;\"> </td></tr>\n",
       "<tr><td    style=\"border: 1px solid black;\">8</td><td    style=\"border: 1px solid black;\"> </td><td    style=\"border: 1px solid black;\"> </td><td    style=\"border: 1px solid black;\"> </td><td    style=\"border: 1px solid black;\"> </td><td    style=\"border: 1px solid black;\"> </td><td    style=\"border: 1px solid black;\"> </td><td    style=\"border: 1px solid black;\"> </td><td    style=\"border: 1px solid black;\"> </td></tr>\n",
       "<tr><td    style=\"border: 1px solid black;\"> </td><td    style=\"border: 1px solid black;\">a</td><td    style=\"border: 1px solid black;\">b</td><td    style=\"border: 1px solid black;\">c</td><td    style=\"border: 1px solid black;\">d</td><td    style=\"border: 1px solid black;\">e</td><td    style=\"border: 1px solid black;\">f</td><td    style=\"border: 1px solid black;\">g</td><td    style=\"border: 1px solid black;\">h</td></tr>\n",
       "</tbody>\n",
       "</table>"
      ],
      "text/plain": [
       "<IPython.core.display.HTML object>"
      ]
     },
     "metadata": {},
     "output_type": "display_data"
    },
    {
     "data": {
      "text/html": [
       "<table style=\"border: 2px solid black;\">\n",
       "<tbody>\n",
       "<tr><td    style=\"border: 1px solid black;\">1</td><td    style=\"border: 1px solid black;\"> </td><td    style=\"border: 1px solid black;\"> </td><td    style=\"border: 1px solid black;\">♚</td><td    style=\"border: 1px solid black;\"> </td><td    style=\"border: 1px solid black;\"> </td><td    style=\"border: 1px solid black;\"> </td><td    style=\"border: 1px solid black;\"> </td><td    style=\"border: 1px solid black;\"> </td></tr>\n",
       "<tr><td    style=\"border: 1px solid black;\">2</td><td    style=\"border: 1px solid black;\"> </td><td    style=\"border: 1px solid black;\"> </td><td    style=\"border: 1px solid black;\"> </td><td    style=\"border: 1px solid black;\"> </td><td    style=\"border: 1px solid black;\"> </td><td    style=\"border: 1px solid black;\"> </td><td    style=\"border: 1px solid black;\"> </td><td    style=\"border: 1px solid black;\"> </td></tr>\n",
       "<tr><td    style=\"border: 1px solid black;\">3</td><td    style=\"border: 1px solid black;\"> </td><td    style=\"border: 1px solid black;\"> </td><td    style=\"border: 1px solid black;\"> </td><td    style=\"border: 1px solid black;\">♔</td><td    style=\"border: 1px solid black;\"> </td><td    style=\"border: 1px solid black;\"> </td><td    style=\"border: 1px solid black;\"> </td><td    style=\"border: 1px solid black;\"> </td></tr>\n",
       "<tr><td    style=\"border: 1px solid black;\">4</td><td    style=\"border: 1px solid black;\">♖</td><td    style=\"border: 1px solid black;\"> </td><td    style=\"border: 1px solid black;\"> </td><td    style=\"border: 1px solid black;\"> </td><td    style=\"border: 1px solid black;\"> </td><td    style=\"border: 1px solid black;\"> </td><td    style=\"border: 1px solid black;\"> </td><td    style=\"border: 1px solid black;\"> </td></tr>\n",
       "<tr><td    style=\"border: 1px solid black;\">5</td><td    style=\"border: 1px solid black;\"> </td><td    style=\"border: 1px solid black;\"> </td><td    style=\"border: 1px solid black;\"> </td><td    style=\"border: 1px solid black;\"> </td><td    style=\"border: 1px solid black;\"> </td><td    style=\"border: 1px solid black;\"> </td><td    style=\"border: 1px solid black;\"> </td><td    style=\"border: 1px solid black;\"> </td></tr>\n",
       "<tr><td    style=\"border: 1px solid black;\">6</td><td    style=\"border: 1px solid black;\"> </td><td    style=\"border: 1px solid black;\"> </td><td    style=\"border: 1px solid black;\"> </td><td    style=\"border: 1px solid black;\"> </td><td    style=\"border: 1px solid black;\"> </td><td    style=\"border: 1px solid black;\"> </td><td    style=\"border: 1px solid black;\"> </td><td    style=\"border: 1px solid black;\"> </td></tr>\n",
       "<tr><td    style=\"border: 1px solid black;\">7</td><td    style=\"border: 1px solid black;\"> </td><td    style=\"border: 1px solid black;\"> </td><td    style=\"border: 1px solid black;\"> </td><td    style=\"border: 1px solid black;\"> </td><td    style=\"border: 1px solid black;\"> </td><td    style=\"border: 1px solid black;\"> </td><td    style=\"border: 1px solid black;\"> </td><td    style=\"border: 1px solid black;\"> </td></tr>\n",
       "<tr><td    style=\"border: 1px solid black;\">8</td><td    style=\"border: 1px solid black;\"> </td><td    style=\"border: 1px solid black;\"> </td><td    style=\"border: 1px solid black;\"> </td><td    style=\"border: 1px solid black;\"> </td><td    style=\"border: 1px solid black;\"> </td><td    style=\"border: 1px solid black;\"> </td><td    style=\"border: 1px solid black;\"> </td><td    style=\"border: 1px solid black;\"> </td></tr>\n",
       "<tr><td    style=\"border: 1px solid black;\"> </td><td    style=\"border: 1px solid black;\">a</td><td    style=\"border: 1px solid black;\">b</td><td    style=\"border: 1px solid black;\">c</td><td    style=\"border: 1px solid black;\">d</td><td    style=\"border: 1px solid black;\">e</td><td    style=\"border: 1px solid black;\">f</td><td    style=\"border: 1px solid black;\">g</td><td    style=\"border: 1px solid black;\">h</td></tr>\n",
       "</tbody>\n",
       "</table>"
      ],
      "text/plain": [
       "<IPython.core.display.HTML object>"
      ]
     },
     "metadata": {},
     "output_type": "display_data"
    },
    {
     "data": {
      "text/html": [
       "<table style=\"border: 2px solid black;\">\n",
       "<tbody>\n",
       "<tr><td    style=\"border: 1px solid black;\">1</td><td    style=\"border: 1px solid black;\"> </td><td    style=\"border: 1px solid black;\"> </td><td    style=\"border: 1px solid black;\"> </td><td    style=\"border: 1px solid black;\">♚</td><td    style=\"border: 1px solid black;\"> </td><td    style=\"border: 1px solid black;\"> </td><td    style=\"border: 1px solid black;\"> </td><td    style=\"border: 1px solid black;\"> </td></tr>\n",
       "<tr><td    style=\"border: 1px solid black;\">2</td><td    style=\"border: 1px solid black;\"> </td><td    style=\"border: 1px solid black;\"> </td><td    style=\"border: 1px solid black;\"> </td><td    style=\"border: 1px solid black;\"> </td><td    style=\"border: 1px solid black;\"> </td><td    style=\"border: 1px solid black;\"> </td><td    style=\"border: 1px solid black;\"> </td><td    style=\"border: 1px solid black;\"> </td></tr>\n",
       "<tr><td    style=\"border: 1px solid black;\">3</td><td    style=\"border: 1px solid black;\"> </td><td    style=\"border: 1px solid black;\"> </td><td    style=\"border: 1px solid black;\"> </td><td    style=\"border: 1px solid black;\">♔</td><td    style=\"border: 1px solid black;\"> </td><td    style=\"border: 1px solid black;\"> </td><td    style=\"border: 1px solid black;\"> </td><td    style=\"border: 1px solid black;\"> </td></tr>\n",
       "<tr><td    style=\"border: 1px solid black;\">4</td><td    style=\"border: 1px solid black;\">♖</td><td    style=\"border: 1px solid black;\"> </td><td    style=\"border: 1px solid black;\"> </td><td    style=\"border: 1px solid black;\"> </td><td    style=\"border: 1px solid black;\"> </td><td    style=\"border: 1px solid black;\"> </td><td    style=\"border: 1px solid black;\"> </td><td    style=\"border: 1px solid black;\"> </td></tr>\n",
       "<tr><td    style=\"border: 1px solid black;\">5</td><td    style=\"border: 1px solid black;\"> </td><td    style=\"border: 1px solid black;\"> </td><td    style=\"border: 1px solid black;\"> </td><td    style=\"border: 1px solid black;\"> </td><td    style=\"border: 1px solid black;\"> </td><td    style=\"border: 1px solid black;\"> </td><td    style=\"border: 1px solid black;\"> </td><td    style=\"border: 1px solid black;\"> </td></tr>\n",
       "<tr><td    style=\"border: 1px solid black;\">6</td><td    style=\"border: 1px solid black;\"> </td><td    style=\"border: 1px solid black;\"> </td><td    style=\"border: 1px solid black;\"> </td><td    style=\"border: 1px solid black;\"> </td><td    style=\"border: 1px solid black;\"> </td><td    style=\"border: 1px solid black;\"> </td><td    style=\"border: 1px solid black;\"> </td><td    style=\"border: 1px solid black;\"> </td></tr>\n",
       "<tr><td    style=\"border: 1px solid black;\">7</td><td    style=\"border: 1px solid black;\"> </td><td    style=\"border: 1px solid black;\"> </td><td    style=\"border: 1px solid black;\"> </td><td    style=\"border: 1px solid black;\"> </td><td    style=\"border: 1px solid black;\"> </td><td    style=\"border: 1px solid black;\"> </td><td    style=\"border: 1px solid black;\"> </td><td    style=\"border: 1px solid black;\"> </td></tr>\n",
       "<tr><td    style=\"border: 1px solid black;\">8</td><td    style=\"border: 1px solid black;\"> </td><td    style=\"border: 1px solid black;\"> </td><td    style=\"border: 1px solid black;\"> </td><td    style=\"border: 1px solid black;\"> </td><td    style=\"border: 1px solid black;\"> </td><td    style=\"border: 1px solid black;\"> </td><td    style=\"border: 1px solid black;\"> </td><td    style=\"border: 1px solid black;\"> </td></tr>\n",
       "<tr><td    style=\"border: 1px solid black;\"> </td><td    style=\"border: 1px solid black;\">a</td><td    style=\"border: 1px solid black;\">b</td><td    style=\"border: 1px solid black;\">c</td><td    style=\"border: 1px solid black;\">d</td><td    style=\"border: 1px solid black;\">e</td><td    style=\"border: 1px solid black;\">f</td><td    style=\"border: 1px solid black;\">g</td><td    style=\"border: 1px solid black;\">h</td></tr>\n",
       "</tbody>\n",
       "</table>"
      ],
      "text/plain": [
       "<IPython.core.display.HTML object>"
      ]
     },
     "metadata": {},
     "output_type": "display_data"
    },
    {
     "data": {
      "text/html": [
       "<table style=\"border: 2px solid black;\">\n",
       "<tbody>\n",
       "<tr><td    style=\"border: 1px solid black;\">1</td><td    style=\"border: 1px solid black;\">♖</td><td    style=\"border: 1px solid black;\"> </td><td    style=\"border: 1px solid black;\"> </td><td    style=\"border: 1px solid black;\">♚</td><td    style=\"border: 1px solid black;\"> </td><td    style=\"border: 1px solid black;\"> </td><td    style=\"border: 1px solid black;\"> </td><td    style=\"border: 1px solid black;\"> </td></tr>\n",
       "<tr><td    style=\"border: 1px solid black;\">2</td><td    style=\"border: 1px solid black;\"> </td><td    style=\"border: 1px solid black;\"> </td><td    style=\"border: 1px solid black;\"> </td><td    style=\"border: 1px solid black;\"> </td><td    style=\"border: 1px solid black;\"> </td><td    style=\"border: 1px solid black;\"> </td><td    style=\"border: 1px solid black;\"> </td><td    style=\"border: 1px solid black;\"> </td></tr>\n",
       "<tr><td    style=\"border: 1px solid black;\">3</td><td    style=\"border: 1px solid black;\"> </td><td    style=\"border: 1px solid black;\"> </td><td    style=\"border: 1px solid black;\"> </td><td    style=\"border: 1px solid black;\">♔</td><td    style=\"border: 1px solid black;\"> </td><td    style=\"border: 1px solid black;\"> </td><td    style=\"border: 1px solid black;\"> </td><td    style=\"border: 1px solid black;\"> </td></tr>\n",
       "<tr><td    style=\"border: 1px solid black;\">4</td><td    style=\"border: 1px solid black;\"> </td><td    style=\"border: 1px solid black;\"> </td><td    style=\"border: 1px solid black;\"> </td><td    style=\"border: 1px solid black;\"> </td><td    style=\"border: 1px solid black;\"> </td><td    style=\"border: 1px solid black;\"> </td><td    style=\"border: 1px solid black;\"> </td><td    style=\"border: 1px solid black;\"> </td></tr>\n",
       "<tr><td    style=\"border: 1px solid black;\">5</td><td    style=\"border: 1px solid black;\"> </td><td    style=\"border: 1px solid black;\"> </td><td    style=\"border: 1px solid black;\"> </td><td    style=\"border: 1px solid black;\"> </td><td    style=\"border: 1px solid black;\"> </td><td    style=\"border: 1px solid black;\"> </td><td    style=\"border: 1px solid black;\"> </td><td    style=\"border: 1px solid black;\"> </td></tr>\n",
       "<tr><td    style=\"border: 1px solid black;\">6</td><td    style=\"border: 1px solid black;\"> </td><td    style=\"border: 1px solid black;\"> </td><td    style=\"border: 1px solid black;\"> </td><td    style=\"border: 1px solid black;\"> </td><td    style=\"border: 1px solid black;\"> </td><td    style=\"border: 1px solid black;\"> </td><td    style=\"border: 1px solid black;\"> </td><td    style=\"border: 1px solid black;\"> </td></tr>\n",
       "<tr><td    style=\"border: 1px solid black;\">7</td><td    style=\"border: 1px solid black;\"> </td><td    style=\"border: 1px solid black;\"> </td><td    style=\"border: 1px solid black;\"> </td><td    style=\"border: 1px solid black;\"> </td><td    style=\"border: 1px solid black;\"> </td><td    style=\"border: 1px solid black;\"> </td><td    style=\"border: 1px solid black;\"> </td><td    style=\"border: 1px solid black;\"> </td></tr>\n",
       "<tr><td    style=\"border: 1px solid black;\">8</td><td    style=\"border: 1px solid black;\"> </td><td    style=\"border: 1px solid black;\"> </td><td    style=\"border: 1px solid black;\"> </td><td    style=\"border: 1px solid black;\"> </td><td    style=\"border: 1px solid black;\"> </td><td    style=\"border: 1px solid black;\"> </td><td    style=\"border: 1px solid black;\"> </td><td    style=\"border: 1px solid black;\"> </td></tr>\n",
       "<tr><td    style=\"border: 1px solid black;\"> </td><td    style=\"border: 1px solid black;\">a</td><td    style=\"border: 1px solid black;\">b</td><td    style=\"border: 1px solid black;\">c</td><td    style=\"border: 1px solid black;\">d</td><td    style=\"border: 1px solid black;\">e</td><td    style=\"border: 1px solid black;\">f</td><td    style=\"border: 1px solid black;\">g</td><td    style=\"border: 1px solid black;\">h</td></tr>\n",
       "</tbody>\n",
       "</table>"
      ],
      "text/plain": [
       "<IPython.core.display.HTML object>"
      ]
     },
     "metadata": {},
     "output_type": "display_data"
    },
    {
     "name": "stdout",
     "output_type": "stream",
     "text": [
      "We are testing black b4 f3 e8\n"
     ]
    },
    {
     "data": {
      "text/html": [
       "<table style=\"border: 2px solid black;\">\n",
       "<tbody>\n",
       "<tr><td    style=\"border: 1px solid black;\">1</td><td    style=\"border: 1px solid black;\"> </td><td    style=\"border: 1px solid black;\"> </td><td    style=\"border: 1px solid black;\"> </td><td    style=\"border: 1px solid black;\"> </td><td    style=\"border: 1px solid black;\"> </td><td    style=\"border: 1px solid black;\"> </td><td    style=\"border: 1px solid black;\"> </td><td    style=\"border: 1px solid black;\"> </td></tr>\n",
       "<tr><td    style=\"border: 1px solid black;\">2</td><td    style=\"border: 1px solid black;\"> </td><td    style=\"border: 1px solid black;\"> </td><td    style=\"border: 1px solid black;\"> </td><td    style=\"border: 1px solid black;\"> </td><td    style=\"border: 1px solid black;\"> </td><td    style=\"border: 1px solid black;\"> </td><td    style=\"border: 1px solid black;\"> </td><td    style=\"border: 1px solid black;\"> </td></tr>\n",
       "<tr><td    style=\"border: 1px solid black;\">3</td><td    style=\"border: 1px solid black;\"> </td><td    style=\"border: 1px solid black;\"> </td><td    style=\"border: 1px solid black;\"> </td><td    style=\"border: 1px solid black;\"> </td><td    style=\"border: 1px solid black;\"> </td><td    style=\"border: 1px solid black;\">♖</td><td    style=\"border: 1px solid black;\"> </td><td    style=\"border: 1px solid black;\"> </td></tr>\n",
       "<tr><td    style=\"border: 1px solid black;\">4</td><td    style=\"border: 1px solid black;\"> </td><td    style=\"border: 1px solid black;\">♔</td><td    style=\"border: 1px solid black;\"> </td><td    style=\"border: 1px solid black;\"> </td><td    style=\"border: 1px solid black;\"> </td><td    style=\"border: 1px solid black;\"> </td><td    style=\"border: 1px solid black;\"> </td><td    style=\"border: 1px solid black;\"> </td></tr>\n",
       "<tr><td    style=\"border: 1px solid black;\">5</td><td    style=\"border: 1px solid black;\"> </td><td    style=\"border: 1px solid black;\"> </td><td    style=\"border: 1px solid black;\"> </td><td    style=\"border: 1px solid black;\"> </td><td    style=\"border: 1px solid black;\"> </td><td    style=\"border: 1px solid black;\"> </td><td    style=\"border: 1px solid black;\"> </td><td    style=\"border: 1px solid black;\"> </td></tr>\n",
       "<tr><td    style=\"border: 1px solid black;\">6</td><td    style=\"border: 1px solid black;\"> </td><td    style=\"border: 1px solid black;\"> </td><td    style=\"border: 1px solid black;\"> </td><td    style=\"border: 1px solid black;\"> </td><td    style=\"border: 1px solid black;\"> </td><td    style=\"border: 1px solid black;\"> </td><td    style=\"border: 1px solid black;\"> </td><td    style=\"border: 1px solid black;\"> </td></tr>\n",
       "<tr><td    style=\"border: 1px solid black;\">7</td><td    style=\"border: 1px solid black;\"> </td><td    style=\"border: 1px solid black;\"> </td><td    style=\"border: 1px solid black;\"> </td><td    style=\"border: 1px solid black;\"> </td><td    style=\"border: 1px solid black;\"> </td><td    style=\"border: 1px solid black;\"> </td><td    style=\"border: 1px solid black;\"> </td><td    style=\"border: 1px solid black;\"> </td></tr>\n",
       "<tr><td    style=\"border: 1px solid black;\">8</td><td    style=\"border: 1px solid black;\"> </td><td    style=\"border: 1px solid black;\"> </td><td    style=\"border: 1px solid black;\"> </td><td    style=\"border: 1px solid black;\"> </td><td    style=\"border: 1px solid black;\">♚</td><td    style=\"border: 1px solid black;\"> </td><td    style=\"border: 1px solid black;\"> </td><td    style=\"border: 1px solid black;\"> </td></tr>\n",
       "<tr><td    style=\"border: 1px solid black;\"> </td><td    style=\"border: 1px solid black;\">a</td><td    style=\"border: 1px solid black;\">b</td><td    style=\"border: 1px solid black;\">c</td><td    style=\"border: 1px solid black;\">d</td><td    style=\"border: 1px solid black;\">e</td><td    style=\"border: 1px solid black;\">f</td><td    style=\"border: 1px solid black;\">g</td><td    style=\"border: 1px solid black;\">h</td></tr>\n",
       "</tbody>\n",
       "</table>"
      ],
      "text/plain": [
       "<IPython.core.display.HTML object>"
      ]
     },
     "metadata": {},
     "output_type": "display_data"
    },
    {
     "data": {
      "text/html": [
       "<table style=\"border: 2px solid black;\">\n",
       "<tbody>\n",
       "<tr><td    style=\"border: 1px solid black;\">1</td><td    style=\"border: 1px solid black;\"> </td><td    style=\"border: 1px solid black;\"> </td><td    style=\"border: 1px solid black;\"> </td><td    style=\"border: 1px solid black;\"> </td><td    style=\"border: 1px solid black;\"> </td><td    style=\"border: 1px solid black;\"> </td><td    style=\"border: 1px solid black;\"> </td><td    style=\"border: 1px solid black;\"> </td></tr>\n",
       "<tr><td    style=\"border: 1px solid black;\">2</td><td    style=\"border: 1px solid black;\"> </td><td    style=\"border: 1px solid black;\"> </td><td    style=\"border: 1px solid black;\"> </td><td    style=\"border: 1px solid black;\"> </td><td    style=\"border: 1px solid black;\"> </td><td    style=\"border: 1px solid black;\"> </td><td    style=\"border: 1px solid black;\"> </td><td    style=\"border: 1px solid black;\"> </td></tr>\n",
       "<tr><td    style=\"border: 1px solid black;\">3</td><td    style=\"border: 1px solid black;\"> </td><td    style=\"border: 1px solid black;\"> </td><td    style=\"border: 1px solid black;\"> </td><td    style=\"border: 1px solid black;\"> </td><td    style=\"border: 1px solid black;\"> </td><td    style=\"border: 1px solid black;\">♖</td><td    style=\"border: 1px solid black;\"> </td><td    style=\"border: 1px solid black;\"> </td></tr>\n",
       "<tr><td    style=\"border: 1px solid black;\">4</td><td    style=\"border: 1px solid black;\"> </td><td    style=\"border: 1px solid black;\">♔</td><td    style=\"border: 1px solid black;\"> </td><td    style=\"border: 1px solid black;\"> </td><td    style=\"border: 1px solid black;\"> </td><td    style=\"border: 1px solid black;\"> </td><td    style=\"border: 1px solid black;\"> </td><td    style=\"border: 1px solid black;\"> </td></tr>\n",
       "<tr><td    style=\"border: 1px solid black;\">5</td><td    style=\"border: 1px solid black;\"> </td><td    style=\"border: 1px solid black;\"> </td><td    style=\"border: 1px solid black;\"> </td><td    style=\"border: 1px solid black;\"> </td><td    style=\"border: 1px solid black;\"> </td><td    style=\"border: 1px solid black;\"> </td><td    style=\"border: 1px solid black;\"> </td><td    style=\"border: 1px solid black;\"> </td></tr>\n",
       "<tr><td    style=\"border: 1px solid black;\">6</td><td    style=\"border: 1px solid black;\"> </td><td    style=\"border: 1px solid black;\"> </td><td    style=\"border: 1px solid black;\"> </td><td    style=\"border: 1px solid black;\"> </td><td    style=\"border: 1px solid black;\"> </td><td    style=\"border: 1px solid black;\"> </td><td    style=\"border: 1px solid black;\"> </td><td    style=\"border: 1px solid black;\"> </td></tr>\n",
       "<tr><td    style=\"border: 1px solid black;\">7</td><td    style=\"border: 1px solid black;\"> </td><td    style=\"border: 1px solid black;\"> </td><td    style=\"border: 1px solid black;\"> </td><td    style=\"border: 1px solid black;\">♚</td><td    style=\"border: 1px solid black;\"> </td><td    style=\"border: 1px solid black;\"> </td><td    style=\"border: 1px solid black;\"> </td><td    style=\"border: 1px solid black;\"> </td></tr>\n",
       "<tr><td    style=\"border: 1px solid black;\">8</td><td    style=\"border: 1px solid black;\"> </td><td    style=\"border: 1px solid black;\"> </td><td    style=\"border: 1px solid black;\"> </td><td    style=\"border: 1px solid black;\"> </td><td    style=\"border: 1px solid black;\"> </td><td    style=\"border: 1px solid black;\"> </td><td    style=\"border: 1px solid black;\"> </td><td    style=\"border: 1px solid black;\"> </td></tr>\n",
       "<tr><td    style=\"border: 1px solid black;\"> </td><td    style=\"border: 1px solid black;\">a</td><td    style=\"border: 1px solid black;\">b</td><td    style=\"border: 1px solid black;\">c</td><td    style=\"border: 1px solid black;\">d</td><td    style=\"border: 1px solid black;\">e</td><td    style=\"border: 1px solid black;\">f</td><td    style=\"border: 1px solid black;\">g</td><td    style=\"border: 1px solid black;\">h</td></tr>\n",
       "</tbody>\n",
       "</table>"
      ],
      "text/plain": [
       "<IPython.core.display.HTML object>"
      ]
     },
     "metadata": {},
     "output_type": "display_data"
    },
    {
     "data": {
      "text/html": [
       "<table style=\"border: 2px solid black;\">\n",
       "<tbody>\n",
       "<tr><td    style=\"border: 1px solid black;\">1</td><td    style=\"border: 1px solid black;\"> </td><td    style=\"border: 1px solid black;\"> </td><td    style=\"border: 1px solid black;\"> </td><td    style=\"border: 1px solid black;\"> </td><td    style=\"border: 1px solid black;\"> </td><td    style=\"border: 1px solid black;\"> </td><td    style=\"border: 1px solid black;\"> </td><td    style=\"border: 1px solid black;\"> </td></tr>\n",
       "<tr><td    style=\"border: 1px solid black;\">2</td><td    style=\"border: 1px solid black;\"> </td><td    style=\"border: 1px solid black;\"> </td><td    style=\"border: 1px solid black;\"> </td><td    style=\"border: 1px solid black;\"> </td><td    style=\"border: 1px solid black;\"> </td><td    style=\"border: 1px solid black;\"> </td><td    style=\"border: 1px solid black;\"> </td><td    style=\"border: 1px solid black;\"> </td></tr>\n",
       "<tr><td    style=\"border: 1px solid black;\">3</td><td    style=\"border: 1px solid black;\"> </td><td    style=\"border: 1px solid black;\"> </td><td    style=\"border: 1px solid black;\"> </td><td    style=\"border: 1px solid black;\"> </td><td    style=\"border: 1px solid black;\"> </td><td    style=\"border: 1px solid black;\">♖</td><td    style=\"border: 1px solid black;\"> </td><td    style=\"border: 1px solid black;\"> </td></tr>\n",
       "<tr><td    style=\"border: 1px solid black;\">4</td><td    style=\"border: 1px solid black;\"> </td><td    style=\"border: 1px solid black;\"> </td><td    style=\"border: 1px solid black;\"> </td><td    style=\"border: 1px solid black;\"> </td><td    style=\"border: 1px solid black;\"> </td><td    style=\"border: 1px solid black;\"> </td><td    style=\"border: 1px solid black;\"> </td><td    style=\"border: 1px solid black;\"> </td></tr>\n",
       "<tr><td    style=\"border: 1px solid black;\">5</td><td    style=\"border: 1px solid black;\">♔</td><td    style=\"border: 1px solid black;\"> </td><td    style=\"border: 1px solid black;\"> </td><td    style=\"border: 1px solid black;\"> </td><td    style=\"border: 1px solid black;\"> </td><td    style=\"border: 1px solid black;\"> </td><td    style=\"border: 1px solid black;\"> </td><td    style=\"border: 1px solid black;\"> </td></tr>\n",
       "<tr><td    style=\"border: 1px solid black;\">6</td><td    style=\"border: 1px solid black;\"> </td><td    style=\"border: 1px solid black;\"> </td><td    style=\"border: 1px solid black;\"> </td><td    style=\"border: 1px solid black;\"> </td><td    style=\"border: 1px solid black;\"> </td><td    style=\"border: 1px solid black;\"> </td><td    style=\"border: 1px solid black;\"> </td><td    style=\"border: 1px solid black;\"> </td></tr>\n",
       "<tr><td    style=\"border: 1px solid black;\">7</td><td    style=\"border: 1px solid black;\"> </td><td    style=\"border: 1px solid black;\"> </td><td    style=\"border: 1px solid black;\"> </td><td    style=\"border: 1px solid black;\">♚</td><td    style=\"border: 1px solid black;\"> </td><td    style=\"border: 1px solid black;\"> </td><td    style=\"border: 1px solid black;\"> </td><td    style=\"border: 1px solid black;\"> </td></tr>\n",
       "<tr><td    style=\"border: 1px solid black;\">8</td><td    style=\"border: 1px solid black;\"> </td><td    style=\"border: 1px solid black;\"> </td><td    style=\"border: 1px solid black;\"> </td><td    style=\"border: 1px solid black;\"> </td><td    style=\"border: 1px solid black;\"> </td><td    style=\"border: 1px solid black;\"> </td><td    style=\"border: 1px solid black;\"> </td><td    style=\"border: 1px solid black;\"> </td></tr>\n",
       "<tr><td    style=\"border: 1px solid black;\"> </td><td    style=\"border: 1px solid black;\">a</td><td    style=\"border: 1px solid black;\">b</td><td    style=\"border: 1px solid black;\">c</td><td    style=\"border: 1px solid black;\">d</td><td    style=\"border: 1px solid black;\">e</td><td    style=\"border: 1px solid black;\">f</td><td    style=\"border: 1px solid black;\">g</td><td    style=\"border: 1px solid black;\">h</td></tr>\n",
       "</tbody>\n",
       "</table>"
      ],
      "text/plain": [
       "<IPython.core.display.HTML object>"
      ]
     },
     "metadata": {},
     "output_type": "display_data"
    },
    {
     "data": {
      "text/html": [
       "<table style=\"border: 2px solid black;\">\n",
       "<tbody>\n",
       "<tr><td    style=\"border: 1px solid black;\">1</td><td    style=\"border: 1px solid black;\"> </td><td    style=\"border: 1px solid black;\"> </td><td    style=\"border: 1px solid black;\"> </td><td    style=\"border: 1px solid black;\"> </td><td    style=\"border: 1px solid black;\"> </td><td    style=\"border: 1px solid black;\"> </td><td    style=\"border: 1px solid black;\"> </td><td    style=\"border: 1px solid black;\"> </td></tr>\n",
       "<tr><td    style=\"border: 1px solid black;\">2</td><td    style=\"border: 1px solid black;\"> </td><td    style=\"border: 1px solid black;\"> </td><td    style=\"border: 1px solid black;\"> </td><td    style=\"border: 1px solid black;\"> </td><td    style=\"border: 1px solid black;\"> </td><td    style=\"border: 1px solid black;\"> </td><td    style=\"border: 1px solid black;\"> </td><td    style=\"border: 1px solid black;\"> </td></tr>\n",
       "<tr><td    style=\"border: 1px solid black;\">3</td><td    style=\"border: 1px solid black;\"> </td><td    style=\"border: 1px solid black;\"> </td><td    style=\"border: 1px solid black;\"> </td><td    style=\"border: 1px solid black;\"> </td><td    style=\"border: 1px solid black;\"> </td><td    style=\"border: 1px solid black;\">♖</td><td    style=\"border: 1px solid black;\"> </td><td    style=\"border: 1px solid black;\"> </td></tr>\n",
       "<tr><td    style=\"border: 1px solid black;\">4</td><td    style=\"border: 1px solid black;\"> </td><td    style=\"border: 1px solid black;\"> </td><td    style=\"border: 1px solid black;\"> </td><td    style=\"border: 1px solid black;\"> </td><td    style=\"border: 1px solid black;\"> </td><td    style=\"border: 1px solid black;\"> </td><td    style=\"border: 1px solid black;\"> </td><td    style=\"border: 1px solid black;\"> </td></tr>\n",
       "<tr><td    style=\"border: 1px solid black;\">5</td><td    style=\"border: 1px solid black;\">♔</td><td    style=\"border: 1px solid black;\"> </td><td    style=\"border: 1px solid black;\"> </td><td    style=\"border: 1px solid black;\"> </td><td    style=\"border: 1px solid black;\"> </td><td    style=\"border: 1px solid black;\"> </td><td    style=\"border: 1px solid black;\"> </td><td    style=\"border: 1px solid black;\"> </td></tr>\n",
       "<tr><td    style=\"border: 1px solid black;\">6</td><td    style=\"border: 1px solid black;\"> </td><td    style=\"border: 1px solid black;\"> </td><td    style=\"border: 1px solid black;\"> </td><td    style=\"border: 1px solid black;\"> </td><td    style=\"border: 1px solid black;\"> </td><td    style=\"border: 1px solid black;\"> </td><td    style=\"border: 1px solid black;\"> </td><td    style=\"border: 1px solid black;\"> </td></tr>\n",
       "<tr><td    style=\"border: 1px solid black;\">7</td><td    style=\"border: 1px solid black;\"> </td><td    style=\"border: 1px solid black;\"> </td><td    style=\"border: 1px solid black;\"> </td><td    style=\"border: 1px solid black;\"> </td><td    style=\"border: 1px solid black;\"> </td><td    style=\"border: 1px solid black;\"> </td><td    style=\"border: 1px solid black;\"> </td><td    style=\"border: 1px solid black;\"> </td></tr>\n",
       "<tr><td    style=\"border: 1px solid black;\">8</td><td    style=\"border: 1px solid black;\"> </td><td    style=\"border: 1px solid black;\"> </td><td    style=\"border: 1px solid black;\">♚</td><td    style=\"border: 1px solid black;\"> </td><td    style=\"border: 1px solid black;\"> </td><td    style=\"border: 1px solid black;\"> </td><td    style=\"border: 1px solid black;\"> </td><td    style=\"border: 1px solid black;\"> </td></tr>\n",
       "<tr><td    style=\"border: 1px solid black;\"> </td><td    style=\"border: 1px solid black;\">a</td><td    style=\"border: 1px solid black;\">b</td><td    style=\"border: 1px solid black;\">c</td><td    style=\"border: 1px solid black;\">d</td><td    style=\"border: 1px solid black;\">e</td><td    style=\"border: 1px solid black;\">f</td><td    style=\"border: 1px solid black;\">g</td><td    style=\"border: 1px solid black;\">h</td></tr>\n",
       "</tbody>\n",
       "</table>"
      ],
      "text/plain": [
       "<IPython.core.display.HTML object>"
      ]
     },
     "metadata": {},
     "output_type": "display_data"
    },
    {
     "data": {
      "text/html": [
       "<table style=\"border: 2px solid black;\">\n",
       "<tbody>\n",
       "<tr><td    style=\"border: 1px solid black;\">1</td><td    style=\"border: 1px solid black;\"> </td><td    style=\"border: 1px solid black;\"> </td><td    style=\"border: 1px solid black;\"> </td><td    style=\"border: 1px solid black;\"> </td><td    style=\"border: 1px solid black;\"> </td><td    style=\"border: 1px solid black;\"> </td><td    style=\"border: 1px solid black;\"> </td><td    style=\"border: 1px solid black;\"> </td></tr>\n",
       "<tr><td    style=\"border: 1px solid black;\">2</td><td    style=\"border: 1px solid black;\"> </td><td    style=\"border: 1px solid black;\"> </td><td    style=\"border: 1px solid black;\"> </td><td    style=\"border: 1px solid black;\"> </td><td    style=\"border: 1px solid black;\"> </td><td    style=\"border: 1px solid black;\"> </td><td    style=\"border: 1px solid black;\"> </td><td    style=\"border: 1px solid black;\"> </td></tr>\n",
       "<tr><td    style=\"border: 1px solid black;\">3</td><td    style=\"border: 1px solid black;\"> </td><td    style=\"border: 1px solid black;\"> </td><td    style=\"border: 1px solid black;\"> </td><td    style=\"border: 1px solid black;\"> </td><td    style=\"border: 1px solid black;\"> </td><td    style=\"border: 1px solid black;\">♖</td><td    style=\"border: 1px solid black;\"> </td><td    style=\"border: 1px solid black;\"> </td></tr>\n",
       "<tr><td    style=\"border: 1px solid black;\">4</td><td    style=\"border: 1px solid black;\"> </td><td    style=\"border: 1px solid black;\"> </td><td    style=\"border: 1px solid black;\"> </td><td    style=\"border: 1px solid black;\"> </td><td    style=\"border: 1px solid black;\"> </td><td    style=\"border: 1px solid black;\"> </td><td    style=\"border: 1px solid black;\"> </td><td    style=\"border: 1px solid black;\"> </td></tr>\n",
       "<tr><td    style=\"border: 1px solid black;\">5</td><td    style=\"border: 1px solid black;\"> </td><td    style=\"border: 1px solid black;\"> </td><td    style=\"border: 1px solid black;\"> </td><td    style=\"border: 1px solid black;\"> </td><td    style=\"border: 1px solid black;\"> </td><td    style=\"border: 1px solid black;\"> </td><td    style=\"border: 1px solid black;\"> </td><td    style=\"border: 1px solid black;\"> </td></tr>\n",
       "<tr><td    style=\"border: 1px solid black;\">6</td><td    style=\"border: 1px solid black;\"> </td><td    style=\"border: 1px solid black;\">♔</td><td    style=\"border: 1px solid black;\"> </td><td    style=\"border: 1px solid black;\"> </td><td    style=\"border: 1px solid black;\"> </td><td    style=\"border: 1px solid black;\"> </td><td    style=\"border: 1px solid black;\"> </td><td    style=\"border: 1px solid black;\"> </td></tr>\n",
       "<tr><td    style=\"border: 1px solid black;\">7</td><td    style=\"border: 1px solid black;\"> </td><td    style=\"border: 1px solid black;\"> </td><td    style=\"border: 1px solid black;\"> </td><td    style=\"border: 1px solid black;\"> </td><td    style=\"border: 1px solid black;\"> </td><td    style=\"border: 1px solid black;\"> </td><td    style=\"border: 1px solid black;\"> </td><td    style=\"border: 1px solid black;\"> </td></tr>\n",
       "<tr><td    style=\"border: 1px solid black;\">8</td><td    style=\"border: 1px solid black;\"> </td><td    style=\"border: 1px solid black;\"> </td><td    style=\"border: 1px solid black;\">♚</td><td    style=\"border: 1px solid black;\"> </td><td    style=\"border: 1px solid black;\"> </td><td    style=\"border: 1px solid black;\"> </td><td    style=\"border: 1px solid black;\"> </td><td    style=\"border: 1px solid black;\"> </td></tr>\n",
       "<tr><td    style=\"border: 1px solid black;\"> </td><td    style=\"border: 1px solid black;\">a</td><td    style=\"border: 1px solid black;\">b</td><td    style=\"border: 1px solid black;\">c</td><td    style=\"border: 1px solid black;\">d</td><td    style=\"border: 1px solid black;\">e</td><td    style=\"border: 1px solid black;\">f</td><td    style=\"border: 1px solid black;\">g</td><td    style=\"border: 1px solid black;\">h</td></tr>\n",
       "</tbody>\n",
       "</table>"
      ],
      "text/plain": [
       "<IPython.core.display.HTML object>"
      ]
     },
     "metadata": {},
     "output_type": "display_data"
    },
    {
     "data": {
      "text/html": [
       "<table style=\"border: 2px solid black;\">\n",
       "<tbody>\n",
       "<tr><td    style=\"border: 1px solid black;\">1</td><td    style=\"border: 1px solid black;\"> </td><td    style=\"border: 1px solid black;\"> </td><td    style=\"border: 1px solid black;\"> </td><td    style=\"border: 1px solid black;\"> </td><td    style=\"border: 1px solid black;\"> </td><td    style=\"border: 1px solid black;\"> </td><td    style=\"border: 1px solid black;\"> </td><td    style=\"border: 1px solid black;\"> </td></tr>\n",
       "<tr><td    style=\"border: 1px solid black;\">2</td><td    style=\"border: 1px solid black;\"> </td><td    style=\"border: 1px solid black;\"> </td><td    style=\"border: 1px solid black;\"> </td><td    style=\"border: 1px solid black;\"> </td><td    style=\"border: 1px solid black;\"> </td><td    style=\"border: 1px solid black;\"> </td><td    style=\"border: 1px solid black;\"> </td><td    style=\"border: 1px solid black;\"> </td></tr>\n",
       "<tr><td    style=\"border: 1px solid black;\">3</td><td    style=\"border: 1px solid black;\"> </td><td    style=\"border: 1px solid black;\"> </td><td    style=\"border: 1px solid black;\"> </td><td    style=\"border: 1px solid black;\"> </td><td    style=\"border: 1px solid black;\"> </td><td    style=\"border: 1px solid black;\">♖</td><td    style=\"border: 1px solid black;\"> </td><td    style=\"border: 1px solid black;\"> </td></tr>\n",
       "<tr><td    style=\"border: 1px solid black;\">4</td><td    style=\"border: 1px solid black;\"> </td><td    style=\"border: 1px solid black;\"> </td><td    style=\"border: 1px solid black;\"> </td><td    style=\"border: 1px solid black;\"> </td><td    style=\"border: 1px solid black;\"> </td><td    style=\"border: 1px solid black;\"> </td><td    style=\"border: 1px solid black;\"> </td><td    style=\"border: 1px solid black;\"> </td></tr>\n",
       "<tr><td    style=\"border: 1px solid black;\">5</td><td    style=\"border: 1px solid black;\"> </td><td    style=\"border: 1px solid black;\"> </td><td    style=\"border: 1px solid black;\"> </td><td    style=\"border: 1px solid black;\"> </td><td    style=\"border: 1px solid black;\"> </td><td    style=\"border: 1px solid black;\"> </td><td    style=\"border: 1px solid black;\"> </td><td    style=\"border: 1px solid black;\"> </td></tr>\n",
       "<tr><td    style=\"border: 1px solid black;\">6</td><td    style=\"border: 1px solid black;\"> </td><td    style=\"border: 1px solid black;\">♔</td><td    style=\"border: 1px solid black;\"> </td><td    style=\"border: 1px solid black;\"> </td><td    style=\"border: 1px solid black;\"> </td><td    style=\"border: 1px solid black;\"> </td><td    style=\"border: 1px solid black;\"> </td><td    style=\"border: 1px solid black;\"> </td></tr>\n",
       "<tr><td    style=\"border: 1px solid black;\">7</td><td    style=\"border: 1px solid black;\"> </td><td    style=\"border: 1px solid black;\"> </td><td    style=\"border: 1px solid black;\"> </td><td    style=\"border: 1px solid black;\"> </td><td    style=\"border: 1px solid black;\"> </td><td    style=\"border: 1px solid black;\"> </td><td    style=\"border: 1px solid black;\"> </td><td    style=\"border: 1px solid black;\"> </td></tr>\n",
       "<tr><td    style=\"border: 1px solid black;\">8</td><td    style=\"border: 1px solid black;\"> </td><td    style=\"border: 1px solid black;\">♚</td><td    style=\"border: 1px solid black;\"> </td><td    style=\"border: 1px solid black;\"> </td><td    style=\"border: 1px solid black;\"> </td><td    style=\"border: 1px solid black;\"> </td><td    style=\"border: 1px solid black;\"> </td><td    style=\"border: 1px solid black;\"> </td></tr>\n",
       "<tr><td    style=\"border: 1px solid black;\"> </td><td    style=\"border: 1px solid black;\">a</td><td    style=\"border: 1px solid black;\">b</td><td    style=\"border: 1px solid black;\">c</td><td    style=\"border: 1px solid black;\">d</td><td    style=\"border: 1px solid black;\">e</td><td    style=\"border: 1px solid black;\">f</td><td    style=\"border: 1px solid black;\">g</td><td    style=\"border: 1px solid black;\">h</td></tr>\n",
       "</tbody>\n",
       "</table>"
      ],
      "text/plain": [
       "<IPython.core.display.HTML object>"
      ]
     },
     "metadata": {},
     "output_type": "display_data"
    },
    {
     "data": {
      "text/html": [
       "<table style=\"border: 2px solid black;\">\n",
       "<tbody>\n",
       "<tr><td    style=\"border: 1px solid black;\">1</td><td    style=\"border: 1px solid black;\"> </td><td    style=\"border: 1px solid black;\"> </td><td    style=\"border: 1px solid black;\"> </td><td    style=\"border: 1px solid black;\"> </td><td    style=\"border: 1px solid black;\"> </td><td    style=\"border: 1px solid black;\"> </td><td    style=\"border: 1px solid black;\"> </td><td    style=\"border: 1px solid black;\"> </td></tr>\n",
       "<tr><td    style=\"border: 1px solid black;\">2</td><td    style=\"border: 1px solid black;\"> </td><td    style=\"border: 1px solid black;\"> </td><td    style=\"border: 1px solid black;\"> </td><td    style=\"border: 1px solid black;\"> </td><td    style=\"border: 1px solid black;\"> </td><td    style=\"border: 1px solid black;\"> </td><td    style=\"border: 1px solid black;\"> </td><td    style=\"border: 1px solid black;\"> </td></tr>\n",
       "<tr><td    style=\"border: 1px solid black;\">3</td><td    style=\"border: 1px solid black;\"> </td><td    style=\"border: 1px solid black;\"> </td><td    style=\"border: 1px solid black;\"> </td><td    style=\"border: 1px solid black;\"> </td><td    style=\"border: 1px solid black;\"> </td><td    style=\"border: 1px solid black;\"> </td><td    style=\"border: 1px solid black;\"> </td><td    style=\"border: 1px solid black;\"> </td></tr>\n",
       "<tr><td    style=\"border: 1px solid black;\">4</td><td    style=\"border: 1px solid black;\"> </td><td    style=\"border: 1px solid black;\"> </td><td    style=\"border: 1px solid black;\"> </td><td    style=\"border: 1px solid black;\"> </td><td    style=\"border: 1px solid black;\"> </td><td    style=\"border: 1px solid black;\"> </td><td    style=\"border: 1px solid black;\"> </td><td    style=\"border: 1px solid black;\"> </td></tr>\n",
       "<tr><td    style=\"border: 1px solid black;\">5</td><td    style=\"border: 1px solid black;\"> </td><td    style=\"border: 1px solid black;\"> </td><td    style=\"border: 1px solid black;\"> </td><td    style=\"border: 1px solid black;\"> </td><td    style=\"border: 1px solid black;\"> </td><td    style=\"border: 1px solid black;\"> </td><td    style=\"border: 1px solid black;\"> </td><td    style=\"border: 1px solid black;\"> </td></tr>\n",
       "<tr><td    style=\"border: 1px solid black;\">6</td><td    style=\"border: 1px solid black;\"> </td><td    style=\"border: 1px solid black;\">♔</td><td    style=\"border: 1px solid black;\"> </td><td    style=\"border: 1px solid black;\"> </td><td    style=\"border: 1px solid black;\"> </td><td    style=\"border: 1px solid black;\"> </td><td    style=\"border: 1px solid black;\"> </td><td    style=\"border: 1px solid black;\"> </td></tr>\n",
       "<tr><td    style=\"border: 1px solid black;\">7</td><td    style=\"border: 1px solid black;\"> </td><td    style=\"border: 1px solid black;\"> </td><td    style=\"border: 1px solid black;\"> </td><td    style=\"border: 1px solid black;\"> </td><td    style=\"border: 1px solid black;\"> </td><td    style=\"border: 1px solid black;\"> </td><td    style=\"border: 1px solid black;\"> </td><td    style=\"border: 1px solid black;\"> </td></tr>\n",
       "<tr><td    style=\"border: 1px solid black;\">8</td><td    style=\"border: 1px solid black;\"> </td><td    style=\"border: 1px solid black;\">♚</td><td    style=\"border: 1px solid black;\"> </td><td    style=\"border: 1px solid black;\"> </td><td    style=\"border: 1px solid black;\"> </td><td    style=\"border: 1px solid black;\">♖</td><td    style=\"border: 1px solid black;\"> </td><td    style=\"border: 1px solid black;\"> </td></tr>\n",
       "<tr><td    style=\"border: 1px solid black;\"> </td><td    style=\"border: 1px solid black;\">a</td><td    style=\"border: 1px solid black;\">b</td><td    style=\"border: 1px solid black;\">c</td><td    style=\"border: 1px solid black;\">d</td><td    style=\"border: 1px solid black;\">e</td><td    style=\"border: 1px solid black;\">f</td><td    style=\"border: 1px solid black;\">g</td><td    style=\"border: 1px solid black;\">h</td></tr>\n",
       "</tbody>\n",
       "</table>"
      ],
      "text/plain": [
       "<IPython.core.display.HTML object>"
      ]
     },
     "metadata": {},
     "output_type": "display_data"
    },
    {
     "name": "stdout",
     "output_type": "stream",
     "text": [
      "We are testing white a1 e3 b7\n"
     ]
    },
    {
     "data": {
      "text/html": [
       "<table style=\"border: 2px solid black;\">\n",
       "<tbody>\n",
       "<tr><td    style=\"border: 1px solid black;\">1</td><td    style=\"border: 1px solid black;\">♔</td><td    style=\"border: 1px solid black;\"> </td><td    style=\"border: 1px solid black;\"> </td><td    style=\"border: 1px solid black;\"> </td><td    style=\"border: 1px solid black;\"> </td><td    style=\"border: 1px solid black;\"> </td><td    style=\"border: 1px solid black;\"> </td><td    style=\"border: 1px solid black;\"> </td></tr>\n",
       "<tr><td    style=\"border: 1px solid black;\">2</td><td    style=\"border: 1px solid black;\"> </td><td    style=\"border: 1px solid black;\"> </td><td    style=\"border: 1px solid black;\"> </td><td    style=\"border: 1px solid black;\"> </td><td    style=\"border: 1px solid black;\"> </td><td    style=\"border: 1px solid black;\"> </td><td    style=\"border: 1px solid black;\"> </td><td    style=\"border: 1px solid black;\"> </td></tr>\n",
       "<tr><td    style=\"border: 1px solid black;\">3</td><td    style=\"border: 1px solid black;\"> </td><td    style=\"border: 1px solid black;\"> </td><td    style=\"border: 1px solid black;\"> </td><td    style=\"border: 1px solid black;\"> </td><td    style=\"border: 1px solid black;\">♖</td><td    style=\"border: 1px solid black;\"> </td><td    style=\"border: 1px solid black;\"> </td><td    style=\"border: 1px solid black;\"> </td></tr>\n",
       "<tr><td    style=\"border: 1px solid black;\">4</td><td    style=\"border: 1px solid black;\"> </td><td    style=\"border: 1px solid black;\"> </td><td    style=\"border: 1px solid black;\"> </td><td    style=\"border: 1px solid black;\"> </td><td    style=\"border: 1px solid black;\"> </td><td    style=\"border: 1px solid black;\"> </td><td    style=\"border: 1px solid black;\"> </td><td    style=\"border: 1px solid black;\"> </td></tr>\n",
       "<tr><td    style=\"border: 1px solid black;\">5</td><td    style=\"border: 1px solid black;\"> </td><td    style=\"border: 1px solid black;\"> </td><td    style=\"border: 1px solid black;\"> </td><td    style=\"border: 1px solid black;\"> </td><td    style=\"border: 1px solid black;\"> </td><td    style=\"border: 1px solid black;\"> </td><td    style=\"border: 1px solid black;\"> </td><td    style=\"border: 1px solid black;\"> </td></tr>\n",
       "<tr><td    style=\"border: 1px solid black;\">6</td><td    style=\"border: 1px solid black;\"> </td><td    style=\"border: 1px solid black;\"> </td><td    style=\"border: 1px solid black;\"> </td><td    style=\"border: 1px solid black;\"> </td><td    style=\"border: 1px solid black;\"> </td><td    style=\"border: 1px solid black;\"> </td><td    style=\"border: 1px solid black;\"> </td><td    style=\"border: 1px solid black;\"> </td></tr>\n",
       "<tr><td    style=\"border: 1px solid black;\">7</td><td    style=\"border: 1px solid black;\"> </td><td    style=\"border: 1px solid black;\">♚</td><td    style=\"border: 1px solid black;\"> </td><td    style=\"border: 1px solid black;\"> </td><td    style=\"border: 1px solid black;\"> </td><td    style=\"border: 1px solid black;\"> </td><td    style=\"border: 1px solid black;\"> </td><td    style=\"border: 1px solid black;\"> </td></tr>\n",
       "<tr><td    style=\"border: 1px solid black;\">8</td><td    style=\"border: 1px solid black;\"> </td><td    style=\"border: 1px solid black;\"> </td><td    style=\"border: 1px solid black;\"> </td><td    style=\"border: 1px solid black;\"> </td><td    style=\"border: 1px solid black;\"> </td><td    style=\"border: 1px solid black;\"> </td><td    style=\"border: 1px solid black;\"> </td><td    style=\"border: 1px solid black;\"> </td></tr>\n",
       "<tr><td    style=\"border: 1px solid black;\"> </td><td    style=\"border: 1px solid black;\">a</td><td    style=\"border: 1px solid black;\">b</td><td    style=\"border: 1px solid black;\">c</td><td    style=\"border: 1px solid black;\">d</td><td    style=\"border: 1px solid black;\">e</td><td    style=\"border: 1px solid black;\">f</td><td    style=\"border: 1px solid black;\">g</td><td    style=\"border: 1px solid black;\">h</td></tr>\n",
       "</tbody>\n",
       "</table>"
      ],
      "text/plain": [
       "<IPython.core.display.HTML object>"
      ]
     },
     "metadata": {},
     "output_type": "display_data"
    },
    {
     "data": {
      "text/html": [
       "<table style=\"border: 2px solid black;\">\n",
       "<tbody>\n",
       "<tr><td    style=\"border: 1px solid black;\">1</td><td    style=\"border: 1px solid black;\">♔</td><td    style=\"border: 1px solid black;\"> </td><td    style=\"border: 1px solid black;\"> </td><td    style=\"border: 1px solid black;\"> </td><td    style=\"border: 1px solid black;\"> </td><td    style=\"border: 1px solid black;\"> </td><td    style=\"border: 1px solid black;\"> </td><td    style=\"border: 1px solid black;\"> </td></tr>\n",
       "<tr><td    style=\"border: 1px solid black;\">2</td><td    style=\"border: 1px solid black;\"> </td><td    style=\"border: 1px solid black;\"> </td><td    style=\"border: 1px solid black;\"> </td><td    style=\"border: 1px solid black;\"> </td><td    style=\"border: 1px solid black;\"> </td><td    style=\"border: 1px solid black;\"> </td><td    style=\"border: 1px solid black;\"> </td><td    style=\"border: 1px solid black;\"> </td></tr>\n",
       "<tr><td    style=\"border: 1px solid black;\">3</td><td    style=\"border: 1px solid black;\"> </td><td    style=\"border: 1px solid black;\">♖</td><td    style=\"border: 1px solid black;\"> </td><td    style=\"border: 1px solid black;\"> </td><td    style=\"border: 1px solid black;\"> </td><td    style=\"border: 1px solid black;\"> </td><td    style=\"border: 1px solid black;\"> </td><td    style=\"border: 1px solid black;\"> </td></tr>\n",
       "<tr><td    style=\"border: 1px solid black;\">4</td><td    style=\"border: 1px solid black;\"> </td><td    style=\"border: 1px solid black;\"> </td><td    style=\"border: 1px solid black;\"> </td><td    style=\"border: 1px solid black;\"> </td><td    style=\"border: 1px solid black;\"> </td><td    style=\"border: 1px solid black;\"> </td><td    style=\"border: 1px solid black;\"> </td><td    style=\"border: 1px solid black;\"> </td></tr>\n",
       "<tr><td    style=\"border: 1px solid black;\">5</td><td    style=\"border: 1px solid black;\"> </td><td    style=\"border: 1px solid black;\"> </td><td    style=\"border: 1px solid black;\"> </td><td    style=\"border: 1px solid black;\"> </td><td    style=\"border: 1px solid black;\"> </td><td    style=\"border: 1px solid black;\"> </td><td    style=\"border: 1px solid black;\"> </td><td    style=\"border: 1px solid black;\"> </td></tr>\n",
       "<tr><td    style=\"border: 1px solid black;\">6</td><td    style=\"border: 1px solid black;\"> </td><td    style=\"border: 1px solid black;\"> </td><td    style=\"border: 1px solid black;\"> </td><td    style=\"border: 1px solid black;\"> </td><td    style=\"border: 1px solid black;\"> </td><td    style=\"border: 1px solid black;\"> </td><td    style=\"border: 1px solid black;\"> </td><td    style=\"border: 1px solid black;\"> </td></tr>\n",
       "<tr><td    style=\"border: 1px solid black;\">7</td><td    style=\"border: 1px solid black;\"> </td><td    style=\"border: 1px solid black;\">♚</td><td    style=\"border: 1px solid black;\"> </td><td    style=\"border: 1px solid black;\"> </td><td    style=\"border: 1px solid black;\"> </td><td    style=\"border: 1px solid black;\"> </td><td    style=\"border: 1px solid black;\"> </td><td    style=\"border: 1px solid black;\"> </td></tr>\n",
       "<tr><td    style=\"border: 1px solid black;\">8</td><td    style=\"border: 1px solid black;\"> </td><td    style=\"border: 1px solid black;\"> </td><td    style=\"border: 1px solid black;\"> </td><td    style=\"border: 1px solid black;\"> </td><td    style=\"border: 1px solid black;\"> </td><td    style=\"border: 1px solid black;\"> </td><td    style=\"border: 1px solid black;\"> </td><td    style=\"border: 1px solid black;\"> </td></tr>\n",
       "<tr><td    style=\"border: 1px solid black;\"> </td><td    style=\"border: 1px solid black;\">a</td><td    style=\"border: 1px solid black;\">b</td><td    style=\"border: 1px solid black;\">c</td><td    style=\"border: 1px solid black;\">d</td><td    style=\"border: 1px solid black;\">e</td><td    style=\"border: 1px solid black;\">f</td><td    style=\"border: 1px solid black;\">g</td><td    style=\"border: 1px solid black;\">h</td></tr>\n",
       "</tbody>\n",
       "</table>"
      ],
      "text/plain": [
       "<IPython.core.display.HTML object>"
      ]
     },
     "metadata": {},
     "output_type": "display_data"
    },
    {
     "data": {
      "text/html": [
       "<table style=\"border: 2px solid black;\">\n",
       "<tbody>\n",
       "<tr><td    style=\"border: 1px solid black;\">1</td><td    style=\"border: 1px solid black;\">♔</td><td    style=\"border: 1px solid black;\"> </td><td    style=\"border: 1px solid black;\"> </td><td    style=\"border: 1px solid black;\"> </td><td    style=\"border: 1px solid black;\"> </td><td    style=\"border: 1px solid black;\"> </td><td    style=\"border: 1px solid black;\"> </td><td    style=\"border: 1px solid black;\"> </td></tr>\n",
       "<tr><td    style=\"border: 1px solid black;\">2</td><td    style=\"border: 1px solid black;\"> </td><td    style=\"border: 1px solid black;\"> </td><td    style=\"border: 1px solid black;\"> </td><td    style=\"border: 1px solid black;\"> </td><td    style=\"border: 1px solid black;\"> </td><td    style=\"border: 1px solid black;\"> </td><td    style=\"border: 1px solid black;\"> </td><td    style=\"border: 1px solid black;\"> </td></tr>\n",
       "<tr><td    style=\"border: 1px solid black;\">3</td><td    style=\"border: 1px solid black;\"> </td><td    style=\"border: 1px solid black;\">♖</td><td    style=\"border: 1px solid black;\"> </td><td    style=\"border: 1px solid black;\"> </td><td    style=\"border: 1px solid black;\"> </td><td    style=\"border: 1px solid black;\"> </td><td    style=\"border: 1px solid black;\"> </td><td    style=\"border: 1px solid black;\"> </td></tr>\n",
       "<tr><td    style=\"border: 1px solid black;\">4</td><td    style=\"border: 1px solid black;\"> </td><td    style=\"border: 1px solid black;\"> </td><td    style=\"border: 1px solid black;\"> </td><td    style=\"border: 1px solid black;\"> </td><td    style=\"border: 1px solid black;\"> </td><td    style=\"border: 1px solid black;\"> </td><td    style=\"border: 1px solid black;\"> </td><td    style=\"border: 1px solid black;\"> </td></tr>\n",
       "<tr><td    style=\"border: 1px solid black;\">5</td><td    style=\"border: 1px solid black;\"> </td><td    style=\"border: 1px solid black;\"> </td><td    style=\"border: 1px solid black;\"> </td><td    style=\"border: 1px solid black;\"> </td><td    style=\"border: 1px solid black;\"> </td><td    style=\"border: 1px solid black;\"> </td><td    style=\"border: 1px solid black;\"> </td><td    style=\"border: 1px solid black;\"> </td></tr>\n",
       "<tr><td    style=\"border: 1px solid black;\">6</td><td    style=\"border: 1px solid black;\">♚</td><td    style=\"border: 1px solid black;\"> </td><td    style=\"border: 1px solid black;\"> </td><td    style=\"border: 1px solid black;\"> </td><td    style=\"border: 1px solid black;\"> </td><td    style=\"border: 1px solid black;\"> </td><td    style=\"border: 1px solid black;\"> </td><td    style=\"border: 1px solid black;\"> </td></tr>\n",
       "<tr><td    style=\"border: 1px solid black;\">7</td><td    style=\"border: 1px solid black;\"> </td><td    style=\"border: 1px solid black;\"> </td><td    style=\"border: 1px solid black;\"> </td><td    style=\"border: 1px solid black;\"> </td><td    style=\"border: 1px solid black;\"> </td><td    style=\"border: 1px solid black;\"> </td><td    style=\"border: 1px solid black;\"> </td><td    style=\"border: 1px solid black;\"> </td></tr>\n",
       "<tr><td    style=\"border: 1px solid black;\">8</td><td    style=\"border: 1px solid black;\"> </td><td    style=\"border: 1px solid black;\"> </td><td    style=\"border: 1px solid black;\"> </td><td    style=\"border: 1px solid black;\"> </td><td    style=\"border: 1px solid black;\"> </td><td    style=\"border: 1px solid black;\"> </td><td    style=\"border: 1px solid black;\"> </td><td    style=\"border: 1px solid black;\"> </td></tr>\n",
       "<tr><td    style=\"border: 1px solid black;\"> </td><td    style=\"border: 1px solid black;\">a</td><td    style=\"border: 1px solid black;\">b</td><td    style=\"border: 1px solid black;\">c</td><td    style=\"border: 1px solid black;\">d</td><td    style=\"border: 1px solid black;\">e</td><td    style=\"border: 1px solid black;\">f</td><td    style=\"border: 1px solid black;\">g</td><td    style=\"border: 1px solid black;\">h</td></tr>\n",
       "</tbody>\n",
       "</table>"
      ],
      "text/plain": [
       "<IPython.core.display.HTML object>"
      ]
     },
     "metadata": {},
     "output_type": "display_data"
    },
    {
     "data": {
      "text/html": [
       "<table style=\"border: 2px solid black;\">\n",
       "<tbody>\n",
       "<tr><td    style=\"border: 1px solid black;\">1</td><td    style=\"border: 1px solid black;\">♔</td><td    style=\"border: 1px solid black;\">♖</td><td    style=\"border: 1px solid black;\"> </td><td    style=\"border: 1px solid black;\"> </td><td    style=\"border: 1px solid black;\"> </td><td    style=\"border: 1px solid black;\"> </td><td    style=\"border: 1px solid black;\"> </td><td    style=\"border: 1px solid black;\"> </td></tr>\n",
       "<tr><td    style=\"border: 1px solid black;\">2</td><td    style=\"border: 1px solid black;\"> </td><td    style=\"border: 1px solid black;\"> </td><td    style=\"border: 1px solid black;\"> </td><td    style=\"border: 1px solid black;\"> </td><td    style=\"border: 1px solid black;\"> </td><td    style=\"border: 1px solid black;\"> </td><td    style=\"border: 1px solid black;\"> </td><td    style=\"border: 1px solid black;\"> </td></tr>\n",
       "<tr><td    style=\"border: 1px solid black;\">3</td><td    style=\"border: 1px solid black;\"> </td><td    style=\"border: 1px solid black;\"> </td><td    style=\"border: 1px solid black;\"> </td><td    style=\"border: 1px solid black;\"> </td><td    style=\"border: 1px solid black;\"> </td><td    style=\"border: 1px solid black;\"> </td><td    style=\"border: 1px solid black;\"> </td><td    style=\"border: 1px solid black;\"> </td></tr>\n",
       "<tr><td    style=\"border: 1px solid black;\">4</td><td    style=\"border: 1px solid black;\"> </td><td    style=\"border: 1px solid black;\"> </td><td    style=\"border: 1px solid black;\"> </td><td    style=\"border: 1px solid black;\"> </td><td    style=\"border: 1px solid black;\"> </td><td    style=\"border: 1px solid black;\"> </td><td    style=\"border: 1px solid black;\"> </td><td    style=\"border: 1px solid black;\"> </td></tr>\n",
       "<tr><td    style=\"border: 1px solid black;\">5</td><td    style=\"border: 1px solid black;\"> </td><td    style=\"border: 1px solid black;\"> </td><td    style=\"border: 1px solid black;\"> </td><td    style=\"border: 1px solid black;\"> </td><td    style=\"border: 1px solid black;\"> </td><td    style=\"border: 1px solid black;\"> </td><td    style=\"border: 1px solid black;\"> </td><td    style=\"border: 1px solid black;\"> </td></tr>\n",
       "<tr><td    style=\"border: 1px solid black;\">6</td><td    style=\"border: 1px solid black;\">♚</td><td    style=\"border: 1px solid black;\"> </td><td    style=\"border: 1px solid black;\"> </td><td    style=\"border: 1px solid black;\"> </td><td    style=\"border: 1px solid black;\"> </td><td    style=\"border: 1px solid black;\"> </td><td    style=\"border: 1px solid black;\"> </td><td    style=\"border: 1px solid black;\"> </td></tr>\n",
       "<tr><td    style=\"border: 1px solid black;\">7</td><td    style=\"border: 1px solid black;\"> </td><td    style=\"border: 1px solid black;\"> </td><td    style=\"border: 1px solid black;\"> </td><td    style=\"border: 1px solid black;\"> </td><td    style=\"border: 1px solid black;\"> </td><td    style=\"border: 1px solid black;\"> </td><td    style=\"border: 1px solid black;\"> </td><td    style=\"border: 1px solid black;\"> </td></tr>\n",
       "<tr><td    style=\"border: 1px solid black;\">8</td><td    style=\"border: 1px solid black;\"> </td><td    style=\"border: 1px solid black;\"> </td><td    style=\"border: 1px solid black;\"> </td><td    style=\"border: 1px solid black;\"> </td><td    style=\"border: 1px solid black;\"> </td><td    style=\"border: 1px solid black;\"> </td><td    style=\"border: 1px solid black;\"> </td><td    style=\"border: 1px solid black;\"> </td></tr>\n",
       "<tr><td    style=\"border: 1px solid black;\"> </td><td    style=\"border: 1px solid black;\">a</td><td    style=\"border: 1px solid black;\">b</td><td    style=\"border: 1px solid black;\">c</td><td    style=\"border: 1px solid black;\">d</td><td    style=\"border: 1px solid black;\">e</td><td    style=\"border: 1px solid black;\">f</td><td    style=\"border: 1px solid black;\">g</td><td    style=\"border: 1px solid black;\">h</td></tr>\n",
       "</tbody>\n",
       "</table>"
      ],
      "text/plain": [
       "<IPython.core.display.HTML object>"
      ]
     },
     "metadata": {},
     "output_type": "display_data"
    },
    {
     "data": {
      "text/html": [
       "<table style=\"border: 2px solid black;\">\n",
       "<tbody>\n",
       "<tr><td    style=\"border: 1px solid black;\">1</td><td    style=\"border: 1px solid black;\">♔</td><td    style=\"border: 1px solid black;\">♖</td><td    style=\"border: 1px solid black;\"> </td><td    style=\"border: 1px solid black;\"> </td><td    style=\"border: 1px solid black;\"> </td><td    style=\"border: 1px solid black;\"> </td><td    style=\"border: 1px solid black;\"> </td><td    style=\"border: 1px solid black;\"> </td></tr>\n",
       "<tr><td    style=\"border: 1px solid black;\">2</td><td    style=\"border: 1px solid black;\"> </td><td    style=\"border: 1px solid black;\"> </td><td    style=\"border: 1px solid black;\"> </td><td    style=\"border: 1px solid black;\"> </td><td    style=\"border: 1px solid black;\"> </td><td    style=\"border: 1px solid black;\"> </td><td    style=\"border: 1px solid black;\"> </td><td    style=\"border: 1px solid black;\"> </td></tr>\n",
       "<tr><td    style=\"border: 1px solid black;\">3</td><td    style=\"border: 1px solid black;\"> </td><td    style=\"border: 1px solid black;\"> </td><td    style=\"border: 1px solid black;\"> </td><td    style=\"border: 1px solid black;\"> </td><td    style=\"border: 1px solid black;\"> </td><td    style=\"border: 1px solid black;\"> </td><td    style=\"border: 1px solid black;\"> </td><td    style=\"border: 1px solid black;\"> </td></tr>\n",
       "<tr><td    style=\"border: 1px solid black;\">4</td><td    style=\"border: 1px solid black;\"> </td><td    style=\"border: 1px solid black;\"> </td><td    style=\"border: 1px solid black;\"> </td><td    style=\"border: 1px solid black;\"> </td><td    style=\"border: 1px solid black;\"> </td><td    style=\"border: 1px solid black;\"> </td><td    style=\"border: 1px solid black;\"> </td><td    style=\"border: 1px solid black;\"> </td></tr>\n",
       "<tr><td    style=\"border: 1px solid black;\">5</td><td    style=\"border: 1px solid black;\">♚</td><td    style=\"border: 1px solid black;\"> </td><td    style=\"border: 1px solid black;\"> </td><td    style=\"border: 1px solid black;\"> </td><td    style=\"border: 1px solid black;\"> </td><td    style=\"border: 1px solid black;\"> </td><td    style=\"border: 1px solid black;\"> </td><td    style=\"border: 1px solid black;\"> </td></tr>\n",
       "<tr><td    style=\"border: 1px solid black;\">6</td><td    style=\"border: 1px solid black;\"> </td><td    style=\"border: 1px solid black;\"> </td><td    style=\"border: 1px solid black;\"> </td><td    style=\"border: 1px solid black;\"> </td><td    style=\"border: 1px solid black;\"> </td><td    style=\"border: 1px solid black;\"> </td><td    style=\"border: 1px solid black;\"> </td><td    style=\"border: 1px solid black;\"> </td></tr>\n",
       "<tr><td    style=\"border: 1px solid black;\">7</td><td    style=\"border: 1px solid black;\"> </td><td    style=\"border: 1px solid black;\"> </td><td    style=\"border: 1px solid black;\"> </td><td    style=\"border: 1px solid black;\"> </td><td    style=\"border: 1px solid black;\"> </td><td    style=\"border: 1px solid black;\"> </td><td    style=\"border: 1px solid black;\"> </td><td    style=\"border: 1px solid black;\"> </td></tr>\n",
       "<tr><td    style=\"border: 1px solid black;\">8</td><td    style=\"border: 1px solid black;\"> </td><td    style=\"border: 1px solid black;\"> </td><td    style=\"border: 1px solid black;\"> </td><td    style=\"border: 1px solid black;\"> </td><td    style=\"border: 1px solid black;\"> </td><td    style=\"border: 1px solid black;\"> </td><td    style=\"border: 1px solid black;\"> </td><td    style=\"border: 1px solid black;\"> </td></tr>\n",
       "<tr><td    style=\"border: 1px solid black;\"> </td><td    style=\"border: 1px solid black;\">a</td><td    style=\"border: 1px solid black;\">b</td><td    style=\"border: 1px solid black;\">c</td><td    style=\"border: 1px solid black;\">d</td><td    style=\"border: 1px solid black;\">e</td><td    style=\"border: 1px solid black;\">f</td><td    style=\"border: 1px solid black;\">g</td><td    style=\"border: 1px solid black;\">h</td></tr>\n",
       "</tbody>\n",
       "</table>"
      ],
      "text/plain": [
       "<IPython.core.display.HTML object>"
      ]
     },
     "metadata": {},
     "output_type": "display_data"
    },
    {
     "data": {
      "text/html": [
       "<table style=\"border: 2px solid black;\">\n",
       "<tbody>\n",
       "<tr><td    style=\"border: 1px solid black;\">1</td><td    style=\"border: 1px solid black;\"> </td><td    style=\"border: 1px solid black;\">♖</td><td    style=\"border: 1px solid black;\"> </td><td    style=\"border: 1px solid black;\"> </td><td    style=\"border: 1px solid black;\"> </td><td    style=\"border: 1px solid black;\"> </td><td    style=\"border: 1px solid black;\"> </td><td    style=\"border: 1px solid black;\"> </td></tr>\n",
       "<tr><td    style=\"border: 1px solid black;\">2</td><td    style=\"border: 1px solid black;\"> </td><td    style=\"border: 1px solid black;\">♔</td><td    style=\"border: 1px solid black;\"> </td><td    style=\"border: 1px solid black;\"> </td><td    style=\"border: 1px solid black;\"> </td><td    style=\"border: 1px solid black;\"> </td><td    style=\"border: 1px solid black;\"> </td><td    style=\"border: 1px solid black;\"> </td></tr>\n",
       "<tr><td    style=\"border: 1px solid black;\">3</td><td    style=\"border: 1px solid black;\"> </td><td    style=\"border: 1px solid black;\"> </td><td    style=\"border: 1px solid black;\"> </td><td    style=\"border: 1px solid black;\"> </td><td    style=\"border: 1px solid black;\"> </td><td    style=\"border: 1px solid black;\"> </td><td    style=\"border: 1px solid black;\"> </td><td    style=\"border: 1px solid black;\"> </td></tr>\n",
       "<tr><td    style=\"border: 1px solid black;\">4</td><td    style=\"border: 1px solid black;\"> </td><td    style=\"border: 1px solid black;\"> </td><td    style=\"border: 1px solid black;\"> </td><td    style=\"border: 1px solid black;\"> </td><td    style=\"border: 1px solid black;\"> </td><td    style=\"border: 1px solid black;\"> </td><td    style=\"border: 1px solid black;\"> </td><td    style=\"border: 1px solid black;\"> </td></tr>\n",
       "<tr><td    style=\"border: 1px solid black;\">5</td><td    style=\"border: 1px solid black;\">♚</td><td    style=\"border: 1px solid black;\"> </td><td    style=\"border: 1px solid black;\"> </td><td    style=\"border: 1px solid black;\"> </td><td    style=\"border: 1px solid black;\"> </td><td    style=\"border: 1px solid black;\"> </td><td    style=\"border: 1px solid black;\"> </td><td    style=\"border: 1px solid black;\"> </td></tr>\n",
       "<tr><td    style=\"border: 1px solid black;\">6</td><td    style=\"border: 1px solid black;\"> </td><td    style=\"border: 1px solid black;\"> </td><td    style=\"border: 1px solid black;\"> </td><td    style=\"border: 1px solid black;\"> </td><td    style=\"border: 1px solid black;\"> </td><td    style=\"border: 1px solid black;\"> </td><td    style=\"border: 1px solid black;\"> </td><td    style=\"border: 1px solid black;\"> </td></tr>\n",
       "<tr><td    style=\"border: 1px solid black;\">7</td><td    style=\"border: 1px solid black;\"> </td><td    style=\"border: 1px solid black;\"> </td><td    style=\"border: 1px solid black;\"> </td><td    style=\"border: 1px solid black;\"> </td><td    style=\"border: 1px solid black;\"> </td><td    style=\"border: 1px solid black;\"> </td><td    style=\"border: 1px solid black;\"> </td><td    style=\"border: 1px solid black;\"> </td></tr>\n",
       "<tr><td    style=\"border: 1px solid black;\">8</td><td    style=\"border: 1px solid black;\"> </td><td    style=\"border: 1px solid black;\"> </td><td    style=\"border: 1px solid black;\"> </td><td    style=\"border: 1px solid black;\"> </td><td    style=\"border: 1px solid black;\"> </td><td    style=\"border: 1px solid black;\"> </td><td    style=\"border: 1px solid black;\"> </td><td    style=\"border: 1px solid black;\"> </td></tr>\n",
       "<tr><td    style=\"border: 1px solid black;\"> </td><td    style=\"border: 1px solid black;\">a</td><td    style=\"border: 1px solid black;\">b</td><td    style=\"border: 1px solid black;\">c</td><td    style=\"border: 1px solid black;\">d</td><td    style=\"border: 1px solid black;\">e</td><td    style=\"border: 1px solid black;\">f</td><td    style=\"border: 1px solid black;\">g</td><td    style=\"border: 1px solid black;\">h</td></tr>\n",
       "</tbody>\n",
       "</table>"
      ],
      "text/plain": [
       "<IPython.core.display.HTML object>"
      ]
     },
     "metadata": {},
     "output_type": "display_data"
    },
    {
     "data": {
      "text/html": [
       "<table style=\"border: 2px solid black;\">\n",
       "<tbody>\n",
       "<tr><td    style=\"border: 1px solid black;\">1</td><td    style=\"border: 1px solid black;\"> </td><td    style=\"border: 1px solid black;\">♖</td><td    style=\"border: 1px solid black;\"> </td><td    style=\"border: 1px solid black;\"> </td><td    style=\"border: 1px solid black;\"> </td><td    style=\"border: 1px solid black;\"> </td><td    style=\"border: 1px solid black;\"> </td><td    style=\"border: 1px solid black;\"> </td></tr>\n",
       "<tr><td    style=\"border: 1px solid black;\">2</td><td    style=\"border: 1px solid black;\"> </td><td    style=\"border: 1px solid black;\">♔</td><td    style=\"border: 1px solid black;\"> </td><td    style=\"border: 1px solid black;\"> </td><td    style=\"border: 1px solid black;\"> </td><td    style=\"border: 1px solid black;\"> </td><td    style=\"border: 1px solid black;\"> </td><td    style=\"border: 1px solid black;\"> </td></tr>\n",
       "<tr><td    style=\"border: 1px solid black;\">3</td><td    style=\"border: 1px solid black;\"> </td><td    style=\"border: 1px solid black;\"> </td><td    style=\"border: 1px solid black;\"> </td><td    style=\"border: 1px solid black;\"> </td><td    style=\"border: 1px solid black;\"> </td><td    style=\"border: 1px solid black;\"> </td><td    style=\"border: 1px solid black;\"> </td><td    style=\"border: 1px solid black;\"> </td></tr>\n",
       "<tr><td    style=\"border: 1px solid black;\">4</td><td    style=\"border: 1px solid black;\">♚</td><td    style=\"border: 1px solid black;\"> </td><td    style=\"border: 1px solid black;\"> </td><td    style=\"border: 1px solid black;\"> </td><td    style=\"border: 1px solid black;\"> </td><td    style=\"border: 1px solid black;\"> </td><td    style=\"border: 1px solid black;\"> </td><td    style=\"border: 1px solid black;\"> </td></tr>\n",
       "<tr><td    style=\"border: 1px solid black;\">5</td><td    style=\"border: 1px solid black;\"> </td><td    style=\"border: 1px solid black;\"> </td><td    style=\"border: 1px solid black;\"> </td><td    style=\"border: 1px solid black;\"> </td><td    style=\"border: 1px solid black;\"> </td><td    style=\"border: 1px solid black;\"> </td><td    style=\"border: 1px solid black;\"> </td><td    style=\"border: 1px solid black;\"> </td></tr>\n",
       "<tr><td    style=\"border: 1px solid black;\">6</td><td    style=\"border: 1px solid black;\"> </td><td    style=\"border: 1px solid black;\"> </td><td    style=\"border: 1px solid black;\"> </td><td    style=\"border: 1px solid black;\"> </td><td    style=\"border: 1px solid black;\"> </td><td    style=\"border: 1px solid black;\"> </td><td    style=\"border: 1px solid black;\"> </td><td    style=\"border: 1px solid black;\"> </td></tr>\n",
       "<tr><td    style=\"border: 1px solid black;\">7</td><td    style=\"border: 1px solid black;\"> </td><td    style=\"border: 1px solid black;\"> </td><td    style=\"border: 1px solid black;\"> </td><td    style=\"border: 1px solid black;\"> </td><td    style=\"border: 1px solid black;\"> </td><td    style=\"border: 1px solid black;\"> </td><td    style=\"border: 1px solid black;\"> </td><td    style=\"border: 1px solid black;\"> </td></tr>\n",
       "<tr><td    style=\"border: 1px solid black;\">8</td><td    style=\"border: 1px solid black;\"> </td><td    style=\"border: 1px solid black;\"> </td><td    style=\"border: 1px solid black;\"> </td><td    style=\"border: 1px solid black;\"> </td><td    style=\"border: 1px solid black;\"> </td><td    style=\"border: 1px solid black;\"> </td><td    style=\"border: 1px solid black;\"> </td><td    style=\"border: 1px solid black;\"> </td></tr>\n",
       "<tr><td    style=\"border: 1px solid black;\"> </td><td    style=\"border: 1px solid black;\">a</td><td    style=\"border: 1px solid black;\">b</td><td    style=\"border: 1px solid black;\">c</td><td    style=\"border: 1px solid black;\">d</td><td    style=\"border: 1px solid black;\">e</td><td    style=\"border: 1px solid black;\">f</td><td    style=\"border: 1px solid black;\">g</td><td    style=\"border: 1px solid black;\">h</td></tr>\n",
       "</tbody>\n",
       "</table>"
      ],
      "text/plain": [
       "<IPython.core.display.HTML object>"
      ]
     },
     "metadata": {},
     "output_type": "display_data"
    },
    {
     "data": {
      "text/html": [
       "<table style=\"border: 2px solid black;\">\n",
       "<tbody>\n",
       "<tr><td    style=\"border: 1px solid black;\">1</td><td    style=\"border: 1px solid black;\"> </td><td    style=\"border: 1px solid black;\">♖</td><td    style=\"border: 1px solid black;\"> </td><td    style=\"border: 1px solid black;\"> </td><td    style=\"border: 1px solid black;\"> </td><td    style=\"border: 1px solid black;\"> </td><td    style=\"border: 1px solid black;\"> </td><td    style=\"border: 1px solid black;\"> </td></tr>\n",
       "<tr><td    style=\"border: 1px solid black;\">2</td><td    style=\"border: 1px solid black;\"> </td><td    style=\"border: 1px solid black;\"> </td><td    style=\"border: 1px solid black;\"> </td><td    style=\"border: 1px solid black;\"> </td><td    style=\"border: 1px solid black;\"> </td><td    style=\"border: 1px solid black;\"> </td><td    style=\"border: 1px solid black;\"> </td><td    style=\"border: 1px solid black;\"> </td></tr>\n",
       "<tr><td    style=\"border: 1px solid black;\">3</td><td    style=\"border: 1px solid black;\"> </td><td    style=\"border: 1px solid black;\"> </td><td    style=\"border: 1px solid black;\">♔</td><td    style=\"border: 1px solid black;\"> </td><td    style=\"border: 1px solid black;\"> </td><td    style=\"border: 1px solid black;\"> </td><td    style=\"border: 1px solid black;\"> </td><td    style=\"border: 1px solid black;\"> </td></tr>\n",
       "<tr><td    style=\"border: 1px solid black;\">4</td><td    style=\"border: 1px solid black;\">♚</td><td    style=\"border: 1px solid black;\"> </td><td    style=\"border: 1px solid black;\"> </td><td    style=\"border: 1px solid black;\"> </td><td    style=\"border: 1px solid black;\"> </td><td    style=\"border: 1px solid black;\"> </td><td    style=\"border: 1px solid black;\"> </td><td    style=\"border: 1px solid black;\"> </td></tr>\n",
       "<tr><td    style=\"border: 1px solid black;\">5</td><td    style=\"border: 1px solid black;\"> </td><td    style=\"border: 1px solid black;\"> </td><td    style=\"border: 1px solid black;\"> </td><td    style=\"border: 1px solid black;\"> </td><td    style=\"border: 1px solid black;\"> </td><td    style=\"border: 1px solid black;\"> </td><td    style=\"border: 1px solid black;\"> </td><td    style=\"border: 1px solid black;\"> </td></tr>\n",
       "<tr><td    style=\"border: 1px solid black;\">6</td><td    style=\"border: 1px solid black;\"> </td><td    style=\"border: 1px solid black;\"> </td><td    style=\"border: 1px solid black;\"> </td><td    style=\"border: 1px solid black;\"> </td><td    style=\"border: 1px solid black;\"> </td><td    style=\"border: 1px solid black;\"> </td><td    style=\"border: 1px solid black;\"> </td><td    style=\"border: 1px solid black;\"> </td></tr>\n",
       "<tr><td    style=\"border: 1px solid black;\">7</td><td    style=\"border: 1px solid black;\"> </td><td    style=\"border: 1px solid black;\"> </td><td    style=\"border: 1px solid black;\"> </td><td    style=\"border: 1px solid black;\"> </td><td    style=\"border: 1px solid black;\"> </td><td    style=\"border: 1px solid black;\"> </td><td    style=\"border: 1px solid black;\"> </td><td    style=\"border: 1px solid black;\"> </td></tr>\n",
       "<tr><td    style=\"border: 1px solid black;\">8</td><td    style=\"border: 1px solid black;\"> </td><td    style=\"border: 1px solid black;\"> </td><td    style=\"border: 1px solid black;\"> </td><td    style=\"border: 1px solid black;\"> </td><td    style=\"border: 1px solid black;\"> </td><td    style=\"border: 1px solid black;\"> </td><td    style=\"border: 1px solid black;\"> </td><td    style=\"border: 1px solid black;\"> </td></tr>\n",
       "<tr><td    style=\"border: 1px solid black;\"> </td><td    style=\"border: 1px solid black;\">a</td><td    style=\"border: 1px solid black;\">b</td><td    style=\"border: 1px solid black;\">c</td><td    style=\"border: 1px solid black;\">d</td><td    style=\"border: 1px solid black;\">e</td><td    style=\"border: 1px solid black;\">f</td><td    style=\"border: 1px solid black;\">g</td><td    style=\"border: 1px solid black;\">h</td></tr>\n",
       "</tbody>\n",
       "</table>"
      ],
      "text/plain": [
       "<IPython.core.display.HTML object>"
      ]
     },
     "metadata": {},
     "output_type": "display_data"
    },
    {
     "data": {
      "text/html": [
       "<table style=\"border: 2px solid black;\">\n",
       "<tbody>\n",
       "<tr><td    style=\"border: 1px solid black;\">1</td><td    style=\"border: 1px solid black;\"> </td><td    style=\"border: 1px solid black;\">♖</td><td    style=\"border: 1px solid black;\"> </td><td    style=\"border: 1px solid black;\"> </td><td    style=\"border: 1px solid black;\"> </td><td    style=\"border: 1px solid black;\"> </td><td    style=\"border: 1px solid black;\"> </td><td    style=\"border: 1px solid black;\"> </td></tr>\n",
       "<tr><td    style=\"border: 1px solid black;\">2</td><td    style=\"border: 1px solid black;\"> </td><td    style=\"border: 1px solid black;\"> </td><td    style=\"border: 1px solid black;\"> </td><td    style=\"border: 1px solid black;\"> </td><td    style=\"border: 1px solid black;\"> </td><td    style=\"border: 1px solid black;\"> </td><td    style=\"border: 1px solid black;\"> </td><td    style=\"border: 1px solid black;\"> </td></tr>\n",
       "<tr><td    style=\"border: 1px solid black;\">3</td><td    style=\"border: 1px solid black;\">♚</td><td    style=\"border: 1px solid black;\"> </td><td    style=\"border: 1px solid black;\">♔</td><td    style=\"border: 1px solid black;\"> </td><td    style=\"border: 1px solid black;\"> </td><td    style=\"border: 1px solid black;\"> </td><td    style=\"border: 1px solid black;\"> </td><td    style=\"border: 1px solid black;\"> </td></tr>\n",
       "<tr><td    style=\"border: 1px solid black;\">4</td><td    style=\"border: 1px solid black;\"> </td><td    style=\"border: 1px solid black;\"> </td><td    style=\"border: 1px solid black;\"> </td><td    style=\"border: 1px solid black;\"> </td><td    style=\"border: 1px solid black;\"> </td><td    style=\"border: 1px solid black;\"> </td><td    style=\"border: 1px solid black;\"> </td><td    style=\"border: 1px solid black;\"> </td></tr>\n",
       "<tr><td    style=\"border: 1px solid black;\">5</td><td    style=\"border: 1px solid black;\"> </td><td    style=\"border: 1px solid black;\"> </td><td    style=\"border: 1px solid black;\"> </td><td    style=\"border: 1px solid black;\"> </td><td    style=\"border: 1px solid black;\"> </td><td    style=\"border: 1px solid black;\"> </td><td    style=\"border: 1px solid black;\"> </td><td    style=\"border: 1px solid black;\"> </td></tr>\n",
       "<tr><td    style=\"border: 1px solid black;\">6</td><td    style=\"border: 1px solid black;\"> </td><td    style=\"border: 1px solid black;\"> </td><td    style=\"border: 1px solid black;\"> </td><td    style=\"border: 1px solid black;\"> </td><td    style=\"border: 1px solid black;\"> </td><td    style=\"border: 1px solid black;\"> </td><td    style=\"border: 1px solid black;\"> </td><td    style=\"border: 1px solid black;\"> </td></tr>\n",
       "<tr><td    style=\"border: 1px solid black;\">7</td><td    style=\"border: 1px solid black;\"> </td><td    style=\"border: 1px solid black;\"> </td><td    style=\"border: 1px solid black;\"> </td><td    style=\"border: 1px solid black;\"> </td><td    style=\"border: 1px solid black;\"> </td><td    style=\"border: 1px solid black;\"> </td><td    style=\"border: 1px solid black;\"> </td><td    style=\"border: 1px solid black;\"> </td></tr>\n",
       "<tr><td    style=\"border: 1px solid black;\">8</td><td    style=\"border: 1px solid black;\"> </td><td    style=\"border: 1px solid black;\"> </td><td    style=\"border: 1px solid black;\"> </td><td    style=\"border: 1px solid black;\"> </td><td    style=\"border: 1px solid black;\"> </td><td    style=\"border: 1px solid black;\"> </td><td    style=\"border: 1px solid black;\"> </td><td    style=\"border: 1px solid black;\"> </td></tr>\n",
       "<tr><td    style=\"border: 1px solid black;\"> </td><td    style=\"border: 1px solid black;\">a</td><td    style=\"border: 1px solid black;\">b</td><td    style=\"border: 1px solid black;\">c</td><td    style=\"border: 1px solid black;\">d</td><td    style=\"border: 1px solid black;\">e</td><td    style=\"border: 1px solid black;\">f</td><td    style=\"border: 1px solid black;\">g</td><td    style=\"border: 1px solid black;\">h</td></tr>\n",
       "</tbody>\n",
       "</table>"
      ],
      "text/plain": [
       "<IPython.core.display.HTML object>"
      ]
     },
     "metadata": {},
     "output_type": "display_data"
    },
    {
     "data": {
      "text/html": [
       "<table style=\"border: 2px solid black;\">\n",
       "<tbody>\n",
       "<tr><td    style=\"border: 1px solid black;\">1</td><td    style=\"border: 1px solid black;\">♖</td><td    style=\"border: 1px solid black;\"> </td><td    style=\"border: 1px solid black;\"> </td><td    style=\"border: 1px solid black;\"> </td><td    style=\"border: 1px solid black;\"> </td><td    style=\"border: 1px solid black;\"> </td><td    style=\"border: 1px solid black;\"> </td><td    style=\"border: 1px solid black;\"> </td></tr>\n",
       "<tr><td    style=\"border: 1px solid black;\">2</td><td    style=\"border: 1px solid black;\"> </td><td    style=\"border: 1px solid black;\"> </td><td    style=\"border: 1px solid black;\"> </td><td    style=\"border: 1px solid black;\"> </td><td    style=\"border: 1px solid black;\"> </td><td    style=\"border: 1px solid black;\"> </td><td    style=\"border: 1px solid black;\"> </td><td    style=\"border: 1px solid black;\"> </td></tr>\n",
       "<tr><td    style=\"border: 1px solid black;\">3</td><td    style=\"border: 1px solid black;\">♚</td><td    style=\"border: 1px solid black;\"> </td><td    style=\"border: 1px solid black;\">♔</td><td    style=\"border: 1px solid black;\"> </td><td    style=\"border: 1px solid black;\"> </td><td    style=\"border: 1px solid black;\"> </td><td    style=\"border: 1px solid black;\"> </td><td    style=\"border: 1px solid black;\"> </td></tr>\n",
       "<tr><td    style=\"border: 1px solid black;\">4</td><td    style=\"border: 1px solid black;\"> </td><td    style=\"border: 1px solid black;\"> </td><td    style=\"border: 1px solid black;\"> </td><td    style=\"border: 1px solid black;\"> </td><td    style=\"border: 1px solid black;\"> </td><td    style=\"border: 1px solid black;\"> </td><td    style=\"border: 1px solid black;\"> </td><td    style=\"border: 1px solid black;\"> </td></tr>\n",
       "<tr><td    style=\"border: 1px solid black;\">5</td><td    style=\"border: 1px solid black;\"> </td><td    style=\"border: 1px solid black;\"> </td><td    style=\"border: 1px solid black;\"> </td><td    style=\"border: 1px solid black;\"> </td><td    style=\"border: 1px solid black;\"> </td><td    style=\"border: 1px solid black;\"> </td><td    style=\"border: 1px solid black;\"> </td><td    style=\"border: 1px solid black;\"> </td></tr>\n",
       "<tr><td    style=\"border: 1px solid black;\">6</td><td    style=\"border: 1px solid black;\"> </td><td    style=\"border: 1px solid black;\"> </td><td    style=\"border: 1px solid black;\"> </td><td    style=\"border: 1px solid black;\"> </td><td    style=\"border: 1px solid black;\"> </td><td    style=\"border: 1px solid black;\"> </td><td    style=\"border: 1px solid black;\"> </td><td    style=\"border: 1px solid black;\"> </td></tr>\n",
       "<tr><td    style=\"border: 1px solid black;\">7</td><td    style=\"border: 1px solid black;\"> </td><td    style=\"border: 1px solid black;\"> </td><td    style=\"border: 1px solid black;\"> </td><td    style=\"border: 1px solid black;\"> </td><td    style=\"border: 1px solid black;\"> </td><td    style=\"border: 1px solid black;\"> </td><td    style=\"border: 1px solid black;\"> </td><td    style=\"border: 1px solid black;\"> </td></tr>\n",
       "<tr><td    style=\"border: 1px solid black;\">8</td><td    style=\"border: 1px solid black;\"> </td><td    style=\"border: 1px solid black;\"> </td><td    style=\"border: 1px solid black;\"> </td><td    style=\"border: 1px solid black;\"> </td><td    style=\"border: 1px solid black;\"> </td><td    style=\"border: 1px solid black;\"> </td><td    style=\"border: 1px solid black;\"> </td><td    style=\"border: 1px solid black;\"> </td></tr>\n",
       "<tr><td    style=\"border: 1px solid black;\"> </td><td    style=\"border: 1px solid black;\">a</td><td    style=\"border: 1px solid black;\">b</td><td    style=\"border: 1px solid black;\">c</td><td    style=\"border: 1px solid black;\">d</td><td    style=\"border: 1px solid black;\">e</td><td    style=\"border: 1px solid black;\">f</td><td    style=\"border: 1px solid black;\">g</td><td    style=\"border: 1px solid black;\">h</td></tr>\n",
       "</tbody>\n",
       "</table>"
      ],
      "text/plain": [
       "<IPython.core.display.HTML object>"
      ]
     },
     "metadata": {},
     "output_type": "display_data"
    },
    {
     "name": "stdout",
     "output_type": "stream",
     "text": [
      "We are testing black h7 a2 f2\n"
     ]
    },
    {
     "data": {
      "text/html": [
       "<table style=\"border: 2px solid black;\">\n",
       "<tbody>\n",
       "<tr><td    style=\"border: 1px solid black;\">1</td><td    style=\"border: 1px solid black;\"> </td><td    style=\"border: 1px solid black;\"> </td><td    style=\"border: 1px solid black;\"> </td><td    style=\"border: 1px solid black;\"> </td><td    style=\"border: 1px solid black;\"> </td><td    style=\"border: 1px solid black;\"> </td><td    style=\"border: 1px solid black;\"> </td><td    style=\"border: 1px solid black;\"> </td></tr>\n",
       "<tr><td    style=\"border: 1px solid black;\">2</td><td    style=\"border: 1px solid black;\">♖</td><td    style=\"border: 1px solid black;\"> </td><td    style=\"border: 1px solid black;\"> </td><td    style=\"border: 1px solid black;\"> </td><td    style=\"border: 1px solid black;\"> </td><td    style=\"border: 1px solid black;\">♚</td><td    style=\"border: 1px solid black;\"> </td><td    style=\"border: 1px solid black;\"> </td></tr>\n",
       "<tr><td    style=\"border: 1px solid black;\">3</td><td    style=\"border: 1px solid black;\"> </td><td    style=\"border: 1px solid black;\"> </td><td    style=\"border: 1px solid black;\"> </td><td    style=\"border: 1px solid black;\"> </td><td    style=\"border: 1px solid black;\"> </td><td    style=\"border: 1px solid black;\"> </td><td    style=\"border: 1px solid black;\"> </td><td    style=\"border: 1px solid black;\"> </td></tr>\n",
       "<tr><td    style=\"border: 1px solid black;\">4</td><td    style=\"border: 1px solid black;\"> </td><td    style=\"border: 1px solid black;\"> </td><td    style=\"border: 1px solid black;\"> </td><td    style=\"border: 1px solid black;\"> </td><td    style=\"border: 1px solid black;\"> </td><td    style=\"border: 1px solid black;\"> </td><td    style=\"border: 1px solid black;\"> </td><td    style=\"border: 1px solid black;\"> </td></tr>\n",
       "<tr><td    style=\"border: 1px solid black;\">5</td><td    style=\"border: 1px solid black;\"> </td><td    style=\"border: 1px solid black;\"> </td><td    style=\"border: 1px solid black;\"> </td><td    style=\"border: 1px solid black;\"> </td><td    style=\"border: 1px solid black;\"> </td><td    style=\"border: 1px solid black;\"> </td><td    style=\"border: 1px solid black;\"> </td><td    style=\"border: 1px solid black;\"> </td></tr>\n",
       "<tr><td    style=\"border: 1px solid black;\">6</td><td    style=\"border: 1px solid black;\"> </td><td    style=\"border: 1px solid black;\"> </td><td    style=\"border: 1px solid black;\"> </td><td    style=\"border: 1px solid black;\"> </td><td    style=\"border: 1px solid black;\"> </td><td    style=\"border: 1px solid black;\"> </td><td    style=\"border: 1px solid black;\"> </td><td    style=\"border: 1px solid black;\"> </td></tr>\n",
       "<tr><td    style=\"border: 1px solid black;\">7</td><td    style=\"border: 1px solid black;\"> </td><td    style=\"border: 1px solid black;\"> </td><td    style=\"border: 1px solid black;\"> </td><td    style=\"border: 1px solid black;\"> </td><td    style=\"border: 1px solid black;\"> </td><td    style=\"border: 1px solid black;\"> </td><td    style=\"border: 1px solid black;\"> </td><td    style=\"border: 1px solid black;\">♔</td></tr>\n",
       "<tr><td    style=\"border: 1px solid black;\">8</td><td    style=\"border: 1px solid black;\"> </td><td    style=\"border: 1px solid black;\"> </td><td    style=\"border: 1px solid black;\"> </td><td    style=\"border: 1px solid black;\"> </td><td    style=\"border: 1px solid black;\"> </td><td    style=\"border: 1px solid black;\"> </td><td    style=\"border: 1px solid black;\"> </td><td    style=\"border: 1px solid black;\"> </td></tr>\n",
       "<tr><td    style=\"border: 1px solid black;\"> </td><td    style=\"border: 1px solid black;\">a</td><td    style=\"border: 1px solid black;\">b</td><td    style=\"border: 1px solid black;\">c</td><td    style=\"border: 1px solid black;\">d</td><td    style=\"border: 1px solid black;\">e</td><td    style=\"border: 1px solid black;\">f</td><td    style=\"border: 1px solid black;\">g</td><td    style=\"border: 1px solid black;\">h</td></tr>\n",
       "</tbody>\n",
       "</table>"
      ],
      "text/plain": [
       "<IPython.core.display.HTML object>"
      ]
     },
     "metadata": {},
     "output_type": "display_data"
    },
    {
     "data": {
      "text/html": [
       "<table style=\"border: 2px solid black;\">\n",
       "<tbody>\n",
       "<tr><td    style=\"border: 1px solid black;\">1</td><td    style=\"border: 1px solid black;\"> </td><td    style=\"border: 1px solid black;\"> </td><td    style=\"border: 1px solid black;\"> </td><td    style=\"border: 1px solid black;\"> </td><td    style=\"border: 1px solid black;\"> </td><td    style=\"border: 1px solid black;\"> </td><td    style=\"border: 1px solid black;\"> </td><td    style=\"border: 1px solid black;\"> </td></tr>\n",
       "<tr><td    style=\"border: 1px solid black;\">2</td><td    style=\"border: 1px solid black;\">♖</td><td    style=\"border: 1px solid black;\"> </td><td    style=\"border: 1px solid black;\"> </td><td    style=\"border: 1px solid black;\"> </td><td    style=\"border: 1px solid black;\"> </td><td    style=\"border: 1px solid black;\"> </td><td    style=\"border: 1px solid black;\"> </td><td    style=\"border: 1px solid black;\"> </td></tr>\n",
       "<tr><td    style=\"border: 1px solid black;\">3</td><td    style=\"border: 1px solid black;\"> </td><td    style=\"border: 1px solid black;\"> </td><td    style=\"border: 1px solid black;\"> </td><td    style=\"border: 1px solid black;\"> </td><td    style=\"border: 1px solid black;\"> </td><td    style=\"border: 1px solid black;\"> </td><td    style=\"border: 1px solid black;\">♚</td><td    style=\"border: 1px solid black;\"> </td></tr>\n",
       "<tr><td    style=\"border: 1px solid black;\">4</td><td    style=\"border: 1px solid black;\"> </td><td    style=\"border: 1px solid black;\"> </td><td    style=\"border: 1px solid black;\"> </td><td    style=\"border: 1px solid black;\"> </td><td    style=\"border: 1px solid black;\"> </td><td    style=\"border: 1px solid black;\"> </td><td    style=\"border: 1px solid black;\"> </td><td    style=\"border: 1px solid black;\"> </td></tr>\n",
       "<tr><td    style=\"border: 1px solid black;\">5</td><td    style=\"border: 1px solid black;\"> </td><td    style=\"border: 1px solid black;\"> </td><td    style=\"border: 1px solid black;\"> </td><td    style=\"border: 1px solid black;\"> </td><td    style=\"border: 1px solid black;\"> </td><td    style=\"border: 1px solid black;\"> </td><td    style=\"border: 1px solid black;\"> </td><td    style=\"border: 1px solid black;\"> </td></tr>\n",
       "<tr><td    style=\"border: 1px solid black;\">6</td><td    style=\"border: 1px solid black;\"> </td><td    style=\"border: 1px solid black;\"> </td><td    style=\"border: 1px solid black;\"> </td><td    style=\"border: 1px solid black;\"> </td><td    style=\"border: 1px solid black;\"> </td><td    style=\"border: 1px solid black;\"> </td><td    style=\"border: 1px solid black;\"> </td><td    style=\"border: 1px solid black;\"> </td></tr>\n",
       "<tr><td    style=\"border: 1px solid black;\">7</td><td    style=\"border: 1px solid black;\"> </td><td    style=\"border: 1px solid black;\"> </td><td    style=\"border: 1px solid black;\"> </td><td    style=\"border: 1px solid black;\"> </td><td    style=\"border: 1px solid black;\"> </td><td    style=\"border: 1px solid black;\"> </td><td    style=\"border: 1px solid black;\"> </td><td    style=\"border: 1px solid black;\">♔</td></tr>\n",
       "<tr><td    style=\"border: 1px solid black;\">8</td><td    style=\"border: 1px solid black;\"> </td><td    style=\"border: 1px solid black;\"> </td><td    style=\"border: 1px solid black;\"> </td><td    style=\"border: 1px solid black;\"> </td><td    style=\"border: 1px solid black;\"> </td><td    style=\"border: 1px solid black;\"> </td><td    style=\"border: 1px solid black;\"> </td><td    style=\"border: 1px solid black;\"> </td></tr>\n",
       "<tr><td    style=\"border: 1px solid black;\"> </td><td    style=\"border: 1px solid black;\">a</td><td    style=\"border: 1px solid black;\">b</td><td    style=\"border: 1px solid black;\">c</td><td    style=\"border: 1px solid black;\">d</td><td    style=\"border: 1px solid black;\">e</td><td    style=\"border: 1px solid black;\">f</td><td    style=\"border: 1px solid black;\">g</td><td    style=\"border: 1px solid black;\">h</td></tr>\n",
       "</tbody>\n",
       "</table>"
      ],
      "text/plain": [
       "<IPython.core.display.HTML object>"
      ]
     },
     "metadata": {},
     "output_type": "display_data"
    },
    {
     "data": {
      "text/html": [
       "<table style=\"border: 2px solid black;\">\n",
       "<tbody>\n",
       "<tr><td    style=\"border: 1px solid black;\">1</td><td    style=\"border: 1px solid black;\"> </td><td    style=\"border: 1px solid black;\"> </td><td    style=\"border: 1px solid black;\"> </td><td    style=\"border: 1px solid black;\"> </td><td    style=\"border: 1px solid black;\"> </td><td    style=\"border: 1px solid black;\"> </td><td    style=\"border: 1px solid black;\"> </td><td    style=\"border: 1px solid black;\"> </td></tr>\n",
       "<tr><td    style=\"border: 1px solid black;\">2</td><td    style=\"border: 1px solid black;\">♖</td><td    style=\"border: 1px solid black;\"> </td><td    style=\"border: 1px solid black;\"> </td><td    style=\"border: 1px solid black;\"> </td><td    style=\"border: 1px solid black;\"> </td><td    style=\"border: 1px solid black;\"> </td><td    style=\"border: 1px solid black;\"> </td><td    style=\"border: 1px solid black;\"> </td></tr>\n",
       "<tr><td    style=\"border: 1px solid black;\">3</td><td    style=\"border: 1px solid black;\"> </td><td    style=\"border: 1px solid black;\"> </td><td    style=\"border: 1px solid black;\"> </td><td    style=\"border: 1px solid black;\"> </td><td    style=\"border: 1px solid black;\"> </td><td    style=\"border: 1px solid black;\"> </td><td    style=\"border: 1px solid black;\">♚</td><td    style=\"border: 1px solid black;\"> </td></tr>\n",
       "<tr><td    style=\"border: 1px solid black;\">4</td><td    style=\"border: 1px solid black;\"> </td><td    style=\"border: 1px solid black;\"> </td><td    style=\"border: 1px solid black;\"> </td><td    style=\"border: 1px solid black;\"> </td><td    style=\"border: 1px solid black;\"> </td><td    style=\"border: 1px solid black;\"> </td><td    style=\"border: 1px solid black;\"> </td><td    style=\"border: 1px solid black;\"> </td></tr>\n",
       "<tr><td    style=\"border: 1px solid black;\">5</td><td    style=\"border: 1px solid black;\"> </td><td    style=\"border: 1px solid black;\"> </td><td    style=\"border: 1px solid black;\"> </td><td    style=\"border: 1px solid black;\"> </td><td    style=\"border: 1px solid black;\"> </td><td    style=\"border: 1px solid black;\"> </td><td    style=\"border: 1px solid black;\"> </td><td    style=\"border: 1px solid black;\"> </td></tr>\n",
       "<tr><td    style=\"border: 1px solid black;\">6</td><td    style=\"border: 1px solid black;\"> </td><td    style=\"border: 1px solid black;\"> </td><td    style=\"border: 1px solid black;\"> </td><td    style=\"border: 1px solid black;\"> </td><td    style=\"border: 1px solid black;\"> </td><td    style=\"border: 1px solid black;\"> </td><td    style=\"border: 1px solid black;\">♔</td><td    style=\"border: 1px solid black;\"> </td></tr>\n",
       "<tr><td    style=\"border: 1px solid black;\">7</td><td    style=\"border: 1px solid black;\"> </td><td    style=\"border: 1px solid black;\"> </td><td    style=\"border: 1px solid black;\"> </td><td    style=\"border: 1px solid black;\"> </td><td    style=\"border: 1px solid black;\"> </td><td    style=\"border: 1px solid black;\"> </td><td    style=\"border: 1px solid black;\"> </td><td    style=\"border: 1px solid black;\"> </td></tr>\n",
       "<tr><td    style=\"border: 1px solid black;\">8</td><td    style=\"border: 1px solid black;\"> </td><td    style=\"border: 1px solid black;\"> </td><td    style=\"border: 1px solid black;\"> </td><td    style=\"border: 1px solid black;\"> </td><td    style=\"border: 1px solid black;\"> </td><td    style=\"border: 1px solid black;\"> </td><td    style=\"border: 1px solid black;\"> </td><td    style=\"border: 1px solid black;\"> </td></tr>\n",
       "<tr><td    style=\"border: 1px solid black;\"> </td><td    style=\"border: 1px solid black;\">a</td><td    style=\"border: 1px solid black;\">b</td><td    style=\"border: 1px solid black;\">c</td><td    style=\"border: 1px solid black;\">d</td><td    style=\"border: 1px solid black;\">e</td><td    style=\"border: 1px solid black;\">f</td><td    style=\"border: 1px solid black;\">g</td><td    style=\"border: 1px solid black;\">h</td></tr>\n",
       "</tbody>\n",
       "</table>"
      ],
      "text/plain": [
       "<IPython.core.display.HTML object>"
      ]
     },
     "metadata": {},
     "output_type": "display_data"
    },
    {
     "data": {
      "text/html": [
       "<table style=\"border: 2px solid black;\">\n",
       "<tbody>\n",
       "<tr><td    style=\"border: 1px solid black;\">1</td><td    style=\"border: 1px solid black;\"> </td><td    style=\"border: 1px solid black;\"> </td><td    style=\"border: 1px solid black;\"> </td><td    style=\"border: 1px solid black;\"> </td><td    style=\"border: 1px solid black;\"> </td><td    style=\"border: 1px solid black;\"> </td><td    style=\"border: 1px solid black;\"> </td><td    style=\"border: 1px solid black;\"> </td></tr>\n",
       "<tr><td    style=\"border: 1px solid black;\">2</td><td    style=\"border: 1px solid black;\">♖</td><td    style=\"border: 1px solid black;\"> </td><td    style=\"border: 1px solid black;\"> </td><td    style=\"border: 1px solid black;\"> </td><td    style=\"border: 1px solid black;\"> </td><td    style=\"border: 1px solid black;\"> </td><td    style=\"border: 1px solid black;\"> </td><td    style=\"border: 1px solid black;\"> </td></tr>\n",
       "<tr><td    style=\"border: 1px solid black;\">3</td><td    style=\"border: 1px solid black;\"> </td><td    style=\"border: 1px solid black;\"> </td><td    style=\"border: 1px solid black;\"> </td><td    style=\"border: 1px solid black;\"> </td><td    style=\"border: 1px solid black;\"> </td><td    style=\"border: 1px solid black;\"> </td><td    style=\"border: 1px solid black;\"> </td><td    style=\"border: 1px solid black;\"> </td></tr>\n",
       "<tr><td    style=\"border: 1px solid black;\">4</td><td    style=\"border: 1px solid black;\"> </td><td    style=\"border: 1px solid black;\"> </td><td    style=\"border: 1px solid black;\"> </td><td    style=\"border: 1px solid black;\"> </td><td    style=\"border: 1px solid black;\"> </td><td    style=\"border: 1px solid black;\"> </td><td    style=\"border: 1px solid black;\"> </td><td    style=\"border: 1px solid black;\">♚</td></tr>\n",
       "<tr><td    style=\"border: 1px solid black;\">5</td><td    style=\"border: 1px solid black;\"> </td><td    style=\"border: 1px solid black;\"> </td><td    style=\"border: 1px solid black;\"> </td><td    style=\"border: 1px solid black;\"> </td><td    style=\"border: 1px solid black;\"> </td><td    style=\"border: 1px solid black;\"> </td><td    style=\"border: 1px solid black;\"> </td><td    style=\"border: 1px solid black;\"> </td></tr>\n",
       "<tr><td    style=\"border: 1px solid black;\">6</td><td    style=\"border: 1px solid black;\"> </td><td    style=\"border: 1px solid black;\"> </td><td    style=\"border: 1px solid black;\"> </td><td    style=\"border: 1px solid black;\"> </td><td    style=\"border: 1px solid black;\"> </td><td    style=\"border: 1px solid black;\"> </td><td    style=\"border: 1px solid black;\">♔</td><td    style=\"border: 1px solid black;\"> </td></tr>\n",
       "<tr><td    style=\"border: 1px solid black;\">7</td><td    style=\"border: 1px solid black;\"> </td><td    style=\"border: 1px solid black;\"> </td><td    style=\"border: 1px solid black;\"> </td><td    style=\"border: 1px solid black;\"> </td><td    style=\"border: 1px solid black;\"> </td><td    style=\"border: 1px solid black;\"> </td><td    style=\"border: 1px solid black;\"> </td><td    style=\"border: 1px solid black;\"> </td></tr>\n",
       "<tr><td    style=\"border: 1px solid black;\">8</td><td    style=\"border: 1px solid black;\"> </td><td    style=\"border: 1px solid black;\"> </td><td    style=\"border: 1px solid black;\"> </td><td    style=\"border: 1px solid black;\"> </td><td    style=\"border: 1px solid black;\"> </td><td    style=\"border: 1px solid black;\"> </td><td    style=\"border: 1px solid black;\"> </td><td    style=\"border: 1px solid black;\"> </td></tr>\n",
       "<tr><td    style=\"border: 1px solid black;\"> </td><td    style=\"border: 1px solid black;\">a</td><td    style=\"border: 1px solid black;\">b</td><td    style=\"border: 1px solid black;\">c</td><td    style=\"border: 1px solid black;\">d</td><td    style=\"border: 1px solid black;\">e</td><td    style=\"border: 1px solid black;\">f</td><td    style=\"border: 1px solid black;\">g</td><td    style=\"border: 1px solid black;\">h</td></tr>\n",
       "</tbody>\n",
       "</table>"
      ],
      "text/plain": [
       "<IPython.core.display.HTML object>"
      ]
     },
     "metadata": {},
     "output_type": "display_data"
    },
    {
     "data": {
      "text/html": [
       "<table style=\"border: 2px solid black;\">\n",
       "<tbody>\n",
       "<tr><td    style=\"border: 1px solid black;\">1</td><td    style=\"border: 1px solid black;\"> </td><td    style=\"border: 1px solid black;\"> </td><td    style=\"border: 1px solid black;\"> </td><td    style=\"border: 1px solid black;\"> </td><td    style=\"border: 1px solid black;\"> </td><td    style=\"border: 1px solid black;\"> </td><td    style=\"border: 1px solid black;\"> </td><td    style=\"border: 1px solid black;\"> </td></tr>\n",
       "<tr><td    style=\"border: 1px solid black;\">2</td><td    style=\"border: 1px solid black;\">♖</td><td    style=\"border: 1px solid black;\"> </td><td    style=\"border: 1px solid black;\"> </td><td    style=\"border: 1px solid black;\"> </td><td    style=\"border: 1px solid black;\"> </td><td    style=\"border: 1px solid black;\"> </td><td    style=\"border: 1px solid black;\"> </td><td    style=\"border: 1px solid black;\"> </td></tr>\n",
       "<tr><td    style=\"border: 1px solid black;\">3</td><td    style=\"border: 1px solid black;\"> </td><td    style=\"border: 1px solid black;\"> </td><td    style=\"border: 1px solid black;\"> </td><td    style=\"border: 1px solid black;\"> </td><td    style=\"border: 1px solid black;\"> </td><td    style=\"border: 1px solid black;\"> </td><td    style=\"border: 1px solid black;\"> </td><td    style=\"border: 1px solid black;\"> </td></tr>\n",
       "<tr><td    style=\"border: 1px solid black;\">4</td><td    style=\"border: 1px solid black;\"> </td><td    style=\"border: 1px solid black;\"> </td><td    style=\"border: 1px solid black;\"> </td><td    style=\"border: 1px solid black;\"> </td><td    style=\"border: 1px solid black;\"> </td><td    style=\"border: 1px solid black;\"> </td><td    style=\"border: 1px solid black;\"> </td><td    style=\"border: 1px solid black;\">♚</td></tr>\n",
       "<tr><td    style=\"border: 1px solid black;\">5</td><td    style=\"border: 1px solid black;\"> </td><td    style=\"border: 1px solid black;\"> </td><td    style=\"border: 1px solid black;\"> </td><td    style=\"border: 1px solid black;\"> </td><td    style=\"border: 1px solid black;\"> </td><td    style=\"border: 1px solid black;\">♔</td><td    style=\"border: 1px solid black;\"> </td><td    style=\"border: 1px solid black;\"> </td></tr>\n",
       "<tr><td    style=\"border: 1px solid black;\">6</td><td    style=\"border: 1px solid black;\"> </td><td    style=\"border: 1px solid black;\"> </td><td    style=\"border: 1px solid black;\"> </td><td    style=\"border: 1px solid black;\"> </td><td    style=\"border: 1px solid black;\"> </td><td    style=\"border: 1px solid black;\"> </td><td    style=\"border: 1px solid black;\"> </td><td    style=\"border: 1px solid black;\"> </td></tr>\n",
       "<tr><td    style=\"border: 1px solid black;\">7</td><td    style=\"border: 1px solid black;\"> </td><td    style=\"border: 1px solid black;\"> </td><td    style=\"border: 1px solid black;\"> </td><td    style=\"border: 1px solid black;\"> </td><td    style=\"border: 1px solid black;\"> </td><td    style=\"border: 1px solid black;\"> </td><td    style=\"border: 1px solid black;\"> </td><td    style=\"border: 1px solid black;\"> </td></tr>\n",
       "<tr><td    style=\"border: 1px solid black;\">8</td><td    style=\"border: 1px solid black;\"> </td><td    style=\"border: 1px solid black;\"> </td><td    style=\"border: 1px solid black;\"> </td><td    style=\"border: 1px solid black;\"> </td><td    style=\"border: 1px solid black;\"> </td><td    style=\"border: 1px solid black;\"> </td><td    style=\"border: 1px solid black;\"> </td><td    style=\"border: 1px solid black;\"> </td></tr>\n",
       "<tr><td    style=\"border: 1px solid black;\"> </td><td    style=\"border: 1px solid black;\">a</td><td    style=\"border: 1px solid black;\">b</td><td    style=\"border: 1px solid black;\">c</td><td    style=\"border: 1px solid black;\">d</td><td    style=\"border: 1px solid black;\">e</td><td    style=\"border: 1px solid black;\">f</td><td    style=\"border: 1px solid black;\">g</td><td    style=\"border: 1px solid black;\">h</td></tr>\n",
       "</tbody>\n",
       "</table>"
      ],
      "text/plain": [
       "<IPython.core.display.HTML object>"
      ]
     },
     "metadata": {},
     "output_type": "display_data"
    },
    {
     "data": {
      "text/html": [
       "<table style=\"border: 2px solid black;\">\n",
       "<tbody>\n",
       "<tr><td    style=\"border: 1px solid black;\">1</td><td    style=\"border: 1px solid black;\"> </td><td    style=\"border: 1px solid black;\"> </td><td    style=\"border: 1px solid black;\"> </td><td    style=\"border: 1px solid black;\"> </td><td    style=\"border: 1px solid black;\"> </td><td    style=\"border: 1px solid black;\"> </td><td    style=\"border: 1px solid black;\"> </td><td    style=\"border: 1px solid black;\"> </td></tr>\n",
       "<tr><td    style=\"border: 1px solid black;\">2</td><td    style=\"border: 1px solid black;\">♖</td><td    style=\"border: 1px solid black;\"> </td><td    style=\"border: 1px solid black;\"> </td><td    style=\"border: 1px solid black;\"> </td><td    style=\"border: 1px solid black;\"> </td><td    style=\"border: 1px solid black;\"> </td><td    style=\"border: 1px solid black;\"> </td><td    style=\"border: 1px solid black;\"> </td></tr>\n",
       "<tr><td    style=\"border: 1px solid black;\">3</td><td    style=\"border: 1px solid black;\"> </td><td    style=\"border: 1px solid black;\"> </td><td    style=\"border: 1px solid black;\"> </td><td    style=\"border: 1px solid black;\"> </td><td    style=\"border: 1px solid black;\"> </td><td    style=\"border: 1px solid black;\"> </td><td    style=\"border: 1px solid black;\"> </td><td    style=\"border: 1px solid black;\"> </td></tr>\n",
       "<tr><td    style=\"border: 1px solid black;\">4</td><td    style=\"border: 1px solid black;\"> </td><td    style=\"border: 1px solid black;\"> </td><td    style=\"border: 1px solid black;\"> </td><td    style=\"border: 1px solid black;\"> </td><td    style=\"border: 1px solid black;\"> </td><td    style=\"border: 1px solid black;\"> </td><td    style=\"border: 1px solid black;\"> </td><td    style=\"border: 1px solid black;\"> </td></tr>\n",
       "<tr><td    style=\"border: 1px solid black;\">5</td><td    style=\"border: 1px solid black;\"> </td><td    style=\"border: 1px solid black;\"> </td><td    style=\"border: 1px solid black;\"> </td><td    style=\"border: 1px solid black;\"> </td><td    style=\"border: 1px solid black;\"> </td><td    style=\"border: 1px solid black;\">♔</td><td    style=\"border: 1px solid black;\"> </td><td    style=\"border: 1px solid black;\">♚</td></tr>\n",
       "<tr><td    style=\"border: 1px solid black;\">6</td><td    style=\"border: 1px solid black;\"> </td><td    style=\"border: 1px solid black;\"> </td><td    style=\"border: 1px solid black;\"> </td><td    style=\"border: 1px solid black;\"> </td><td    style=\"border: 1px solid black;\"> </td><td    style=\"border: 1px solid black;\"> </td><td    style=\"border: 1px solid black;\"> </td><td    style=\"border: 1px solid black;\"> </td></tr>\n",
       "<tr><td    style=\"border: 1px solid black;\">7</td><td    style=\"border: 1px solid black;\"> </td><td    style=\"border: 1px solid black;\"> </td><td    style=\"border: 1px solid black;\"> </td><td    style=\"border: 1px solid black;\"> </td><td    style=\"border: 1px solid black;\"> </td><td    style=\"border: 1px solid black;\"> </td><td    style=\"border: 1px solid black;\"> </td><td    style=\"border: 1px solid black;\"> </td></tr>\n",
       "<tr><td    style=\"border: 1px solid black;\">8</td><td    style=\"border: 1px solid black;\"> </td><td    style=\"border: 1px solid black;\"> </td><td    style=\"border: 1px solid black;\"> </td><td    style=\"border: 1px solid black;\"> </td><td    style=\"border: 1px solid black;\"> </td><td    style=\"border: 1px solid black;\"> </td><td    style=\"border: 1px solid black;\"> </td><td    style=\"border: 1px solid black;\"> </td></tr>\n",
       "<tr><td    style=\"border: 1px solid black;\"> </td><td    style=\"border: 1px solid black;\">a</td><td    style=\"border: 1px solid black;\">b</td><td    style=\"border: 1px solid black;\">c</td><td    style=\"border: 1px solid black;\">d</td><td    style=\"border: 1px solid black;\">e</td><td    style=\"border: 1px solid black;\">f</td><td    style=\"border: 1px solid black;\">g</td><td    style=\"border: 1px solid black;\">h</td></tr>\n",
       "</tbody>\n",
       "</table>"
      ],
      "text/plain": [
       "<IPython.core.display.HTML object>"
      ]
     },
     "metadata": {},
     "output_type": "display_data"
    },
    {
     "data": {
      "text/html": [
       "<table style=\"border: 2px solid black;\">\n",
       "<tbody>\n",
       "<tr><td    style=\"border: 1px solid black;\">1</td><td    style=\"border: 1px solid black;\"> </td><td    style=\"border: 1px solid black;\"> </td><td    style=\"border: 1px solid black;\"> </td><td    style=\"border: 1px solid black;\"> </td><td    style=\"border: 1px solid black;\"> </td><td    style=\"border: 1px solid black;\"> </td><td    style=\"border: 1px solid black;\"> </td><td    style=\"border: 1px solid black;\"> </td></tr>\n",
       "<tr><td    style=\"border: 1px solid black;\">2</td><td    style=\"border: 1px solid black;\"> </td><td    style=\"border: 1px solid black;\"> </td><td    style=\"border: 1px solid black;\"> </td><td    style=\"border: 1px solid black;\"> </td><td    style=\"border: 1px solid black;\"> </td><td    style=\"border: 1px solid black;\"> </td><td    style=\"border: 1px solid black;\"> </td><td    style=\"border: 1px solid black;\">♖</td></tr>\n",
       "<tr><td    style=\"border: 1px solid black;\">3</td><td    style=\"border: 1px solid black;\"> </td><td    style=\"border: 1px solid black;\"> </td><td    style=\"border: 1px solid black;\"> </td><td    style=\"border: 1px solid black;\"> </td><td    style=\"border: 1px solid black;\"> </td><td    style=\"border: 1px solid black;\"> </td><td    style=\"border: 1px solid black;\"> </td><td    style=\"border: 1px solid black;\"> </td></tr>\n",
       "<tr><td    style=\"border: 1px solid black;\">4</td><td    style=\"border: 1px solid black;\"> </td><td    style=\"border: 1px solid black;\"> </td><td    style=\"border: 1px solid black;\"> </td><td    style=\"border: 1px solid black;\"> </td><td    style=\"border: 1px solid black;\"> </td><td    style=\"border: 1px solid black;\"> </td><td    style=\"border: 1px solid black;\"> </td><td    style=\"border: 1px solid black;\"> </td></tr>\n",
       "<tr><td    style=\"border: 1px solid black;\">5</td><td    style=\"border: 1px solid black;\"> </td><td    style=\"border: 1px solid black;\"> </td><td    style=\"border: 1px solid black;\"> </td><td    style=\"border: 1px solid black;\"> </td><td    style=\"border: 1px solid black;\"> </td><td    style=\"border: 1px solid black;\">♔</td><td    style=\"border: 1px solid black;\"> </td><td    style=\"border: 1px solid black;\">♚</td></tr>\n",
       "<tr><td    style=\"border: 1px solid black;\">6</td><td    style=\"border: 1px solid black;\"> </td><td    style=\"border: 1px solid black;\"> </td><td    style=\"border: 1px solid black;\"> </td><td    style=\"border: 1px solid black;\"> </td><td    style=\"border: 1px solid black;\"> </td><td    style=\"border: 1px solid black;\"> </td><td    style=\"border: 1px solid black;\"> </td><td    style=\"border: 1px solid black;\"> </td></tr>\n",
       "<tr><td    style=\"border: 1px solid black;\">7</td><td    style=\"border: 1px solid black;\"> </td><td    style=\"border: 1px solid black;\"> </td><td    style=\"border: 1px solid black;\"> </td><td    style=\"border: 1px solid black;\"> </td><td    style=\"border: 1px solid black;\"> </td><td    style=\"border: 1px solid black;\"> </td><td    style=\"border: 1px solid black;\"> </td><td    style=\"border: 1px solid black;\"> </td></tr>\n",
       "<tr><td    style=\"border: 1px solid black;\">8</td><td    style=\"border: 1px solid black;\"> </td><td    style=\"border: 1px solid black;\"> </td><td    style=\"border: 1px solid black;\"> </td><td    style=\"border: 1px solid black;\"> </td><td    style=\"border: 1px solid black;\"> </td><td    style=\"border: 1px solid black;\"> </td><td    style=\"border: 1px solid black;\"> </td><td    style=\"border: 1px solid black;\"> </td></tr>\n",
       "<tr><td    style=\"border: 1px solid black;\"> </td><td    style=\"border: 1px solid black;\">a</td><td    style=\"border: 1px solid black;\">b</td><td    style=\"border: 1px solid black;\">c</td><td    style=\"border: 1px solid black;\">d</td><td    style=\"border: 1px solid black;\">e</td><td    style=\"border: 1px solid black;\">f</td><td    style=\"border: 1px solid black;\">g</td><td    style=\"border: 1px solid black;\">h</td></tr>\n",
       "</tbody>\n",
       "</table>"
      ],
      "text/plain": [
       "<IPython.core.display.HTML object>"
      ]
     },
     "metadata": {},
     "output_type": "display_data"
    },
    {
     "name": "stdout",
     "output_type": "stream",
     "text": [
      "We are testing black a2 e4 a4\n"
     ]
    },
    {
     "data": {
      "text/html": [
       "<table style=\"border: 2px solid black;\">\n",
       "<tbody>\n",
       "<tr><td    style=\"border: 1px solid black;\">1</td><td    style=\"border: 1px solid black;\"> </td><td    style=\"border: 1px solid black;\"> </td><td    style=\"border: 1px solid black;\"> </td><td    style=\"border: 1px solid black;\"> </td><td    style=\"border: 1px solid black;\"> </td><td    style=\"border: 1px solid black;\"> </td><td    style=\"border: 1px solid black;\"> </td><td    style=\"border: 1px solid black;\"> </td></tr>\n",
       "<tr><td    style=\"border: 1px solid black;\">2</td><td    style=\"border: 1px solid black;\">♔</td><td    style=\"border: 1px solid black;\"> </td><td    style=\"border: 1px solid black;\"> </td><td    style=\"border: 1px solid black;\"> </td><td    style=\"border: 1px solid black;\"> </td><td    style=\"border: 1px solid black;\"> </td><td    style=\"border: 1px solid black;\"> </td><td    style=\"border: 1px solid black;\"> </td></tr>\n",
       "<tr><td    style=\"border: 1px solid black;\">3</td><td    style=\"border: 1px solid black;\"> </td><td    style=\"border: 1px solid black;\"> </td><td    style=\"border: 1px solid black;\"> </td><td    style=\"border: 1px solid black;\"> </td><td    style=\"border: 1px solid black;\"> </td><td    style=\"border: 1px solid black;\"> </td><td    style=\"border: 1px solid black;\"> </td><td    style=\"border: 1px solid black;\"> </td></tr>\n",
       "<tr><td    style=\"border: 1px solid black;\">4</td><td    style=\"border: 1px solid black;\">♚</td><td    style=\"border: 1px solid black;\"> </td><td    style=\"border: 1px solid black;\"> </td><td    style=\"border: 1px solid black;\"> </td><td    style=\"border: 1px solid black;\">♖</td><td    style=\"border: 1px solid black;\"> </td><td    style=\"border: 1px solid black;\"> </td><td    style=\"border: 1px solid black;\"> </td></tr>\n",
       "<tr><td    style=\"border: 1px solid black;\">5</td><td    style=\"border: 1px solid black;\"> </td><td    style=\"border: 1px solid black;\"> </td><td    style=\"border: 1px solid black;\"> </td><td    style=\"border: 1px solid black;\"> </td><td    style=\"border: 1px solid black;\"> </td><td    style=\"border: 1px solid black;\"> </td><td    style=\"border: 1px solid black;\"> </td><td    style=\"border: 1px solid black;\"> </td></tr>\n",
       "<tr><td    style=\"border: 1px solid black;\">6</td><td    style=\"border: 1px solid black;\"> </td><td    style=\"border: 1px solid black;\"> </td><td    style=\"border: 1px solid black;\"> </td><td    style=\"border: 1px solid black;\"> </td><td    style=\"border: 1px solid black;\"> </td><td    style=\"border: 1px solid black;\"> </td><td    style=\"border: 1px solid black;\"> </td><td    style=\"border: 1px solid black;\"> </td></tr>\n",
       "<tr><td    style=\"border: 1px solid black;\">7</td><td    style=\"border: 1px solid black;\"> </td><td    style=\"border: 1px solid black;\"> </td><td    style=\"border: 1px solid black;\"> </td><td    style=\"border: 1px solid black;\"> </td><td    style=\"border: 1px solid black;\"> </td><td    style=\"border: 1px solid black;\"> </td><td    style=\"border: 1px solid black;\"> </td><td    style=\"border: 1px solid black;\"> </td></tr>\n",
       "<tr><td    style=\"border: 1px solid black;\">8</td><td    style=\"border: 1px solid black;\"> </td><td    style=\"border: 1px solid black;\"> </td><td    style=\"border: 1px solid black;\"> </td><td    style=\"border: 1px solid black;\"> </td><td    style=\"border: 1px solid black;\"> </td><td    style=\"border: 1px solid black;\"> </td><td    style=\"border: 1px solid black;\"> </td><td    style=\"border: 1px solid black;\"> </td></tr>\n",
       "<tr><td    style=\"border: 1px solid black;\"> </td><td    style=\"border: 1px solid black;\">a</td><td    style=\"border: 1px solid black;\">b</td><td    style=\"border: 1px solid black;\">c</td><td    style=\"border: 1px solid black;\">d</td><td    style=\"border: 1px solid black;\">e</td><td    style=\"border: 1px solid black;\">f</td><td    style=\"border: 1px solid black;\">g</td><td    style=\"border: 1px solid black;\">h</td></tr>\n",
       "</tbody>\n",
       "</table>"
      ],
      "text/plain": [
       "<IPython.core.display.HTML object>"
      ]
     },
     "metadata": {},
     "output_type": "display_data"
    },
    {
     "data": {
      "text/html": [
       "<table style=\"border: 2px solid black;\">\n",
       "<tbody>\n",
       "<tr><td    style=\"border: 1px solid black;\">1</td><td    style=\"border: 1px solid black;\"> </td><td    style=\"border: 1px solid black;\"> </td><td    style=\"border: 1px solid black;\"> </td><td    style=\"border: 1px solid black;\"> </td><td    style=\"border: 1px solid black;\"> </td><td    style=\"border: 1px solid black;\"> </td><td    style=\"border: 1px solid black;\"> </td><td    style=\"border: 1px solid black;\"> </td></tr>\n",
       "<tr><td    style=\"border: 1px solid black;\">2</td><td    style=\"border: 1px solid black;\">♔</td><td    style=\"border: 1px solid black;\"> </td><td    style=\"border: 1px solid black;\"> </td><td    style=\"border: 1px solid black;\"> </td><td    style=\"border: 1px solid black;\"> </td><td    style=\"border: 1px solid black;\"> </td><td    style=\"border: 1px solid black;\"> </td><td    style=\"border: 1px solid black;\"> </td></tr>\n",
       "<tr><td    style=\"border: 1px solid black;\">3</td><td    style=\"border: 1px solid black;\"> </td><td    style=\"border: 1px solid black;\"> </td><td    style=\"border: 1px solid black;\"> </td><td    style=\"border: 1px solid black;\"> </td><td    style=\"border: 1px solid black;\"> </td><td    style=\"border: 1px solid black;\"> </td><td    style=\"border: 1px solid black;\"> </td><td    style=\"border: 1px solid black;\"> </td></tr>\n",
       "<tr><td    style=\"border: 1px solid black;\">4</td><td    style=\"border: 1px solid black;\"> </td><td    style=\"border: 1px solid black;\"> </td><td    style=\"border: 1px solid black;\"> </td><td    style=\"border: 1px solid black;\"> </td><td    style=\"border: 1px solid black;\">♖</td><td    style=\"border: 1px solid black;\"> </td><td    style=\"border: 1px solid black;\"> </td><td    style=\"border: 1px solid black;\"> </td></tr>\n",
       "<tr><td    style=\"border: 1px solid black;\">5</td><td    style=\"border: 1px solid black;\">♚</td><td    style=\"border: 1px solid black;\"> </td><td    style=\"border: 1px solid black;\"> </td><td    style=\"border: 1px solid black;\"> </td><td    style=\"border: 1px solid black;\"> </td><td    style=\"border: 1px solid black;\"> </td><td    style=\"border: 1px solid black;\"> </td><td    style=\"border: 1px solid black;\"> </td></tr>\n",
       "<tr><td    style=\"border: 1px solid black;\">6</td><td    style=\"border: 1px solid black;\"> </td><td    style=\"border: 1px solid black;\"> </td><td    style=\"border: 1px solid black;\"> </td><td    style=\"border: 1px solid black;\"> </td><td    style=\"border: 1px solid black;\"> </td><td    style=\"border: 1px solid black;\"> </td><td    style=\"border: 1px solid black;\"> </td><td    style=\"border: 1px solid black;\"> </td></tr>\n",
       "<tr><td    style=\"border: 1px solid black;\">7</td><td    style=\"border: 1px solid black;\"> </td><td    style=\"border: 1px solid black;\"> </td><td    style=\"border: 1px solid black;\"> </td><td    style=\"border: 1px solid black;\"> </td><td    style=\"border: 1px solid black;\"> </td><td    style=\"border: 1px solid black;\"> </td><td    style=\"border: 1px solid black;\"> </td><td    style=\"border: 1px solid black;\"> </td></tr>\n",
       "<tr><td    style=\"border: 1px solid black;\">8</td><td    style=\"border: 1px solid black;\"> </td><td    style=\"border: 1px solid black;\"> </td><td    style=\"border: 1px solid black;\"> </td><td    style=\"border: 1px solid black;\"> </td><td    style=\"border: 1px solid black;\"> </td><td    style=\"border: 1px solid black;\"> </td><td    style=\"border: 1px solid black;\"> </td><td    style=\"border: 1px solid black;\"> </td></tr>\n",
       "<tr><td    style=\"border: 1px solid black;\"> </td><td    style=\"border: 1px solid black;\">a</td><td    style=\"border: 1px solid black;\">b</td><td    style=\"border: 1px solid black;\">c</td><td    style=\"border: 1px solid black;\">d</td><td    style=\"border: 1px solid black;\">e</td><td    style=\"border: 1px solid black;\">f</td><td    style=\"border: 1px solid black;\">g</td><td    style=\"border: 1px solid black;\">h</td></tr>\n",
       "</tbody>\n",
       "</table>"
      ],
      "text/plain": [
       "<IPython.core.display.HTML object>"
      ]
     },
     "metadata": {},
     "output_type": "display_data"
    },
    {
     "data": {
      "text/html": [
       "<table style=\"border: 2px solid black;\">\n",
       "<tbody>\n",
       "<tr><td    style=\"border: 1px solid black;\">1</td><td    style=\"border: 1px solid black;\"> </td><td    style=\"border: 1px solid black;\"> </td><td    style=\"border: 1px solid black;\"> </td><td    style=\"border: 1px solid black;\"> </td><td    style=\"border: 1px solid black;\"> </td><td    style=\"border: 1px solid black;\"> </td><td    style=\"border: 1px solid black;\"> </td><td    style=\"border: 1px solid black;\"> </td></tr>\n",
       "<tr><td    style=\"border: 1px solid black;\">2</td><td    style=\"border: 1px solid black;\">♔</td><td    style=\"border: 1px solid black;\"> </td><td    style=\"border: 1px solid black;\"> </td><td    style=\"border: 1px solid black;\"> </td><td    style=\"border: 1px solid black;\"> </td><td    style=\"border: 1px solid black;\"> </td><td    style=\"border: 1px solid black;\"> </td><td    style=\"border: 1px solid black;\"> </td></tr>\n",
       "<tr><td    style=\"border: 1px solid black;\">3</td><td    style=\"border: 1px solid black;\"> </td><td    style=\"border: 1px solid black;\"> </td><td    style=\"border: 1px solid black;\"> </td><td    style=\"border: 1px solid black;\"> </td><td    style=\"border: 1px solid black;\"> </td><td    style=\"border: 1px solid black;\"> </td><td    style=\"border: 1px solid black;\"> </td><td    style=\"border: 1px solid black;\"> </td></tr>\n",
       "<tr><td    style=\"border: 1px solid black;\">4</td><td    style=\"border: 1px solid black;\"> </td><td    style=\"border: 1px solid black;\">♖</td><td    style=\"border: 1px solid black;\"> </td><td    style=\"border: 1px solid black;\"> </td><td    style=\"border: 1px solid black;\"> </td><td    style=\"border: 1px solid black;\"> </td><td    style=\"border: 1px solid black;\"> </td><td    style=\"border: 1px solid black;\"> </td></tr>\n",
       "<tr><td    style=\"border: 1px solid black;\">5</td><td    style=\"border: 1px solid black;\">♚</td><td    style=\"border: 1px solid black;\"> </td><td    style=\"border: 1px solid black;\"> </td><td    style=\"border: 1px solid black;\"> </td><td    style=\"border: 1px solid black;\"> </td><td    style=\"border: 1px solid black;\"> </td><td    style=\"border: 1px solid black;\"> </td><td    style=\"border: 1px solid black;\"> </td></tr>\n",
       "<tr><td    style=\"border: 1px solid black;\">6</td><td    style=\"border: 1px solid black;\"> </td><td    style=\"border: 1px solid black;\"> </td><td    style=\"border: 1px solid black;\"> </td><td    style=\"border: 1px solid black;\"> </td><td    style=\"border: 1px solid black;\"> </td><td    style=\"border: 1px solid black;\"> </td><td    style=\"border: 1px solid black;\"> </td><td    style=\"border: 1px solid black;\"> </td></tr>\n",
       "<tr><td    style=\"border: 1px solid black;\">7</td><td    style=\"border: 1px solid black;\"> </td><td    style=\"border: 1px solid black;\"> </td><td    style=\"border: 1px solid black;\"> </td><td    style=\"border: 1px solid black;\"> </td><td    style=\"border: 1px solid black;\"> </td><td    style=\"border: 1px solid black;\"> </td><td    style=\"border: 1px solid black;\"> </td><td    style=\"border: 1px solid black;\"> </td></tr>\n",
       "<tr><td    style=\"border: 1px solid black;\">8</td><td    style=\"border: 1px solid black;\"> </td><td    style=\"border: 1px solid black;\"> </td><td    style=\"border: 1px solid black;\"> </td><td    style=\"border: 1px solid black;\"> </td><td    style=\"border: 1px solid black;\"> </td><td    style=\"border: 1px solid black;\"> </td><td    style=\"border: 1px solid black;\"> </td><td    style=\"border: 1px solid black;\"> </td></tr>\n",
       "<tr><td    style=\"border: 1px solid black;\"> </td><td    style=\"border: 1px solid black;\">a</td><td    style=\"border: 1px solid black;\">b</td><td    style=\"border: 1px solid black;\">c</td><td    style=\"border: 1px solid black;\">d</td><td    style=\"border: 1px solid black;\">e</td><td    style=\"border: 1px solid black;\">f</td><td    style=\"border: 1px solid black;\">g</td><td    style=\"border: 1px solid black;\">h</td></tr>\n",
       "</tbody>\n",
       "</table>"
      ],
      "text/plain": [
       "<IPython.core.display.HTML object>"
      ]
     },
     "metadata": {},
     "output_type": "display_data"
    },
    {
     "data": {
      "text/html": [
       "<table style=\"border: 2px solid black;\">\n",
       "<tbody>\n",
       "<tr><td    style=\"border: 1px solid black;\">1</td><td    style=\"border: 1px solid black;\"> </td><td    style=\"border: 1px solid black;\"> </td><td    style=\"border: 1px solid black;\"> </td><td    style=\"border: 1px solid black;\"> </td><td    style=\"border: 1px solid black;\"> </td><td    style=\"border: 1px solid black;\"> </td><td    style=\"border: 1px solid black;\"> </td><td    style=\"border: 1px solid black;\"> </td></tr>\n",
       "<tr><td    style=\"border: 1px solid black;\">2</td><td    style=\"border: 1px solid black;\">♔</td><td    style=\"border: 1px solid black;\"> </td><td    style=\"border: 1px solid black;\"> </td><td    style=\"border: 1px solid black;\"> </td><td    style=\"border: 1px solid black;\"> </td><td    style=\"border: 1px solid black;\"> </td><td    style=\"border: 1px solid black;\"> </td><td    style=\"border: 1px solid black;\"> </td></tr>\n",
       "<tr><td    style=\"border: 1px solid black;\">3</td><td    style=\"border: 1px solid black;\"> </td><td    style=\"border: 1px solid black;\"> </td><td    style=\"border: 1px solid black;\"> </td><td    style=\"border: 1px solid black;\"> </td><td    style=\"border: 1px solid black;\"> </td><td    style=\"border: 1px solid black;\"> </td><td    style=\"border: 1px solid black;\"> </td><td    style=\"border: 1px solid black;\"> </td></tr>\n",
       "<tr><td    style=\"border: 1px solid black;\">4</td><td    style=\"border: 1px solid black;\"> </td><td    style=\"border: 1px solid black;\">♚</td><td    style=\"border: 1px solid black;\"> </td><td    style=\"border: 1px solid black;\"> </td><td    style=\"border: 1px solid black;\"> </td><td    style=\"border: 1px solid black;\"> </td><td    style=\"border: 1px solid black;\"> </td><td    style=\"border: 1px solid black;\"> </td></tr>\n",
       "<tr><td    style=\"border: 1px solid black;\">5</td><td    style=\"border: 1px solid black;\"> </td><td    style=\"border: 1px solid black;\"> </td><td    style=\"border: 1px solid black;\"> </td><td    style=\"border: 1px solid black;\"> </td><td    style=\"border: 1px solid black;\"> </td><td    style=\"border: 1px solid black;\"> </td><td    style=\"border: 1px solid black;\"> </td><td    style=\"border: 1px solid black;\"> </td></tr>\n",
       "<tr><td    style=\"border: 1px solid black;\">6</td><td    style=\"border: 1px solid black;\"> </td><td    style=\"border: 1px solid black;\"> </td><td    style=\"border: 1px solid black;\"> </td><td    style=\"border: 1px solid black;\"> </td><td    style=\"border: 1px solid black;\"> </td><td    style=\"border: 1px solid black;\"> </td><td    style=\"border: 1px solid black;\"> </td><td    style=\"border: 1px solid black;\"> </td></tr>\n",
       "<tr><td    style=\"border: 1px solid black;\">7</td><td    style=\"border: 1px solid black;\"> </td><td    style=\"border: 1px solid black;\"> </td><td    style=\"border: 1px solid black;\"> </td><td    style=\"border: 1px solid black;\"> </td><td    style=\"border: 1px solid black;\"> </td><td    style=\"border: 1px solid black;\"> </td><td    style=\"border: 1px solid black;\"> </td><td    style=\"border: 1px solid black;\"> </td></tr>\n",
       "<tr><td    style=\"border: 1px solid black;\">8</td><td    style=\"border: 1px solid black;\"> </td><td    style=\"border: 1px solid black;\"> </td><td    style=\"border: 1px solid black;\"> </td><td    style=\"border: 1px solid black;\"> </td><td    style=\"border: 1px solid black;\"> </td><td    style=\"border: 1px solid black;\"> </td><td    style=\"border: 1px solid black;\"> </td><td    style=\"border: 1px solid black;\"> </td></tr>\n",
       "<tr><td    style=\"border: 1px solid black;\"> </td><td    style=\"border: 1px solid black;\">a</td><td    style=\"border: 1px solid black;\">b</td><td    style=\"border: 1px solid black;\">c</td><td    style=\"border: 1px solid black;\">d</td><td    style=\"border: 1px solid black;\">e</td><td    style=\"border: 1px solid black;\">f</td><td    style=\"border: 1px solid black;\">g</td><td    style=\"border: 1px solid black;\">h</td></tr>\n",
       "</tbody>\n",
       "</table>"
      ],
      "text/plain": [
       "<IPython.core.display.HTML object>"
      ]
     },
     "metadata": {},
     "output_type": "display_data"
    },
    {
     "data": {
      "text/html": [
       "<table style=\"border: 2px solid black;\">\n",
       "<tbody>\n",
       "<tr><td    style=\"border: 1px solid black;\">1</td><td    style=\"border: 1px solid black;\"> </td><td    style=\"border: 1px solid black;\">♔</td><td    style=\"border: 1px solid black;\"> </td><td    style=\"border: 1px solid black;\"> </td><td    style=\"border: 1px solid black;\"> </td><td    style=\"border: 1px solid black;\"> </td><td    style=\"border: 1px solid black;\"> </td><td    style=\"border: 1px solid black;\"> </td></tr>\n",
       "<tr><td    style=\"border: 1px solid black;\">2</td><td    style=\"border: 1px solid black;\"> </td><td    style=\"border: 1px solid black;\"> </td><td    style=\"border: 1px solid black;\"> </td><td    style=\"border: 1px solid black;\"> </td><td    style=\"border: 1px solid black;\"> </td><td    style=\"border: 1px solid black;\"> </td><td    style=\"border: 1px solid black;\"> </td><td    style=\"border: 1px solid black;\"> </td></tr>\n",
       "<tr><td    style=\"border: 1px solid black;\">3</td><td    style=\"border: 1px solid black;\"> </td><td    style=\"border: 1px solid black;\"> </td><td    style=\"border: 1px solid black;\"> </td><td    style=\"border: 1px solid black;\"> </td><td    style=\"border: 1px solid black;\"> </td><td    style=\"border: 1px solid black;\"> </td><td    style=\"border: 1px solid black;\"> </td><td    style=\"border: 1px solid black;\"> </td></tr>\n",
       "<tr><td    style=\"border: 1px solid black;\">4</td><td    style=\"border: 1px solid black;\"> </td><td    style=\"border: 1px solid black;\">♚</td><td    style=\"border: 1px solid black;\"> </td><td    style=\"border: 1px solid black;\"> </td><td    style=\"border: 1px solid black;\"> </td><td    style=\"border: 1px solid black;\"> </td><td    style=\"border: 1px solid black;\"> </td><td    style=\"border: 1px solid black;\"> </td></tr>\n",
       "<tr><td    style=\"border: 1px solid black;\">5</td><td    style=\"border: 1px solid black;\"> </td><td    style=\"border: 1px solid black;\"> </td><td    style=\"border: 1px solid black;\"> </td><td    style=\"border: 1px solid black;\"> </td><td    style=\"border: 1px solid black;\"> </td><td    style=\"border: 1px solid black;\"> </td><td    style=\"border: 1px solid black;\"> </td><td    style=\"border: 1px solid black;\"> </td></tr>\n",
       "<tr><td    style=\"border: 1px solid black;\">6</td><td    style=\"border: 1px solid black;\"> </td><td    style=\"border: 1px solid black;\"> </td><td    style=\"border: 1px solid black;\"> </td><td    style=\"border: 1px solid black;\"> </td><td    style=\"border: 1px solid black;\"> </td><td    style=\"border: 1px solid black;\"> </td><td    style=\"border: 1px solid black;\"> </td><td    style=\"border: 1px solid black;\"> </td></tr>\n",
       "<tr><td    style=\"border: 1px solid black;\">7</td><td    style=\"border: 1px solid black;\"> </td><td    style=\"border: 1px solid black;\"> </td><td    style=\"border: 1px solid black;\"> </td><td    style=\"border: 1px solid black;\"> </td><td    style=\"border: 1px solid black;\"> </td><td    style=\"border: 1px solid black;\"> </td><td    style=\"border: 1px solid black;\"> </td><td    style=\"border: 1px solid black;\"> </td></tr>\n",
       "<tr><td    style=\"border: 1px solid black;\">8</td><td    style=\"border: 1px solid black;\"> </td><td    style=\"border: 1px solid black;\"> </td><td    style=\"border: 1px solid black;\"> </td><td    style=\"border: 1px solid black;\"> </td><td    style=\"border: 1px solid black;\"> </td><td    style=\"border: 1px solid black;\"> </td><td    style=\"border: 1px solid black;\"> </td><td    style=\"border: 1px solid black;\"> </td></tr>\n",
       "<tr><td    style=\"border: 1px solid black;\"> </td><td    style=\"border: 1px solid black;\">a</td><td    style=\"border: 1px solid black;\">b</td><td    style=\"border: 1px solid black;\">c</td><td    style=\"border: 1px solid black;\">d</td><td    style=\"border: 1px solid black;\">e</td><td    style=\"border: 1px solid black;\">f</td><td    style=\"border: 1px solid black;\">g</td><td    style=\"border: 1px solid black;\">h</td></tr>\n",
       "</tbody>\n",
       "</table>"
      ],
      "text/plain": [
       "<IPython.core.display.HTML object>"
      ]
     },
     "metadata": {},
     "output_type": "display_data"
    },
    {
     "data": {
      "text/html": [
       "<table style=\"border: 2px solid black;\">\n",
       "<tbody>\n",
       "<tr><td    style=\"border: 1px solid black;\">1</td><td    style=\"border: 1px solid black;\"> </td><td    style=\"border: 1px solid black;\">♔</td><td    style=\"border: 1px solid black;\"> </td><td    style=\"border: 1px solid black;\"> </td><td    style=\"border: 1px solid black;\"> </td><td    style=\"border: 1px solid black;\"> </td><td    style=\"border: 1px solid black;\"> </td><td    style=\"border: 1px solid black;\"> </td></tr>\n",
       "<tr><td    style=\"border: 1px solid black;\">2</td><td    style=\"border: 1px solid black;\"> </td><td    style=\"border: 1px solid black;\"> </td><td    style=\"border: 1px solid black;\"> </td><td    style=\"border: 1px solid black;\"> </td><td    style=\"border: 1px solid black;\"> </td><td    style=\"border: 1px solid black;\"> </td><td    style=\"border: 1px solid black;\"> </td><td    style=\"border: 1px solid black;\"> </td></tr>\n",
       "<tr><td    style=\"border: 1px solid black;\">3</td><td    style=\"border: 1px solid black;\">♚</td><td    style=\"border: 1px solid black;\"> </td><td    style=\"border: 1px solid black;\"> </td><td    style=\"border: 1px solid black;\"> </td><td    style=\"border: 1px solid black;\"> </td><td    style=\"border: 1px solid black;\"> </td><td    style=\"border: 1px solid black;\"> </td><td    style=\"border: 1px solid black;\"> </td></tr>\n",
       "<tr><td    style=\"border: 1px solid black;\">4</td><td    style=\"border: 1px solid black;\"> </td><td    style=\"border: 1px solid black;\">♖</td><td    style=\"border: 1px solid black;\"> </td><td    style=\"border: 1px solid black;\"> </td><td    style=\"border: 1px solid black;\"> </td><td    style=\"border: 1px solid black;\"> </td><td    style=\"border: 1px solid black;\"> </td><td    style=\"border: 1px solid black;\"> </td></tr>\n",
       "<tr><td    style=\"border: 1px solid black;\">5</td><td    style=\"border: 1px solid black;\"> </td><td    style=\"border: 1px solid black;\"> </td><td    style=\"border: 1px solid black;\"> </td><td    style=\"border: 1px solid black;\"> </td><td    style=\"border: 1px solid black;\"> </td><td    style=\"border: 1px solid black;\"> </td><td    style=\"border: 1px solid black;\"> </td><td    style=\"border: 1px solid black;\"> </td></tr>\n",
       "<tr><td    style=\"border: 1px solid black;\">6</td><td    style=\"border: 1px solid black;\"> </td><td    style=\"border: 1px solid black;\"> </td><td    style=\"border: 1px solid black;\"> </td><td    style=\"border: 1px solid black;\"> </td><td    style=\"border: 1px solid black;\"> </td><td    style=\"border: 1px solid black;\"> </td><td    style=\"border: 1px solid black;\"> </td><td    style=\"border: 1px solid black;\"> </td></tr>\n",
       "<tr><td    style=\"border: 1px solid black;\">7</td><td    style=\"border: 1px solid black;\"> </td><td    style=\"border: 1px solid black;\"> </td><td    style=\"border: 1px solid black;\"> </td><td    style=\"border: 1px solid black;\"> </td><td    style=\"border: 1px solid black;\"> </td><td    style=\"border: 1px solid black;\"> </td><td    style=\"border: 1px solid black;\"> </td><td    style=\"border: 1px solid black;\"> </td></tr>\n",
       "<tr><td    style=\"border: 1px solid black;\">8</td><td    style=\"border: 1px solid black;\"> </td><td    style=\"border: 1px solid black;\"> </td><td    style=\"border: 1px solid black;\"> </td><td    style=\"border: 1px solid black;\"> </td><td    style=\"border: 1px solid black;\"> </td><td    style=\"border: 1px solid black;\"> </td><td    style=\"border: 1px solid black;\"> </td><td    style=\"border: 1px solid black;\"> </td></tr>\n",
       "<tr><td    style=\"border: 1px solid black;\"> </td><td    style=\"border: 1px solid black;\">a</td><td    style=\"border: 1px solid black;\">b</td><td    style=\"border: 1px solid black;\">c</td><td    style=\"border: 1px solid black;\">d</td><td    style=\"border: 1px solid black;\">e</td><td    style=\"border: 1px solid black;\">f</td><td    style=\"border: 1px solid black;\">g</td><td    style=\"border: 1px solid black;\">h</td></tr>\n",
       "</tbody>\n",
       "</table>"
      ],
      "text/plain": [
       "<IPython.core.display.HTML object>"
      ]
     },
     "metadata": {},
     "output_type": "display_data"
    },
    {
     "data": {
      "text/html": [
       "<table style=\"border: 2px solid black;\">\n",
       "<tbody>\n",
       "<tr><td    style=\"border: 1px solid black;\">1</td><td    style=\"border: 1px solid black;\"> </td><td    style=\"border: 1px solid black;\"> </td><td    style=\"border: 1px solid black;\"> </td><td    style=\"border: 1px solid black;\"> </td><td    style=\"border: 1px solid black;\"> </td><td    style=\"border: 1px solid black;\"> </td><td    style=\"border: 1px solid black;\"> </td><td    style=\"border: 1px solid black;\"> </td></tr>\n",
       "<tr><td    style=\"border: 1px solid black;\">2</td><td    style=\"border: 1px solid black;\"> </td><td    style=\"border: 1px solid black;\"> </td><td    style=\"border: 1px solid black;\">♔</td><td    style=\"border: 1px solid black;\"> </td><td    style=\"border: 1px solid black;\"> </td><td    style=\"border: 1px solid black;\"> </td><td    style=\"border: 1px solid black;\"> </td><td    style=\"border: 1px solid black;\"> </td></tr>\n",
       "<tr><td    style=\"border: 1px solid black;\">3</td><td    style=\"border: 1px solid black;\">♚</td><td    style=\"border: 1px solid black;\"> </td><td    style=\"border: 1px solid black;\"> </td><td    style=\"border: 1px solid black;\"> </td><td    style=\"border: 1px solid black;\"> </td><td    style=\"border: 1px solid black;\"> </td><td    style=\"border: 1px solid black;\"> </td><td    style=\"border: 1px solid black;\"> </td></tr>\n",
       "<tr><td    style=\"border: 1px solid black;\">4</td><td    style=\"border: 1px solid black;\"> </td><td    style=\"border: 1px solid black;\">♖</td><td    style=\"border: 1px solid black;\"> </td><td    style=\"border: 1px solid black;\"> </td><td    style=\"border: 1px solid black;\"> </td><td    style=\"border: 1px solid black;\"> </td><td    style=\"border: 1px solid black;\"> </td><td    style=\"border: 1px solid black;\"> </td></tr>\n",
       "<tr><td    style=\"border: 1px solid black;\">5</td><td    style=\"border: 1px solid black;\"> </td><td    style=\"border: 1px solid black;\"> </td><td    style=\"border: 1px solid black;\"> </td><td    style=\"border: 1px solid black;\"> </td><td    style=\"border: 1px solid black;\"> </td><td    style=\"border: 1px solid black;\"> </td><td    style=\"border: 1px solid black;\"> </td><td    style=\"border: 1px solid black;\"> </td></tr>\n",
       "<tr><td    style=\"border: 1px solid black;\">6</td><td    style=\"border: 1px solid black;\"> </td><td    style=\"border: 1px solid black;\"> </td><td    style=\"border: 1px solid black;\"> </td><td    style=\"border: 1px solid black;\"> </td><td    style=\"border: 1px solid black;\"> </td><td    style=\"border: 1px solid black;\"> </td><td    style=\"border: 1px solid black;\"> </td><td    style=\"border: 1px solid black;\"> </td></tr>\n",
       "<tr><td    style=\"border: 1px solid black;\">7</td><td    style=\"border: 1px solid black;\"> </td><td    style=\"border: 1px solid black;\"> </td><td    style=\"border: 1px solid black;\"> </td><td    style=\"border: 1px solid black;\"> </td><td    style=\"border: 1px solid black;\"> </td><td    style=\"border: 1px solid black;\"> </td><td    style=\"border: 1px solid black;\"> </td><td    style=\"border: 1px solid black;\"> </td></tr>\n",
       "<tr><td    style=\"border: 1px solid black;\">8</td><td    style=\"border: 1px solid black;\"> </td><td    style=\"border: 1px solid black;\"> </td><td    style=\"border: 1px solid black;\"> </td><td    style=\"border: 1px solid black;\"> </td><td    style=\"border: 1px solid black;\"> </td><td    style=\"border: 1px solid black;\"> </td><td    style=\"border: 1px solid black;\"> </td><td    style=\"border: 1px solid black;\"> </td></tr>\n",
       "<tr><td    style=\"border: 1px solid black;\"> </td><td    style=\"border: 1px solid black;\">a</td><td    style=\"border: 1px solid black;\">b</td><td    style=\"border: 1px solid black;\">c</td><td    style=\"border: 1px solid black;\">d</td><td    style=\"border: 1px solid black;\">e</td><td    style=\"border: 1px solid black;\">f</td><td    style=\"border: 1px solid black;\">g</td><td    style=\"border: 1px solid black;\">h</td></tr>\n",
       "</tbody>\n",
       "</table>"
      ],
      "text/plain": [
       "<IPython.core.display.HTML object>"
      ]
     },
     "metadata": {},
     "output_type": "display_data"
    },
    {
     "data": {
      "text/html": [
       "<table style=\"border: 2px solid black;\">\n",
       "<tbody>\n",
       "<tr><td    style=\"border: 1px solid black;\">1</td><td    style=\"border: 1px solid black;\"> </td><td    style=\"border: 1px solid black;\"> </td><td    style=\"border: 1px solid black;\"> </td><td    style=\"border: 1px solid black;\"> </td><td    style=\"border: 1px solid black;\"> </td><td    style=\"border: 1px solid black;\"> </td><td    style=\"border: 1px solid black;\"> </td><td    style=\"border: 1px solid black;\"> </td></tr>\n",
       "<tr><td    style=\"border: 1px solid black;\">2</td><td    style=\"border: 1px solid black;\">♚</td><td    style=\"border: 1px solid black;\"> </td><td    style=\"border: 1px solid black;\">♔</td><td    style=\"border: 1px solid black;\"> </td><td    style=\"border: 1px solid black;\"> </td><td    style=\"border: 1px solid black;\"> </td><td    style=\"border: 1px solid black;\"> </td><td    style=\"border: 1px solid black;\"> </td></tr>\n",
       "<tr><td    style=\"border: 1px solid black;\">3</td><td    style=\"border: 1px solid black;\"> </td><td    style=\"border: 1px solid black;\"> </td><td    style=\"border: 1px solid black;\"> </td><td    style=\"border: 1px solid black;\"> </td><td    style=\"border: 1px solid black;\"> </td><td    style=\"border: 1px solid black;\"> </td><td    style=\"border: 1px solid black;\"> </td><td    style=\"border: 1px solid black;\"> </td></tr>\n",
       "<tr><td    style=\"border: 1px solid black;\">4</td><td    style=\"border: 1px solid black;\"> </td><td    style=\"border: 1px solid black;\">♖</td><td    style=\"border: 1px solid black;\"> </td><td    style=\"border: 1px solid black;\"> </td><td    style=\"border: 1px solid black;\"> </td><td    style=\"border: 1px solid black;\"> </td><td    style=\"border: 1px solid black;\"> </td><td    style=\"border: 1px solid black;\"> </td></tr>\n",
       "<tr><td    style=\"border: 1px solid black;\">5</td><td    style=\"border: 1px solid black;\"> </td><td    style=\"border: 1px solid black;\"> </td><td    style=\"border: 1px solid black;\"> </td><td    style=\"border: 1px solid black;\"> </td><td    style=\"border: 1px solid black;\"> </td><td    style=\"border: 1px solid black;\"> </td><td    style=\"border: 1px solid black;\"> </td><td    style=\"border: 1px solid black;\"> </td></tr>\n",
       "<tr><td    style=\"border: 1px solid black;\">6</td><td    style=\"border: 1px solid black;\"> </td><td    style=\"border: 1px solid black;\"> </td><td    style=\"border: 1px solid black;\"> </td><td    style=\"border: 1px solid black;\"> </td><td    style=\"border: 1px solid black;\"> </td><td    style=\"border: 1px solid black;\"> </td><td    style=\"border: 1px solid black;\"> </td><td    style=\"border: 1px solid black;\"> </td></tr>\n",
       "<tr><td    style=\"border: 1px solid black;\">7</td><td    style=\"border: 1px solid black;\"> </td><td    style=\"border: 1px solid black;\"> </td><td    style=\"border: 1px solid black;\"> </td><td    style=\"border: 1px solid black;\"> </td><td    style=\"border: 1px solid black;\"> </td><td    style=\"border: 1px solid black;\"> </td><td    style=\"border: 1px solid black;\"> </td><td    style=\"border: 1px solid black;\"> </td></tr>\n",
       "<tr><td    style=\"border: 1px solid black;\">8</td><td    style=\"border: 1px solid black;\"> </td><td    style=\"border: 1px solid black;\"> </td><td    style=\"border: 1px solid black;\"> </td><td    style=\"border: 1px solid black;\"> </td><td    style=\"border: 1px solid black;\"> </td><td    style=\"border: 1px solid black;\"> </td><td    style=\"border: 1px solid black;\"> </td><td    style=\"border: 1px solid black;\"> </td></tr>\n",
       "<tr><td    style=\"border: 1px solid black;\"> </td><td    style=\"border: 1px solid black;\">a</td><td    style=\"border: 1px solid black;\">b</td><td    style=\"border: 1px solid black;\">c</td><td    style=\"border: 1px solid black;\">d</td><td    style=\"border: 1px solid black;\">e</td><td    style=\"border: 1px solid black;\">f</td><td    style=\"border: 1px solid black;\">g</td><td    style=\"border: 1px solid black;\">h</td></tr>\n",
       "</tbody>\n",
       "</table>"
      ],
      "text/plain": [
       "<IPython.core.display.HTML object>"
      ]
     },
     "metadata": {},
     "output_type": "display_data"
    },
    {
     "data": {
      "text/html": [
       "<table style=\"border: 2px solid black;\">\n",
       "<tbody>\n",
       "<tr><td    style=\"border: 1px solid black;\">1</td><td    style=\"border: 1px solid black;\"> </td><td    style=\"border: 1px solid black;\"> </td><td    style=\"border: 1px solid black;\"> </td><td    style=\"border: 1px solid black;\"> </td><td    style=\"border: 1px solid black;\"> </td><td    style=\"border: 1px solid black;\"> </td><td    style=\"border: 1px solid black;\"> </td><td    style=\"border: 1px solid black;\"> </td></tr>\n",
       "<tr><td    style=\"border: 1px solid black;\">2</td><td    style=\"border: 1px solid black;\">♚</td><td    style=\"border: 1px solid black;\"> </td><td    style=\"border: 1px solid black;\">♔</td><td    style=\"border: 1px solid black;\"> </td><td    style=\"border: 1px solid black;\"> </td><td    style=\"border: 1px solid black;\"> </td><td    style=\"border: 1px solid black;\"> </td><td    style=\"border: 1px solid black;\"> </td></tr>\n",
       "<tr><td    style=\"border: 1px solid black;\">3</td><td    style=\"border: 1px solid black;\"> </td><td    style=\"border: 1px solid black;\"> </td><td    style=\"border: 1px solid black;\"> </td><td    style=\"border: 1px solid black;\"> </td><td    style=\"border: 1px solid black;\"> </td><td    style=\"border: 1px solid black;\"> </td><td    style=\"border: 1px solid black;\"> </td><td    style=\"border: 1px solid black;\"> </td></tr>\n",
       "<tr><td    style=\"border: 1px solid black;\">4</td><td    style=\"border: 1px solid black;\">♖</td><td    style=\"border: 1px solid black;\"> </td><td    style=\"border: 1px solid black;\"> </td><td    style=\"border: 1px solid black;\"> </td><td    style=\"border: 1px solid black;\"> </td><td    style=\"border: 1px solid black;\"> </td><td    style=\"border: 1px solid black;\"> </td><td    style=\"border: 1px solid black;\"> </td></tr>\n",
       "<tr><td    style=\"border: 1px solid black;\">5</td><td    style=\"border: 1px solid black;\"> </td><td    style=\"border: 1px solid black;\"> </td><td    style=\"border: 1px solid black;\"> </td><td    style=\"border: 1px solid black;\"> </td><td    style=\"border: 1px solid black;\"> </td><td    style=\"border: 1px solid black;\"> </td><td    style=\"border: 1px solid black;\"> </td><td    style=\"border: 1px solid black;\"> </td></tr>\n",
       "<tr><td    style=\"border: 1px solid black;\">6</td><td    style=\"border: 1px solid black;\"> </td><td    style=\"border: 1px solid black;\"> </td><td    style=\"border: 1px solid black;\"> </td><td    style=\"border: 1px solid black;\"> </td><td    style=\"border: 1px solid black;\"> </td><td    style=\"border: 1px solid black;\"> </td><td    style=\"border: 1px solid black;\"> </td><td    style=\"border: 1px solid black;\"> </td></tr>\n",
       "<tr><td    style=\"border: 1px solid black;\">7</td><td    style=\"border: 1px solid black;\"> </td><td    style=\"border: 1px solid black;\"> </td><td    style=\"border: 1px solid black;\"> </td><td    style=\"border: 1px solid black;\"> </td><td    style=\"border: 1px solid black;\"> </td><td    style=\"border: 1px solid black;\"> </td><td    style=\"border: 1px solid black;\"> </td><td    style=\"border: 1px solid black;\"> </td></tr>\n",
       "<tr><td    style=\"border: 1px solid black;\">8</td><td    style=\"border: 1px solid black;\"> </td><td    style=\"border: 1px solid black;\"> </td><td    style=\"border: 1px solid black;\"> </td><td    style=\"border: 1px solid black;\"> </td><td    style=\"border: 1px solid black;\"> </td><td    style=\"border: 1px solid black;\"> </td><td    style=\"border: 1px solid black;\"> </td><td    style=\"border: 1px solid black;\"> </td></tr>\n",
       "<tr><td    style=\"border: 1px solid black;\"> </td><td    style=\"border: 1px solid black;\">a</td><td    style=\"border: 1px solid black;\">b</td><td    style=\"border: 1px solid black;\">c</td><td    style=\"border: 1px solid black;\">d</td><td    style=\"border: 1px solid black;\">e</td><td    style=\"border: 1px solid black;\">f</td><td    style=\"border: 1px solid black;\">g</td><td    style=\"border: 1px solid black;\">h</td></tr>\n",
       "</tbody>\n",
       "</table>"
      ],
      "text/plain": [
       "<IPython.core.display.HTML object>"
      ]
     },
     "metadata": {},
     "output_type": "display_data"
    },
    {
     "name": "stdout",
     "output_type": "stream",
     "text": [
      "We are testing black g8 h1 c4\n"
     ]
    },
    {
     "data": {
      "text/html": [
       "<table style=\"border: 2px solid black;\">\n",
       "<tbody>\n",
       "<tr><td    style=\"border: 1px solid black;\">1</td><td    style=\"border: 1px solid black;\"> </td><td    style=\"border: 1px solid black;\"> </td><td    style=\"border: 1px solid black;\"> </td><td    style=\"border: 1px solid black;\"> </td><td    style=\"border: 1px solid black;\"> </td><td    style=\"border: 1px solid black;\"> </td><td    style=\"border: 1px solid black;\"> </td><td    style=\"border: 1px solid black;\">♖</td></tr>\n",
       "<tr><td    style=\"border: 1px solid black;\">2</td><td    style=\"border: 1px solid black;\"> </td><td    style=\"border: 1px solid black;\"> </td><td    style=\"border: 1px solid black;\"> </td><td    style=\"border: 1px solid black;\"> </td><td    style=\"border: 1px solid black;\"> </td><td    style=\"border: 1px solid black;\"> </td><td    style=\"border: 1px solid black;\"> </td><td    style=\"border: 1px solid black;\"> </td></tr>\n",
       "<tr><td    style=\"border: 1px solid black;\">3</td><td    style=\"border: 1px solid black;\"> </td><td    style=\"border: 1px solid black;\"> </td><td    style=\"border: 1px solid black;\"> </td><td    style=\"border: 1px solid black;\"> </td><td    style=\"border: 1px solid black;\"> </td><td    style=\"border: 1px solid black;\"> </td><td    style=\"border: 1px solid black;\"> </td><td    style=\"border: 1px solid black;\"> </td></tr>\n",
       "<tr><td    style=\"border: 1px solid black;\">4</td><td    style=\"border: 1px solid black;\"> </td><td    style=\"border: 1px solid black;\"> </td><td    style=\"border: 1px solid black;\">♚</td><td    style=\"border: 1px solid black;\"> </td><td    style=\"border: 1px solid black;\"> </td><td    style=\"border: 1px solid black;\"> </td><td    style=\"border: 1px solid black;\"> </td><td    style=\"border: 1px solid black;\"> </td></tr>\n",
       "<tr><td    style=\"border: 1px solid black;\">5</td><td    style=\"border: 1px solid black;\"> </td><td    style=\"border: 1px solid black;\"> </td><td    style=\"border: 1px solid black;\"> </td><td    style=\"border: 1px solid black;\"> </td><td    style=\"border: 1px solid black;\"> </td><td    style=\"border: 1px solid black;\"> </td><td    style=\"border: 1px solid black;\"> </td><td    style=\"border: 1px solid black;\"> </td></tr>\n",
       "<tr><td    style=\"border: 1px solid black;\">6</td><td    style=\"border: 1px solid black;\"> </td><td    style=\"border: 1px solid black;\"> </td><td    style=\"border: 1px solid black;\"> </td><td    style=\"border: 1px solid black;\"> </td><td    style=\"border: 1px solid black;\"> </td><td    style=\"border: 1px solid black;\"> </td><td    style=\"border: 1px solid black;\"> </td><td    style=\"border: 1px solid black;\"> </td></tr>\n",
       "<tr><td    style=\"border: 1px solid black;\">7</td><td    style=\"border: 1px solid black;\"> </td><td    style=\"border: 1px solid black;\"> </td><td    style=\"border: 1px solid black;\"> </td><td    style=\"border: 1px solid black;\"> </td><td    style=\"border: 1px solid black;\"> </td><td    style=\"border: 1px solid black;\"> </td><td    style=\"border: 1px solid black;\"> </td><td    style=\"border: 1px solid black;\"> </td></tr>\n",
       "<tr><td    style=\"border: 1px solid black;\">8</td><td    style=\"border: 1px solid black;\"> </td><td    style=\"border: 1px solid black;\"> </td><td    style=\"border: 1px solid black;\"> </td><td    style=\"border: 1px solid black;\"> </td><td    style=\"border: 1px solid black;\"> </td><td    style=\"border: 1px solid black;\"> </td><td    style=\"border: 1px solid black;\">♔</td><td    style=\"border: 1px solid black;\"> </td></tr>\n",
       "<tr><td    style=\"border: 1px solid black;\"> </td><td    style=\"border: 1px solid black;\">a</td><td    style=\"border: 1px solid black;\">b</td><td    style=\"border: 1px solid black;\">c</td><td    style=\"border: 1px solid black;\">d</td><td    style=\"border: 1px solid black;\">e</td><td    style=\"border: 1px solid black;\">f</td><td    style=\"border: 1px solid black;\">g</td><td    style=\"border: 1px solid black;\">h</td></tr>\n",
       "</tbody>\n",
       "</table>"
      ],
      "text/plain": [
       "<IPython.core.display.HTML object>"
      ]
     },
     "metadata": {},
     "output_type": "display_data"
    },
    {
     "data": {
      "text/html": [
       "<table style=\"border: 2px solid black;\">\n",
       "<tbody>\n",
       "<tr><td    style=\"border: 1px solid black;\">1</td><td    style=\"border: 1px solid black;\"> </td><td    style=\"border: 1px solid black;\"> </td><td    style=\"border: 1px solid black;\"> </td><td    style=\"border: 1px solid black;\"> </td><td    style=\"border: 1px solid black;\"> </td><td    style=\"border: 1px solid black;\"> </td><td    style=\"border: 1px solid black;\"> </td><td    style=\"border: 1px solid black;\">♖</td></tr>\n",
       "<tr><td    style=\"border: 1px solid black;\">2</td><td    style=\"border: 1px solid black;\"> </td><td    style=\"border: 1px solid black;\"> </td><td    style=\"border: 1px solid black;\"> </td><td    style=\"border: 1px solid black;\"> </td><td    style=\"border: 1px solid black;\"> </td><td    style=\"border: 1px solid black;\"> </td><td    style=\"border: 1px solid black;\"> </td><td    style=\"border: 1px solid black;\"> </td></tr>\n",
       "<tr><td    style=\"border: 1px solid black;\">3</td><td    style=\"border: 1px solid black;\"> </td><td    style=\"border: 1px solid black;\">♚</td><td    style=\"border: 1px solid black;\"> </td><td    style=\"border: 1px solid black;\"> </td><td    style=\"border: 1px solid black;\"> </td><td    style=\"border: 1px solid black;\"> </td><td    style=\"border: 1px solid black;\"> </td><td    style=\"border: 1px solid black;\"> </td></tr>\n",
       "<tr><td    style=\"border: 1px solid black;\">4</td><td    style=\"border: 1px solid black;\"> </td><td    style=\"border: 1px solid black;\"> </td><td    style=\"border: 1px solid black;\"> </td><td    style=\"border: 1px solid black;\"> </td><td    style=\"border: 1px solid black;\"> </td><td    style=\"border: 1px solid black;\"> </td><td    style=\"border: 1px solid black;\"> </td><td    style=\"border: 1px solid black;\"> </td></tr>\n",
       "<tr><td    style=\"border: 1px solid black;\">5</td><td    style=\"border: 1px solid black;\"> </td><td    style=\"border: 1px solid black;\"> </td><td    style=\"border: 1px solid black;\"> </td><td    style=\"border: 1px solid black;\"> </td><td    style=\"border: 1px solid black;\"> </td><td    style=\"border: 1px solid black;\"> </td><td    style=\"border: 1px solid black;\"> </td><td    style=\"border: 1px solid black;\"> </td></tr>\n",
       "<tr><td    style=\"border: 1px solid black;\">6</td><td    style=\"border: 1px solid black;\"> </td><td    style=\"border: 1px solid black;\"> </td><td    style=\"border: 1px solid black;\"> </td><td    style=\"border: 1px solid black;\"> </td><td    style=\"border: 1px solid black;\"> </td><td    style=\"border: 1px solid black;\"> </td><td    style=\"border: 1px solid black;\"> </td><td    style=\"border: 1px solid black;\"> </td></tr>\n",
       "<tr><td    style=\"border: 1px solid black;\">7</td><td    style=\"border: 1px solid black;\"> </td><td    style=\"border: 1px solid black;\"> </td><td    style=\"border: 1px solid black;\"> </td><td    style=\"border: 1px solid black;\"> </td><td    style=\"border: 1px solid black;\"> </td><td    style=\"border: 1px solid black;\"> </td><td    style=\"border: 1px solid black;\"> </td><td    style=\"border: 1px solid black;\"> </td></tr>\n",
       "<tr><td    style=\"border: 1px solid black;\">8</td><td    style=\"border: 1px solid black;\"> </td><td    style=\"border: 1px solid black;\"> </td><td    style=\"border: 1px solid black;\"> </td><td    style=\"border: 1px solid black;\"> </td><td    style=\"border: 1px solid black;\"> </td><td    style=\"border: 1px solid black;\"> </td><td    style=\"border: 1px solid black;\">♔</td><td    style=\"border: 1px solid black;\"> </td></tr>\n",
       "<tr><td    style=\"border: 1px solid black;\"> </td><td    style=\"border: 1px solid black;\">a</td><td    style=\"border: 1px solid black;\">b</td><td    style=\"border: 1px solid black;\">c</td><td    style=\"border: 1px solid black;\">d</td><td    style=\"border: 1px solid black;\">e</td><td    style=\"border: 1px solid black;\">f</td><td    style=\"border: 1px solid black;\">g</td><td    style=\"border: 1px solid black;\">h</td></tr>\n",
       "</tbody>\n",
       "</table>"
      ],
      "text/plain": [
       "<IPython.core.display.HTML object>"
      ]
     },
     "metadata": {},
     "output_type": "display_data"
    },
    {
     "data": {
      "text/html": [
       "<table style=\"border: 2px solid black;\">\n",
       "<tbody>\n",
       "<tr><td    style=\"border: 1px solid black;\">1</td><td    style=\"border: 1px solid black;\"> </td><td    style=\"border: 1px solid black;\"> </td><td    style=\"border: 1px solid black;\"> </td><td    style=\"border: 1px solid black;\"> </td><td    style=\"border: 1px solid black;\"> </td><td    style=\"border: 1px solid black;\"> </td><td    style=\"border: 1px solid black;\"> </td><td    style=\"border: 1px solid black;\">♖</td></tr>\n",
       "<tr><td    style=\"border: 1px solid black;\">2</td><td    style=\"border: 1px solid black;\"> </td><td    style=\"border: 1px solid black;\"> </td><td    style=\"border: 1px solid black;\"> </td><td    style=\"border: 1px solid black;\"> </td><td    style=\"border: 1px solid black;\"> </td><td    style=\"border: 1px solid black;\"> </td><td    style=\"border: 1px solid black;\"> </td><td    style=\"border: 1px solid black;\"> </td></tr>\n",
       "<tr><td    style=\"border: 1px solid black;\">3</td><td    style=\"border: 1px solid black;\"> </td><td    style=\"border: 1px solid black;\">♚</td><td    style=\"border: 1px solid black;\"> </td><td    style=\"border: 1px solid black;\"> </td><td    style=\"border: 1px solid black;\"> </td><td    style=\"border: 1px solid black;\"> </td><td    style=\"border: 1px solid black;\"> </td><td    style=\"border: 1px solid black;\"> </td></tr>\n",
       "<tr><td    style=\"border: 1px solid black;\">4</td><td    style=\"border: 1px solid black;\"> </td><td    style=\"border: 1px solid black;\"> </td><td    style=\"border: 1px solid black;\"> </td><td    style=\"border: 1px solid black;\"> </td><td    style=\"border: 1px solid black;\"> </td><td    style=\"border: 1px solid black;\"> </td><td    style=\"border: 1px solid black;\"> </td><td    style=\"border: 1px solid black;\"> </td></tr>\n",
       "<tr><td    style=\"border: 1px solid black;\">5</td><td    style=\"border: 1px solid black;\"> </td><td    style=\"border: 1px solid black;\"> </td><td    style=\"border: 1px solid black;\"> </td><td    style=\"border: 1px solid black;\"> </td><td    style=\"border: 1px solid black;\"> </td><td    style=\"border: 1px solid black;\"> </td><td    style=\"border: 1px solid black;\"> </td><td    style=\"border: 1px solid black;\"> </td></tr>\n",
       "<tr><td    style=\"border: 1px solid black;\">6</td><td    style=\"border: 1px solid black;\"> </td><td    style=\"border: 1px solid black;\"> </td><td    style=\"border: 1px solid black;\"> </td><td    style=\"border: 1px solid black;\"> </td><td    style=\"border: 1px solid black;\"> </td><td    style=\"border: 1px solid black;\"> </td><td    style=\"border: 1px solid black;\"> </td><td    style=\"border: 1px solid black;\"> </td></tr>\n",
       "<tr><td    style=\"border: 1px solid black;\">7</td><td    style=\"border: 1px solid black;\"> </td><td    style=\"border: 1px solid black;\"> </td><td    style=\"border: 1px solid black;\"> </td><td    style=\"border: 1px solid black;\"> </td><td    style=\"border: 1px solid black;\"> </td><td    style=\"border: 1px solid black;\">♔</td><td    style=\"border: 1px solid black;\"> </td><td    style=\"border: 1px solid black;\"> </td></tr>\n",
       "<tr><td    style=\"border: 1px solid black;\">8</td><td    style=\"border: 1px solid black;\"> </td><td    style=\"border: 1px solid black;\"> </td><td    style=\"border: 1px solid black;\"> </td><td    style=\"border: 1px solid black;\"> </td><td    style=\"border: 1px solid black;\"> </td><td    style=\"border: 1px solid black;\"> </td><td    style=\"border: 1px solid black;\"> </td><td    style=\"border: 1px solid black;\"> </td></tr>\n",
       "<tr><td    style=\"border: 1px solid black;\"> </td><td    style=\"border: 1px solid black;\">a</td><td    style=\"border: 1px solid black;\">b</td><td    style=\"border: 1px solid black;\">c</td><td    style=\"border: 1px solid black;\">d</td><td    style=\"border: 1px solid black;\">e</td><td    style=\"border: 1px solid black;\">f</td><td    style=\"border: 1px solid black;\">g</td><td    style=\"border: 1px solid black;\">h</td></tr>\n",
       "</tbody>\n",
       "</table>"
      ],
      "text/plain": [
       "<IPython.core.display.HTML object>"
      ]
     },
     "metadata": {},
     "output_type": "display_data"
    },
    {
     "data": {
      "text/html": [
       "<table style=\"border: 2px solid black;\">\n",
       "<tbody>\n",
       "<tr><td    style=\"border: 1px solid black;\">1</td><td    style=\"border: 1px solid black;\"> </td><td    style=\"border: 1px solid black;\"> </td><td    style=\"border: 1px solid black;\"> </td><td    style=\"border: 1px solid black;\"> </td><td    style=\"border: 1px solid black;\"> </td><td    style=\"border: 1px solid black;\"> </td><td    style=\"border: 1px solid black;\"> </td><td    style=\"border: 1px solid black;\">♖</td></tr>\n",
       "<tr><td    style=\"border: 1px solid black;\">2</td><td    style=\"border: 1px solid black;\">♚</td><td    style=\"border: 1px solid black;\"> </td><td    style=\"border: 1px solid black;\"> </td><td    style=\"border: 1px solid black;\"> </td><td    style=\"border: 1px solid black;\"> </td><td    style=\"border: 1px solid black;\"> </td><td    style=\"border: 1px solid black;\"> </td><td    style=\"border: 1px solid black;\"> </td></tr>\n",
       "<tr><td    style=\"border: 1px solid black;\">3</td><td    style=\"border: 1px solid black;\"> </td><td    style=\"border: 1px solid black;\"> </td><td    style=\"border: 1px solid black;\"> </td><td    style=\"border: 1px solid black;\"> </td><td    style=\"border: 1px solid black;\"> </td><td    style=\"border: 1px solid black;\"> </td><td    style=\"border: 1px solid black;\"> </td><td    style=\"border: 1px solid black;\"> </td></tr>\n",
       "<tr><td    style=\"border: 1px solid black;\">4</td><td    style=\"border: 1px solid black;\"> </td><td    style=\"border: 1px solid black;\"> </td><td    style=\"border: 1px solid black;\"> </td><td    style=\"border: 1px solid black;\"> </td><td    style=\"border: 1px solid black;\"> </td><td    style=\"border: 1px solid black;\"> </td><td    style=\"border: 1px solid black;\"> </td><td    style=\"border: 1px solid black;\"> </td></tr>\n",
       "<tr><td    style=\"border: 1px solid black;\">5</td><td    style=\"border: 1px solid black;\"> </td><td    style=\"border: 1px solid black;\"> </td><td    style=\"border: 1px solid black;\"> </td><td    style=\"border: 1px solid black;\"> </td><td    style=\"border: 1px solid black;\"> </td><td    style=\"border: 1px solid black;\"> </td><td    style=\"border: 1px solid black;\"> </td><td    style=\"border: 1px solid black;\"> </td></tr>\n",
       "<tr><td    style=\"border: 1px solid black;\">6</td><td    style=\"border: 1px solid black;\"> </td><td    style=\"border: 1px solid black;\"> </td><td    style=\"border: 1px solid black;\"> </td><td    style=\"border: 1px solid black;\"> </td><td    style=\"border: 1px solid black;\"> </td><td    style=\"border: 1px solid black;\"> </td><td    style=\"border: 1px solid black;\"> </td><td    style=\"border: 1px solid black;\"> </td></tr>\n",
       "<tr><td    style=\"border: 1px solid black;\">7</td><td    style=\"border: 1px solid black;\"> </td><td    style=\"border: 1px solid black;\"> </td><td    style=\"border: 1px solid black;\"> </td><td    style=\"border: 1px solid black;\"> </td><td    style=\"border: 1px solid black;\"> </td><td    style=\"border: 1px solid black;\">♔</td><td    style=\"border: 1px solid black;\"> </td><td    style=\"border: 1px solid black;\"> </td></tr>\n",
       "<tr><td    style=\"border: 1px solid black;\">8</td><td    style=\"border: 1px solid black;\"> </td><td    style=\"border: 1px solid black;\"> </td><td    style=\"border: 1px solid black;\"> </td><td    style=\"border: 1px solid black;\"> </td><td    style=\"border: 1px solid black;\"> </td><td    style=\"border: 1px solid black;\"> </td><td    style=\"border: 1px solid black;\"> </td><td    style=\"border: 1px solid black;\"> </td></tr>\n",
       "<tr><td    style=\"border: 1px solid black;\"> </td><td    style=\"border: 1px solid black;\">a</td><td    style=\"border: 1px solid black;\">b</td><td    style=\"border: 1px solid black;\">c</td><td    style=\"border: 1px solid black;\">d</td><td    style=\"border: 1px solid black;\">e</td><td    style=\"border: 1px solid black;\">f</td><td    style=\"border: 1px solid black;\">g</td><td    style=\"border: 1px solid black;\">h</td></tr>\n",
       "</tbody>\n",
       "</table>"
      ],
      "text/plain": [
       "<IPython.core.display.HTML object>"
      ]
     },
     "metadata": {},
     "output_type": "display_data"
    },
    {
     "data": {
      "text/html": [
       "<table style=\"border: 2px solid black;\">\n",
       "<tbody>\n",
       "<tr><td    style=\"border: 1px solid black;\">1</td><td    style=\"border: 1px solid black;\"> </td><td    style=\"border: 1px solid black;\"> </td><td    style=\"border: 1px solid black;\"> </td><td    style=\"border: 1px solid black;\"> </td><td    style=\"border: 1px solid black;\"> </td><td    style=\"border: 1px solid black;\"> </td><td    style=\"border: 1px solid black;\"> </td><td    style=\"border: 1px solid black;\">♖</td></tr>\n",
       "<tr><td    style=\"border: 1px solid black;\">2</td><td    style=\"border: 1px solid black;\">♚</td><td    style=\"border: 1px solid black;\"> </td><td    style=\"border: 1px solid black;\"> </td><td    style=\"border: 1px solid black;\"> </td><td    style=\"border: 1px solid black;\"> </td><td    style=\"border: 1px solid black;\"> </td><td    style=\"border: 1px solid black;\"> </td><td    style=\"border: 1px solid black;\"> </td></tr>\n",
       "<tr><td    style=\"border: 1px solid black;\">3</td><td    style=\"border: 1px solid black;\"> </td><td    style=\"border: 1px solid black;\"> </td><td    style=\"border: 1px solid black;\"> </td><td    style=\"border: 1px solid black;\"> </td><td    style=\"border: 1px solid black;\"> </td><td    style=\"border: 1px solid black;\"> </td><td    style=\"border: 1px solid black;\"> </td><td    style=\"border: 1px solid black;\"> </td></tr>\n",
       "<tr><td    style=\"border: 1px solid black;\">4</td><td    style=\"border: 1px solid black;\"> </td><td    style=\"border: 1px solid black;\"> </td><td    style=\"border: 1px solid black;\"> </td><td    style=\"border: 1px solid black;\"> </td><td    style=\"border: 1px solid black;\"> </td><td    style=\"border: 1px solid black;\"> </td><td    style=\"border: 1px solid black;\"> </td><td    style=\"border: 1px solid black;\"> </td></tr>\n",
       "<tr><td    style=\"border: 1px solid black;\">5</td><td    style=\"border: 1px solid black;\"> </td><td    style=\"border: 1px solid black;\"> </td><td    style=\"border: 1px solid black;\"> </td><td    style=\"border: 1px solid black;\"> </td><td    style=\"border: 1px solid black;\"> </td><td    style=\"border: 1px solid black;\"> </td><td    style=\"border: 1px solid black;\"> </td><td    style=\"border: 1px solid black;\"> </td></tr>\n",
       "<tr><td    style=\"border: 1px solid black;\">6</td><td    style=\"border: 1px solid black;\"> </td><td    style=\"border: 1px solid black;\"> </td><td    style=\"border: 1px solid black;\"> </td><td    style=\"border: 1px solid black;\"> </td><td    style=\"border: 1px solid black;\">♔</td><td    style=\"border: 1px solid black;\"> </td><td    style=\"border: 1px solid black;\"> </td><td    style=\"border: 1px solid black;\"> </td></tr>\n",
       "<tr><td    style=\"border: 1px solid black;\">7</td><td    style=\"border: 1px solid black;\"> </td><td    style=\"border: 1px solid black;\"> </td><td    style=\"border: 1px solid black;\"> </td><td    style=\"border: 1px solid black;\"> </td><td    style=\"border: 1px solid black;\"> </td><td    style=\"border: 1px solid black;\"> </td><td    style=\"border: 1px solid black;\"> </td><td    style=\"border: 1px solid black;\"> </td></tr>\n",
       "<tr><td    style=\"border: 1px solid black;\">8</td><td    style=\"border: 1px solid black;\"> </td><td    style=\"border: 1px solid black;\"> </td><td    style=\"border: 1px solid black;\"> </td><td    style=\"border: 1px solid black;\"> </td><td    style=\"border: 1px solid black;\"> </td><td    style=\"border: 1px solid black;\"> </td><td    style=\"border: 1px solid black;\"> </td><td    style=\"border: 1px solid black;\"> </td></tr>\n",
       "<tr><td    style=\"border: 1px solid black;\"> </td><td    style=\"border: 1px solid black;\">a</td><td    style=\"border: 1px solid black;\">b</td><td    style=\"border: 1px solid black;\">c</td><td    style=\"border: 1px solid black;\">d</td><td    style=\"border: 1px solid black;\">e</td><td    style=\"border: 1px solid black;\">f</td><td    style=\"border: 1px solid black;\">g</td><td    style=\"border: 1px solid black;\">h</td></tr>\n",
       "</tbody>\n",
       "</table>"
      ],
      "text/plain": [
       "<IPython.core.display.HTML object>"
      ]
     },
     "metadata": {},
     "output_type": "display_data"
    },
    {
     "data": {
      "text/html": [
       "<table style=\"border: 2px solid black;\">\n",
       "<tbody>\n",
       "<tr><td    style=\"border: 1px solid black;\">1</td><td    style=\"border: 1px solid black;\"> </td><td    style=\"border: 1px solid black;\"> </td><td    style=\"border: 1px solid black;\"> </td><td    style=\"border: 1px solid black;\"> </td><td    style=\"border: 1px solid black;\"> </td><td    style=\"border: 1px solid black;\"> </td><td    style=\"border: 1px solid black;\"> </td><td    style=\"border: 1px solid black;\">♖</td></tr>\n",
       "<tr><td    style=\"border: 1px solid black;\">2</td><td    style=\"border: 1px solid black;\"> </td><td    style=\"border: 1px solid black;\">♚</td><td    style=\"border: 1px solid black;\"> </td><td    style=\"border: 1px solid black;\"> </td><td    style=\"border: 1px solid black;\"> </td><td    style=\"border: 1px solid black;\"> </td><td    style=\"border: 1px solid black;\"> </td><td    style=\"border: 1px solid black;\"> </td></tr>\n",
       "<tr><td    style=\"border: 1px solid black;\">3</td><td    style=\"border: 1px solid black;\"> </td><td    style=\"border: 1px solid black;\"> </td><td    style=\"border: 1px solid black;\"> </td><td    style=\"border: 1px solid black;\"> </td><td    style=\"border: 1px solid black;\"> </td><td    style=\"border: 1px solid black;\"> </td><td    style=\"border: 1px solid black;\"> </td><td    style=\"border: 1px solid black;\"> </td></tr>\n",
       "<tr><td    style=\"border: 1px solid black;\">4</td><td    style=\"border: 1px solid black;\"> </td><td    style=\"border: 1px solid black;\"> </td><td    style=\"border: 1px solid black;\"> </td><td    style=\"border: 1px solid black;\"> </td><td    style=\"border: 1px solid black;\"> </td><td    style=\"border: 1px solid black;\"> </td><td    style=\"border: 1px solid black;\"> </td><td    style=\"border: 1px solid black;\"> </td></tr>\n",
       "<tr><td    style=\"border: 1px solid black;\">5</td><td    style=\"border: 1px solid black;\"> </td><td    style=\"border: 1px solid black;\"> </td><td    style=\"border: 1px solid black;\"> </td><td    style=\"border: 1px solid black;\"> </td><td    style=\"border: 1px solid black;\"> </td><td    style=\"border: 1px solid black;\"> </td><td    style=\"border: 1px solid black;\"> </td><td    style=\"border: 1px solid black;\"> </td></tr>\n",
       "<tr><td    style=\"border: 1px solid black;\">6</td><td    style=\"border: 1px solid black;\"> </td><td    style=\"border: 1px solid black;\"> </td><td    style=\"border: 1px solid black;\"> </td><td    style=\"border: 1px solid black;\"> </td><td    style=\"border: 1px solid black;\">♔</td><td    style=\"border: 1px solid black;\"> </td><td    style=\"border: 1px solid black;\"> </td><td    style=\"border: 1px solid black;\"> </td></tr>\n",
       "<tr><td    style=\"border: 1px solid black;\">7</td><td    style=\"border: 1px solid black;\"> </td><td    style=\"border: 1px solid black;\"> </td><td    style=\"border: 1px solid black;\"> </td><td    style=\"border: 1px solid black;\"> </td><td    style=\"border: 1px solid black;\"> </td><td    style=\"border: 1px solid black;\"> </td><td    style=\"border: 1px solid black;\"> </td><td    style=\"border: 1px solid black;\"> </td></tr>\n",
       "<tr><td    style=\"border: 1px solid black;\">8</td><td    style=\"border: 1px solid black;\"> </td><td    style=\"border: 1px solid black;\"> </td><td    style=\"border: 1px solid black;\"> </td><td    style=\"border: 1px solid black;\"> </td><td    style=\"border: 1px solid black;\"> </td><td    style=\"border: 1px solid black;\"> </td><td    style=\"border: 1px solid black;\"> </td><td    style=\"border: 1px solid black;\"> </td></tr>\n",
       "<tr><td    style=\"border: 1px solid black;\"> </td><td    style=\"border: 1px solid black;\">a</td><td    style=\"border: 1px solid black;\">b</td><td    style=\"border: 1px solid black;\">c</td><td    style=\"border: 1px solid black;\">d</td><td    style=\"border: 1px solid black;\">e</td><td    style=\"border: 1px solid black;\">f</td><td    style=\"border: 1px solid black;\">g</td><td    style=\"border: 1px solid black;\">h</td></tr>\n",
       "</tbody>\n",
       "</table>"
      ],
      "text/plain": [
       "<IPython.core.display.HTML object>"
      ]
     },
     "metadata": {},
     "output_type": "display_data"
    },
    {
     "data": {
      "text/html": [
       "<table style=\"border: 2px solid black;\">\n",
       "<tbody>\n",
       "<tr><td    style=\"border: 1px solid black;\">1</td><td    style=\"border: 1px solid black;\"> </td><td    style=\"border: 1px solid black;\"> </td><td    style=\"border: 1px solid black;\"> </td><td    style=\"border: 1px solid black;\"> </td><td    style=\"border: 1px solid black;\"> </td><td    style=\"border: 1px solid black;\"> </td><td    style=\"border: 1px solid black;\"> </td><td    style=\"border: 1px solid black;\">♖</td></tr>\n",
       "<tr><td    style=\"border: 1px solid black;\">2</td><td    style=\"border: 1px solid black;\"> </td><td    style=\"border: 1px solid black;\">♚</td><td    style=\"border: 1px solid black;\"> </td><td    style=\"border: 1px solid black;\"> </td><td    style=\"border: 1px solid black;\"> </td><td    style=\"border: 1px solid black;\"> </td><td    style=\"border: 1px solid black;\"> </td><td    style=\"border: 1px solid black;\"> </td></tr>\n",
       "<tr><td    style=\"border: 1px solid black;\">3</td><td    style=\"border: 1px solid black;\"> </td><td    style=\"border: 1px solid black;\"> </td><td    style=\"border: 1px solid black;\"> </td><td    style=\"border: 1px solid black;\"> </td><td    style=\"border: 1px solid black;\"> </td><td    style=\"border: 1px solid black;\"> </td><td    style=\"border: 1px solid black;\"> </td><td    style=\"border: 1px solid black;\"> </td></tr>\n",
       "<tr><td    style=\"border: 1px solid black;\">4</td><td    style=\"border: 1px solid black;\"> </td><td    style=\"border: 1px solid black;\"> </td><td    style=\"border: 1px solid black;\"> </td><td    style=\"border: 1px solid black;\"> </td><td    style=\"border: 1px solid black;\"> </td><td    style=\"border: 1px solid black;\"> </td><td    style=\"border: 1px solid black;\"> </td><td    style=\"border: 1px solid black;\"> </td></tr>\n",
       "<tr><td    style=\"border: 1px solid black;\">5</td><td    style=\"border: 1px solid black;\"> </td><td    style=\"border: 1px solid black;\"> </td><td    style=\"border: 1px solid black;\"> </td><td    style=\"border: 1px solid black;\">♔</td><td    style=\"border: 1px solid black;\"> </td><td    style=\"border: 1px solid black;\"> </td><td    style=\"border: 1px solid black;\"> </td><td    style=\"border: 1px solid black;\"> </td></tr>\n",
       "<tr><td    style=\"border: 1px solid black;\">6</td><td    style=\"border: 1px solid black;\"> </td><td    style=\"border: 1px solid black;\"> </td><td    style=\"border: 1px solid black;\"> </td><td    style=\"border: 1px solid black;\"> </td><td    style=\"border: 1px solid black;\"> </td><td    style=\"border: 1px solid black;\"> </td><td    style=\"border: 1px solid black;\"> </td><td    style=\"border: 1px solid black;\"> </td></tr>\n",
       "<tr><td    style=\"border: 1px solid black;\">7</td><td    style=\"border: 1px solid black;\"> </td><td    style=\"border: 1px solid black;\"> </td><td    style=\"border: 1px solid black;\"> </td><td    style=\"border: 1px solid black;\"> </td><td    style=\"border: 1px solid black;\"> </td><td    style=\"border: 1px solid black;\"> </td><td    style=\"border: 1px solid black;\"> </td><td    style=\"border: 1px solid black;\"> </td></tr>\n",
       "<tr><td    style=\"border: 1px solid black;\">8</td><td    style=\"border: 1px solid black;\"> </td><td    style=\"border: 1px solid black;\"> </td><td    style=\"border: 1px solid black;\"> </td><td    style=\"border: 1px solid black;\"> </td><td    style=\"border: 1px solid black;\"> </td><td    style=\"border: 1px solid black;\"> </td><td    style=\"border: 1px solid black;\"> </td><td    style=\"border: 1px solid black;\"> </td></tr>\n",
       "<tr><td    style=\"border: 1px solid black;\"> </td><td    style=\"border: 1px solid black;\">a</td><td    style=\"border: 1px solid black;\">b</td><td    style=\"border: 1px solid black;\">c</td><td    style=\"border: 1px solid black;\">d</td><td    style=\"border: 1px solid black;\">e</td><td    style=\"border: 1px solid black;\">f</td><td    style=\"border: 1px solid black;\">g</td><td    style=\"border: 1px solid black;\">h</td></tr>\n",
       "</tbody>\n",
       "</table>"
      ],
      "text/plain": [
       "<IPython.core.display.HTML object>"
      ]
     },
     "metadata": {},
     "output_type": "display_data"
    },
    {
     "data": {
      "text/html": [
       "<table style=\"border: 2px solid black;\">\n",
       "<tbody>\n",
       "<tr><td    style=\"border: 1px solid black;\">1</td><td    style=\"border: 1px solid black;\"> </td><td    style=\"border: 1px solid black;\"> </td><td    style=\"border: 1px solid black;\"> </td><td    style=\"border: 1px solid black;\"> </td><td    style=\"border: 1px solid black;\"> </td><td    style=\"border: 1px solid black;\"> </td><td    style=\"border: 1px solid black;\"> </td><td    style=\"border: 1px solid black;\">♖</td></tr>\n",
       "<tr><td    style=\"border: 1px solid black;\">2</td><td    style=\"border: 1px solid black;\"> </td><td    style=\"border: 1px solid black;\"> </td><td    style=\"border: 1px solid black;\"> </td><td    style=\"border: 1px solid black;\"> </td><td    style=\"border: 1px solid black;\"> </td><td    style=\"border: 1px solid black;\"> </td><td    style=\"border: 1px solid black;\"> </td><td    style=\"border: 1px solid black;\"> </td></tr>\n",
       "<tr><td    style=\"border: 1px solid black;\">3</td><td    style=\"border: 1px solid black;\">♚</td><td    style=\"border: 1px solid black;\"> </td><td    style=\"border: 1px solid black;\"> </td><td    style=\"border: 1px solid black;\"> </td><td    style=\"border: 1px solid black;\"> </td><td    style=\"border: 1px solid black;\"> </td><td    style=\"border: 1px solid black;\"> </td><td    style=\"border: 1px solid black;\"> </td></tr>\n",
       "<tr><td    style=\"border: 1px solid black;\">4</td><td    style=\"border: 1px solid black;\"> </td><td    style=\"border: 1px solid black;\"> </td><td    style=\"border: 1px solid black;\"> </td><td    style=\"border: 1px solid black;\"> </td><td    style=\"border: 1px solid black;\"> </td><td    style=\"border: 1px solid black;\"> </td><td    style=\"border: 1px solid black;\"> </td><td    style=\"border: 1px solid black;\"> </td></tr>\n",
       "<tr><td    style=\"border: 1px solid black;\">5</td><td    style=\"border: 1px solid black;\"> </td><td    style=\"border: 1px solid black;\"> </td><td    style=\"border: 1px solid black;\"> </td><td    style=\"border: 1px solid black;\">♔</td><td    style=\"border: 1px solid black;\"> </td><td    style=\"border: 1px solid black;\"> </td><td    style=\"border: 1px solid black;\"> </td><td    style=\"border: 1px solid black;\"> </td></tr>\n",
       "<tr><td    style=\"border: 1px solid black;\">6</td><td    style=\"border: 1px solid black;\"> </td><td    style=\"border: 1px solid black;\"> </td><td    style=\"border: 1px solid black;\"> </td><td    style=\"border: 1px solid black;\"> </td><td    style=\"border: 1px solid black;\"> </td><td    style=\"border: 1px solid black;\"> </td><td    style=\"border: 1px solid black;\"> </td><td    style=\"border: 1px solid black;\"> </td></tr>\n",
       "<tr><td    style=\"border: 1px solid black;\">7</td><td    style=\"border: 1px solid black;\"> </td><td    style=\"border: 1px solid black;\"> </td><td    style=\"border: 1px solid black;\"> </td><td    style=\"border: 1px solid black;\"> </td><td    style=\"border: 1px solid black;\"> </td><td    style=\"border: 1px solid black;\"> </td><td    style=\"border: 1px solid black;\"> </td><td    style=\"border: 1px solid black;\"> </td></tr>\n",
       "<tr><td    style=\"border: 1px solid black;\">8</td><td    style=\"border: 1px solid black;\"> </td><td    style=\"border: 1px solid black;\"> </td><td    style=\"border: 1px solid black;\"> </td><td    style=\"border: 1px solid black;\"> </td><td    style=\"border: 1px solid black;\"> </td><td    style=\"border: 1px solid black;\"> </td><td    style=\"border: 1px solid black;\"> </td><td    style=\"border: 1px solid black;\"> </td></tr>\n",
       "<tr><td    style=\"border: 1px solid black;\"> </td><td    style=\"border: 1px solid black;\">a</td><td    style=\"border: 1px solid black;\">b</td><td    style=\"border: 1px solid black;\">c</td><td    style=\"border: 1px solid black;\">d</td><td    style=\"border: 1px solid black;\">e</td><td    style=\"border: 1px solid black;\">f</td><td    style=\"border: 1px solid black;\">g</td><td    style=\"border: 1px solid black;\">h</td></tr>\n",
       "</tbody>\n",
       "</table>"
      ],
      "text/plain": [
       "<IPython.core.display.HTML object>"
      ]
     },
     "metadata": {},
     "output_type": "display_data"
    },
    {
     "data": {
      "text/html": [
       "<table style=\"border: 2px solid black;\">\n",
       "<tbody>\n",
       "<tr><td    style=\"border: 1px solid black;\">1</td><td    style=\"border: 1px solid black;\"> </td><td    style=\"border: 1px solid black;\"> </td><td    style=\"border: 1px solid black;\"> </td><td    style=\"border: 1px solid black;\"> </td><td    style=\"border: 1px solid black;\"> </td><td    style=\"border: 1px solid black;\"> </td><td    style=\"border: 1px solid black;\"> </td><td    style=\"border: 1px solid black;\">♖</td></tr>\n",
       "<tr><td    style=\"border: 1px solid black;\">2</td><td    style=\"border: 1px solid black;\"> </td><td    style=\"border: 1px solid black;\"> </td><td    style=\"border: 1px solid black;\"> </td><td    style=\"border: 1px solid black;\"> </td><td    style=\"border: 1px solid black;\"> </td><td    style=\"border: 1px solid black;\"> </td><td    style=\"border: 1px solid black;\"> </td><td    style=\"border: 1px solid black;\"> </td></tr>\n",
       "<tr><td    style=\"border: 1px solid black;\">3</td><td    style=\"border: 1px solid black;\">♚</td><td    style=\"border: 1px solid black;\"> </td><td    style=\"border: 1px solid black;\"> </td><td    style=\"border: 1px solid black;\"> </td><td    style=\"border: 1px solid black;\"> </td><td    style=\"border: 1px solid black;\"> </td><td    style=\"border: 1px solid black;\"> </td><td    style=\"border: 1px solid black;\"> </td></tr>\n",
       "<tr><td    style=\"border: 1px solid black;\">4</td><td    style=\"border: 1px solid black;\"> </td><td    style=\"border: 1px solid black;\"> </td><td    style=\"border: 1px solid black;\">♔</td><td    style=\"border: 1px solid black;\"> </td><td    style=\"border: 1px solid black;\"> </td><td    style=\"border: 1px solid black;\"> </td><td    style=\"border: 1px solid black;\"> </td><td    style=\"border: 1px solid black;\"> </td></tr>\n",
       "<tr><td    style=\"border: 1px solid black;\">5</td><td    style=\"border: 1px solid black;\"> </td><td    style=\"border: 1px solid black;\"> </td><td    style=\"border: 1px solid black;\"> </td><td    style=\"border: 1px solid black;\"> </td><td    style=\"border: 1px solid black;\"> </td><td    style=\"border: 1px solid black;\"> </td><td    style=\"border: 1px solid black;\"> </td><td    style=\"border: 1px solid black;\"> </td></tr>\n",
       "<tr><td    style=\"border: 1px solid black;\">6</td><td    style=\"border: 1px solid black;\"> </td><td    style=\"border: 1px solid black;\"> </td><td    style=\"border: 1px solid black;\"> </td><td    style=\"border: 1px solid black;\"> </td><td    style=\"border: 1px solid black;\"> </td><td    style=\"border: 1px solid black;\"> </td><td    style=\"border: 1px solid black;\"> </td><td    style=\"border: 1px solid black;\"> </td></tr>\n",
       "<tr><td    style=\"border: 1px solid black;\">7</td><td    style=\"border: 1px solid black;\"> </td><td    style=\"border: 1px solid black;\"> </td><td    style=\"border: 1px solid black;\"> </td><td    style=\"border: 1px solid black;\"> </td><td    style=\"border: 1px solid black;\"> </td><td    style=\"border: 1px solid black;\"> </td><td    style=\"border: 1px solid black;\"> </td><td    style=\"border: 1px solid black;\"> </td></tr>\n",
       "<tr><td    style=\"border: 1px solid black;\">8</td><td    style=\"border: 1px solid black;\"> </td><td    style=\"border: 1px solid black;\"> </td><td    style=\"border: 1px solid black;\"> </td><td    style=\"border: 1px solid black;\"> </td><td    style=\"border: 1px solid black;\"> </td><td    style=\"border: 1px solid black;\"> </td><td    style=\"border: 1px solid black;\"> </td><td    style=\"border: 1px solid black;\"> </td></tr>\n",
       "<tr><td    style=\"border: 1px solid black;\"> </td><td    style=\"border: 1px solid black;\">a</td><td    style=\"border: 1px solid black;\">b</td><td    style=\"border: 1px solid black;\">c</td><td    style=\"border: 1px solid black;\">d</td><td    style=\"border: 1px solid black;\">e</td><td    style=\"border: 1px solid black;\">f</td><td    style=\"border: 1px solid black;\">g</td><td    style=\"border: 1px solid black;\">h</td></tr>\n",
       "</tbody>\n",
       "</table>"
      ],
      "text/plain": [
       "<IPython.core.display.HTML object>"
      ]
     },
     "metadata": {},
     "output_type": "display_data"
    },
    {
     "data": {
      "text/html": [
       "<table style=\"border: 2px solid black;\">\n",
       "<tbody>\n",
       "<tr><td    style=\"border: 1px solid black;\">1</td><td    style=\"border: 1px solid black;\"> </td><td    style=\"border: 1px solid black;\"> </td><td    style=\"border: 1px solid black;\"> </td><td    style=\"border: 1px solid black;\"> </td><td    style=\"border: 1px solid black;\"> </td><td    style=\"border: 1px solid black;\"> </td><td    style=\"border: 1px solid black;\"> </td><td    style=\"border: 1px solid black;\">♖</td></tr>\n",
       "<tr><td    style=\"border: 1px solid black;\">2</td><td    style=\"border: 1px solid black;\"> </td><td    style=\"border: 1px solid black;\"> </td><td    style=\"border: 1px solid black;\"> </td><td    style=\"border: 1px solid black;\"> </td><td    style=\"border: 1px solid black;\"> </td><td    style=\"border: 1px solid black;\"> </td><td    style=\"border: 1px solid black;\"> </td><td    style=\"border: 1px solid black;\"> </td></tr>\n",
       "<tr><td    style=\"border: 1px solid black;\">3</td><td    style=\"border: 1px solid black;\"> </td><td    style=\"border: 1px solid black;\"> </td><td    style=\"border: 1px solid black;\"> </td><td    style=\"border: 1px solid black;\"> </td><td    style=\"border: 1px solid black;\"> </td><td    style=\"border: 1px solid black;\"> </td><td    style=\"border: 1px solid black;\"> </td><td    style=\"border: 1px solid black;\"> </td></tr>\n",
       "<tr><td    style=\"border: 1px solid black;\">4</td><td    style=\"border: 1px solid black;\">♚</td><td    style=\"border: 1px solid black;\"> </td><td    style=\"border: 1px solid black;\">♔</td><td    style=\"border: 1px solid black;\"> </td><td    style=\"border: 1px solid black;\"> </td><td    style=\"border: 1px solid black;\"> </td><td    style=\"border: 1px solid black;\"> </td><td    style=\"border: 1px solid black;\"> </td></tr>\n",
       "<tr><td    style=\"border: 1px solid black;\">5</td><td    style=\"border: 1px solid black;\"> </td><td    style=\"border: 1px solid black;\"> </td><td    style=\"border: 1px solid black;\"> </td><td    style=\"border: 1px solid black;\"> </td><td    style=\"border: 1px solid black;\"> </td><td    style=\"border: 1px solid black;\"> </td><td    style=\"border: 1px solid black;\"> </td><td    style=\"border: 1px solid black;\"> </td></tr>\n",
       "<tr><td    style=\"border: 1px solid black;\">6</td><td    style=\"border: 1px solid black;\"> </td><td    style=\"border: 1px solid black;\"> </td><td    style=\"border: 1px solid black;\"> </td><td    style=\"border: 1px solid black;\"> </td><td    style=\"border: 1px solid black;\"> </td><td    style=\"border: 1px solid black;\"> </td><td    style=\"border: 1px solid black;\"> </td><td    style=\"border: 1px solid black;\"> </td></tr>\n",
       "<tr><td    style=\"border: 1px solid black;\">7</td><td    style=\"border: 1px solid black;\"> </td><td    style=\"border: 1px solid black;\"> </td><td    style=\"border: 1px solid black;\"> </td><td    style=\"border: 1px solid black;\"> </td><td    style=\"border: 1px solid black;\"> </td><td    style=\"border: 1px solid black;\"> </td><td    style=\"border: 1px solid black;\"> </td><td    style=\"border: 1px solid black;\"> </td></tr>\n",
       "<tr><td    style=\"border: 1px solid black;\">8</td><td    style=\"border: 1px solid black;\"> </td><td    style=\"border: 1px solid black;\"> </td><td    style=\"border: 1px solid black;\"> </td><td    style=\"border: 1px solid black;\"> </td><td    style=\"border: 1px solid black;\"> </td><td    style=\"border: 1px solid black;\"> </td><td    style=\"border: 1px solid black;\"> </td><td    style=\"border: 1px solid black;\"> </td></tr>\n",
       "<tr><td    style=\"border: 1px solid black;\"> </td><td    style=\"border: 1px solid black;\">a</td><td    style=\"border: 1px solid black;\">b</td><td    style=\"border: 1px solid black;\">c</td><td    style=\"border: 1px solid black;\">d</td><td    style=\"border: 1px solid black;\">e</td><td    style=\"border: 1px solid black;\">f</td><td    style=\"border: 1px solid black;\">g</td><td    style=\"border: 1px solid black;\">h</td></tr>\n",
       "</tbody>\n",
       "</table>"
      ],
      "text/plain": [
       "<IPython.core.display.HTML object>"
      ]
     },
     "metadata": {},
     "output_type": "display_data"
    },
    {
     "data": {
      "text/html": [
       "<table style=\"border: 2px solid black;\">\n",
       "<tbody>\n",
       "<tr><td    style=\"border: 1px solid black;\">1</td><td    style=\"border: 1px solid black;\">♖</td><td    style=\"border: 1px solid black;\"> </td><td    style=\"border: 1px solid black;\"> </td><td    style=\"border: 1px solid black;\"> </td><td    style=\"border: 1px solid black;\"> </td><td    style=\"border: 1px solid black;\"> </td><td    style=\"border: 1px solid black;\"> </td><td    style=\"border: 1px solid black;\"> </td></tr>\n",
       "<tr><td    style=\"border: 1px solid black;\">2</td><td    style=\"border: 1px solid black;\"> </td><td    style=\"border: 1px solid black;\"> </td><td    style=\"border: 1px solid black;\"> </td><td    style=\"border: 1px solid black;\"> </td><td    style=\"border: 1px solid black;\"> </td><td    style=\"border: 1px solid black;\"> </td><td    style=\"border: 1px solid black;\"> </td><td    style=\"border: 1px solid black;\"> </td></tr>\n",
       "<tr><td    style=\"border: 1px solid black;\">3</td><td    style=\"border: 1px solid black;\"> </td><td    style=\"border: 1px solid black;\"> </td><td    style=\"border: 1px solid black;\"> </td><td    style=\"border: 1px solid black;\"> </td><td    style=\"border: 1px solid black;\"> </td><td    style=\"border: 1px solid black;\"> </td><td    style=\"border: 1px solid black;\"> </td><td    style=\"border: 1px solid black;\"> </td></tr>\n",
       "<tr><td    style=\"border: 1px solid black;\">4</td><td    style=\"border: 1px solid black;\">♚</td><td    style=\"border: 1px solid black;\"> </td><td    style=\"border: 1px solid black;\">♔</td><td    style=\"border: 1px solid black;\"> </td><td    style=\"border: 1px solid black;\"> </td><td    style=\"border: 1px solid black;\"> </td><td    style=\"border: 1px solid black;\"> </td><td    style=\"border: 1px solid black;\"> </td></tr>\n",
       "<tr><td    style=\"border: 1px solid black;\">5</td><td    style=\"border: 1px solid black;\"> </td><td    style=\"border: 1px solid black;\"> </td><td    style=\"border: 1px solid black;\"> </td><td    style=\"border: 1px solid black;\"> </td><td    style=\"border: 1px solid black;\"> </td><td    style=\"border: 1px solid black;\"> </td><td    style=\"border: 1px solid black;\"> </td><td    style=\"border: 1px solid black;\"> </td></tr>\n",
       "<tr><td    style=\"border: 1px solid black;\">6</td><td    style=\"border: 1px solid black;\"> </td><td    style=\"border: 1px solid black;\"> </td><td    style=\"border: 1px solid black;\"> </td><td    style=\"border: 1px solid black;\"> </td><td    style=\"border: 1px solid black;\"> </td><td    style=\"border: 1px solid black;\"> </td><td    style=\"border: 1px solid black;\"> </td><td    style=\"border: 1px solid black;\"> </td></tr>\n",
       "<tr><td    style=\"border: 1px solid black;\">7</td><td    style=\"border: 1px solid black;\"> </td><td    style=\"border: 1px solid black;\"> </td><td    style=\"border: 1px solid black;\"> </td><td    style=\"border: 1px solid black;\"> </td><td    style=\"border: 1px solid black;\"> </td><td    style=\"border: 1px solid black;\"> </td><td    style=\"border: 1px solid black;\"> </td><td    style=\"border: 1px solid black;\"> </td></tr>\n",
       "<tr><td    style=\"border: 1px solid black;\">8</td><td    style=\"border: 1px solid black;\"> </td><td    style=\"border: 1px solid black;\"> </td><td    style=\"border: 1px solid black;\"> </td><td    style=\"border: 1px solid black;\"> </td><td    style=\"border: 1px solid black;\"> </td><td    style=\"border: 1px solid black;\"> </td><td    style=\"border: 1px solid black;\"> </td><td    style=\"border: 1px solid black;\"> </td></tr>\n",
       "<tr><td    style=\"border: 1px solid black;\"> </td><td    style=\"border: 1px solid black;\">a</td><td    style=\"border: 1px solid black;\">b</td><td    style=\"border: 1px solid black;\">c</td><td    style=\"border: 1px solid black;\">d</td><td    style=\"border: 1px solid black;\">e</td><td    style=\"border: 1px solid black;\">f</td><td    style=\"border: 1px solid black;\">g</td><td    style=\"border: 1px solid black;\">h</td></tr>\n",
       "</tbody>\n",
       "</table>"
      ],
      "text/plain": [
       "<IPython.core.display.HTML object>"
      ]
     },
     "metadata": {},
     "output_type": "display_data"
    },
    {
     "name": "stdout",
     "output_type": "stream",
     "text": [
      "We are testing white b4 f4 d7\n"
     ]
    },
    {
     "data": {
      "text/html": [
       "<table style=\"border: 2px solid black;\">\n",
       "<tbody>\n",
       "<tr><td    style=\"border: 1px solid black;\">1</td><td    style=\"border: 1px solid black;\"> </td><td    style=\"border: 1px solid black;\"> </td><td    style=\"border: 1px solid black;\"> </td><td    style=\"border: 1px solid black;\"> </td><td    style=\"border: 1px solid black;\"> </td><td    style=\"border: 1px solid black;\"> </td><td    style=\"border: 1px solid black;\"> </td><td    style=\"border: 1px solid black;\"> </td></tr>\n",
       "<tr><td    style=\"border: 1px solid black;\">2</td><td    style=\"border: 1px solid black;\"> </td><td    style=\"border: 1px solid black;\"> </td><td    style=\"border: 1px solid black;\"> </td><td    style=\"border: 1px solid black;\"> </td><td    style=\"border: 1px solid black;\"> </td><td    style=\"border: 1px solid black;\"> </td><td    style=\"border: 1px solid black;\"> </td><td    style=\"border: 1px solid black;\"> </td></tr>\n",
       "<tr><td    style=\"border: 1px solid black;\">3</td><td    style=\"border: 1px solid black;\"> </td><td    style=\"border: 1px solid black;\"> </td><td    style=\"border: 1px solid black;\"> </td><td    style=\"border: 1px solid black;\"> </td><td    style=\"border: 1px solid black;\"> </td><td    style=\"border: 1px solid black;\"> </td><td    style=\"border: 1px solid black;\"> </td><td    style=\"border: 1px solid black;\"> </td></tr>\n",
       "<tr><td    style=\"border: 1px solid black;\">4</td><td    style=\"border: 1px solid black;\"> </td><td    style=\"border: 1px solid black;\">♔</td><td    style=\"border: 1px solid black;\"> </td><td    style=\"border: 1px solid black;\"> </td><td    style=\"border: 1px solid black;\"> </td><td    style=\"border: 1px solid black;\">♖</td><td    style=\"border: 1px solid black;\"> </td><td    style=\"border: 1px solid black;\"> </td></tr>\n",
       "<tr><td    style=\"border: 1px solid black;\">5</td><td    style=\"border: 1px solid black;\"> </td><td    style=\"border: 1px solid black;\"> </td><td    style=\"border: 1px solid black;\"> </td><td    style=\"border: 1px solid black;\"> </td><td    style=\"border: 1px solid black;\"> </td><td    style=\"border: 1px solid black;\"> </td><td    style=\"border: 1px solid black;\"> </td><td    style=\"border: 1px solid black;\"> </td></tr>\n",
       "<tr><td    style=\"border: 1px solid black;\">6</td><td    style=\"border: 1px solid black;\"> </td><td    style=\"border: 1px solid black;\"> </td><td    style=\"border: 1px solid black;\"> </td><td    style=\"border: 1px solid black;\"> </td><td    style=\"border: 1px solid black;\"> </td><td    style=\"border: 1px solid black;\"> </td><td    style=\"border: 1px solid black;\"> </td><td    style=\"border: 1px solid black;\"> </td></tr>\n",
       "<tr><td    style=\"border: 1px solid black;\">7</td><td    style=\"border: 1px solid black;\"> </td><td    style=\"border: 1px solid black;\"> </td><td    style=\"border: 1px solid black;\"> </td><td    style=\"border: 1px solid black;\">♚</td><td    style=\"border: 1px solid black;\"> </td><td    style=\"border: 1px solid black;\"> </td><td    style=\"border: 1px solid black;\"> </td><td    style=\"border: 1px solid black;\"> </td></tr>\n",
       "<tr><td    style=\"border: 1px solid black;\">8</td><td    style=\"border: 1px solid black;\"> </td><td    style=\"border: 1px solid black;\"> </td><td    style=\"border: 1px solid black;\"> </td><td    style=\"border: 1px solid black;\"> </td><td    style=\"border: 1px solid black;\"> </td><td    style=\"border: 1px solid black;\"> </td><td    style=\"border: 1px solid black;\"> </td><td    style=\"border: 1px solid black;\"> </td></tr>\n",
       "<tr><td    style=\"border: 1px solid black;\"> </td><td    style=\"border: 1px solid black;\">a</td><td    style=\"border: 1px solid black;\">b</td><td    style=\"border: 1px solid black;\">c</td><td    style=\"border: 1px solid black;\">d</td><td    style=\"border: 1px solid black;\">e</td><td    style=\"border: 1px solid black;\">f</td><td    style=\"border: 1px solid black;\">g</td><td    style=\"border: 1px solid black;\">h</td></tr>\n",
       "</tbody>\n",
       "</table>"
      ],
      "text/plain": [
       "<IPython.core.display.HTML object>"
      ]
     },
     "metadata": {},
     "output_type": "display_data"
    },
    {
     "data": {
      "text/html": [
       "<table style=\"border: 2px solid black;\">\n",
       "<tbody>\n",
       "<tr><td    style=\"border: 1px solid black;\">1</td><td    style=\"border: 1px solid black;\"> </td><td    style=\"border: 1px solid black;\"> </td><td    style=\"border: 1px solid black;\"> </td><td    style=\"border: 1px solid black;\"> </td><td    style=\"border: 1px solid black;\"> </td><td    style=\"border: 1px solid black;\"> </td><td    style=\"border: 1px solid black;\"> </td><td    style=\"border: 1px solid black;\"> </td></tr>\n",
       "<tr><td    style=\"border: 1px solid black;\">2</td><td    style=\"border: 1px solid black;\"> </td><td    style=\"border: 1px solid black;\"> </td><td    style=\"border: 1px solid black;\"> </td><td    style=\"border: 1px solid black;\"> </td><td    style=\"border: 1px solid black;\"> </td><td    style=\"border: 1px solid black;\"> </td><td    style=\"border: 1px solid black;\"> </td><td    style=\"border: 1px solid black;\"> </td></tr>\n",
       "<tr><td    style=\"border: 1px solid black;\">3</td><td    style=\"border: 1px solid black;\"> </td><td    style=\"border: 1px solid black;\"> </td><td    style=\"border: 1px solid black;\"> </td><td    style=\"border: 1px solid black;\"> </td><td    style=\"border: 1px solid black;\"> </td><td    style=\"border: 1px solid black;\"> </td><td    style=\"border: 1px solid black;\"> </td><td    style=\"border: 1px solid black;\"> </td></tr>\n",
       "<tr><td    style=\"border: 1px solid black;\">4</td><td    style=\"border: 1px solid black;\"> </td><td    style=\"border: 1px solid black;\"> </td><td    style=\"border: 1px solid black;\"> </td><td    style=\"border: 1px solid black;\"> </td><td    style=\"border: 1px solid black;\"> </td><td    style=\"border: 1px solid black;\">♖</td><td    style=\"border: 1px solid black;\"> </td><td    style=\"border: 1px solid black;\"> </td></tr>\n",
       "<tr><td    style=\"border: 1px solid black;\">5</td><td    style=\"border: 1px solid black;\">♔</td><td    style=\"border: 1px solid black;\"> </td><td    style=\"border: 1px solid black;\"> </td><td    style=\"border: 1px solid black;\"> </td><td    style=\"border: 1px solid black;\"> </td><td    style=\"border: 1px solid black;\"> </td><td    style=\"border: 1px solid black;\"> </td><td    style=\"border: 1px solid black;\"> </td></tr>\n",
       "<tr><td    style=\"border: 1px solid black;\">6</td><td    style=\"border: 1px solid black;\"> </td><td    style=\"border: 1px solid black;\"> </td><td    style=\"border: 1px solid black;\"> </td><td    style=\"border: 1px solid black;\"> </td><td    style=\"border: 1px solid black;\"> </td><td    style=\"border: 1px solid black;\"> </td><td    style=\"border: 1px solid black;\"> </td><td    style=\"border: 1px solid black;\"> </td></tr>\n",
       "<tr><td    style=\"border: 1px solid black;\">7</td><td    style=\"border: 1px solid black;\"> </td><td    style=\"border: 1px solid black;\"> </td><td    style=\"border: 1px solid black;\"> </td><td    style=\"border: 1px solid black;\">♚</td><td    style=\"border: 1px solid black;\"> </td><td    style=\"border: 1px solid black;\"> </td><td    style=\"border: 1px solid black;\"> </td><td    style=\"border: 1px solid black;\"> </td></tr>\n",
       "<tr><td    style=\"border: 1px solid black;\">8</td><td    style=\"border: 1px solid black;\"> </td><td    style=\"border: 1px solid black;\"> </td><td    style=\"border: 1px solid black;\"> </td><td    style=\"border: 1px solid black;\"> </td><td    style=\"border: 1px solid black;\"> </td><td    style=\"border: 1px solid black;\"> </td><td    style=\"border: 1px solid black;\"> </td><td    style=\"border: 1px solid black;\"> </td></tr>\n",
       "<tr><td    style=\"border: 1px solid black;\"> </td><td    style=\"border: 1px solid black;\">a</td><td    style=\"border: 1px solid black;\">b</td><td    style=\"border: 1px solid black;\">c</td><td    style=\"border: 1px solid black;\">d</td><td    style=\"border: 1px solid black;\">e</td><td    style=\"border: 1px solid black;\">f</td><td    style=\"border: 1px solid black;\">g</td><td    style=\"border: 1px solid black;\">h</td></tr>\n",
       "</tbody>\n",
       "</table>"
      ],
      "text/plain": [
       "<IPython.core.display.HTML object>"
      ]
     },
     "metadata": {},
     "output_type": "display_data"
    },
    {
     "data": {
      "text/html": [
       "<table style=\"border: 2px solid black;\">\n",
       "<tbody>\n",
       "<tr><td    style=\"border: 1px solid black;\">1</td><td    style=\"border: 1px solid black;\"> </td><td    style=\"border: 1px solid black;\"> </td><td    style=\"border: 1px solid black;\"> </td><td    style=\"border: 1px solid black;\"> </td><td    style=\"border: 1px solid black;\"> </td><td    style=\"border: 1px solid black;\"> </td><td    style=\"border: 1px solid black;\"> </td><td    style=\"border: 1px solid black;\"> </td></tr>\n",
       "<tr><td    style=\"border: 1px solid black;\">2</td><td    style=\"border: 1px solid black;\"> </td><td    style=\"border: 1px solid black;\"> </td><td    style=\"border: 1px solid black;\"> </td><td    style=\"border: 1px solid black;\"> </td><td    style=\"border: 1px solid black;\"> </td><td    style=\"border: 1px solid black;\"> </td><td    style=\"border: 1px solid black;\"> </td><td    style=\"border: 1px solid black;\"> </td></tr>\n",
       "<tr><td    style=\"border: 1px solid black;\">3</td><td    style=\"border: 1px solid black;\"> </td><td    style=\"border: 1px solid black;\"> </td><td    style=\"border: 1px solid black;\"> </td><td    style=\"border: 1px solid black;\"> </td><td    style=\"border: 1px solid black;\"> </td><td    style=\"border: 1px solid black;\"> </td><td    style=\"border: 1px solid black;\"> </td><td    style=\"border: 1px solid black;\"> </td></tr>\n",
       "<tr><td    style=\"border: 1px solid black;\">4</td><td    style=\"border: 1px solid black;\"> </td><td    style=\"border: 1px solid black;\"> </td><td    style=\"border: 1px solid black;\"> </td><td    style=\"border: 1px solid black;\"> </td><td    style=\"border: 1px solid black;\"> </td><td    style=\"border: 1px solid black;\">♖</td><td    style=\"border: 1px solid black;\"> </td><td    style=\"border: 1px solid black;\"> </td></tr>\n",
       "<tr><td    style=\"border: 1px solid black;\">5</td><td    style=\"border: 1px solid black;\">♔</td><td    style=\"border: 1px solid black;\"> </td><td    style=\"border: 1px solid black;\"> </td><td    style=\"border: 1px solid black;\"> </td><td    style=\"border: 1px solid black;\"> </td><td    style=\"border: 1px solid black;\"> </td><td    style=\"border: 1px solid black;\"> </td><td    style=\"border: 1px solid black;\"> </td></tr>\n",
       "<tr><td    style=\"border: 1px solid black;\">6</td><td    style=\"border: 1px solid black;\"> </td><td    style=\"border: 1px solid black;\"> </td><td    style=\"border: 1px solid black;\"> </td><td    style=\"border: 1px solid black;\"> </td><td    style=\"border: 1px solid black;\"> </td><td    style=\"border: 1px solid black;\"> </td><td    style=\"border: 1px solid black;\"> </td><td    style=\"border: 1px solid black;\"> </td></tr>\n",
       "<tr><td    style=\"border: 1px solid black;\">7</td><td    style=\"border: 1px solid black;\"> </td><td    style=\"border: 1px solid black;\"> </td><td    style=\"border: 1px solid black;\"> </td><td    style=\"border: 1px solid black;\"> </td><td    style=\"border: 1px solid black;\"> </td><td    style=\"border: 1px solid black;\"> </td><td    style=\"border: 1px solid black;\"> </td><td    style=\"border: 1px solid black;\"> </td></tr>\n",
       "<tr><td    style=\"border: 1px solid black;\">8</td><td    style=\"border: 1px solid black;\"> </td><td    style=\"border: 1px solid black;\"> </td><td    style=\"border: 1px solid black;\">♚</td><td    style=\"border: 1px solid black;\"> </td><td    style=\"border: 1px solid black;\"> </td><td    style=\"border: 1px solid black;\"> </td><td    style=\"border: 1px solid black;\"> </td><td    style=\"border: 1px solid black;\"> </td></tr>\n",
       "<tr><td    style=\"border: 1px solid black;\"> </td><td    style=\"border: 1px solid black;\">a</td><td    style=\"border: 1px solid black;\">b</td><td    style=\"border: 1px solid black;\">c</td><td    style=\"border: 1px solid black;\">d</td><td    style=\"border: 1px solid black;\">e</td><td    style=\"border: 1px solid black;\">f</td><td    style=\"border: 1px solid black;\">g</td><td    style=\"border: 1px solid black;\">h</td></tr>\n",
       "</tbody>\n",
       "</table>"
      ],
      "text/plain": [
       "<IPython.core.display.HTML object>"
      ]
     },
     "metadata": {},
     "output_type": "display_data"
    },
    {
     "data": {
      "text/html": [
       "<table style=\"border: 2px solid black;\">\n",
       "<tbody>\n",
       "<tr><td    style=\"border: 1px solid black;\">1</td><td    style=\"border: 1px solid black;\"> </td><td    style=\"border: 1px solid black;\"> </td><td    style=\"border: 1px solid black;\"> </td><td    style=\"border: 1px solid black;\"> </td><td    style=\"border: 1px solid black;\"> </td><td    style=\"border: 1px solid black;\"> </td><td    style=\"border: 1px solid black;\"> </td><td    style=\"border: 1px solid black;\"> </td></tr>\n",
       "<tr><td    style=\"border: 1px solid black;\">2</td><td    style=\"border: 1px solid black;\"> </td><td    style=\"border: 1px solid black;\"> </td><td    style=\"border: 1px solid black;\"> </td><td    style=\"border: 1px solid black;\"> </td><td    style=\"border: 1px solid black;\"> </td><td    style=\"border: 1px solid black;\"> </td><td    style=\"border: 1px solid black;\"> </td><td    style=\"border: 1px solid black;\"> </td></tr>\n",
       "<tr><td    style=\"border: 1px solid black;\">3</td><td    style=\"border: 1px solid black;\"> </td><td    style=\"border: 1px solid black;\"> </td><td    style=\"border: 1px solid black;\"> </td><td    style=\"border: 1px solid black;\"> </td><td    style=\"border: 1px solid black;\"> </td><td    style=\"border: 1px solid black;\"> </td><td    style=\"border: 1px solid black;\"> </td><td    style=\"border: 1px solid black;\"> </td></tr>\n",
       "<tr><td    style=\"border: 1px solid black;\">4</td><td    style=\"border: 1px solid black;\"> </td><td    style=\"border: 1px solid black;\"> </td><td    style=\"border: 1px solid black;\"> </td><td    style=\"border: 1px solid black;\"> </td><td    style=\"border: 1px solid black;\"> </td><td    style=\"border: 1px solid black;\">♖</td><td    style=\"border: 1px solid black;\"> </td><td    style=\"border: 1px solid black;\"> </td></tr>\n",
       "<tr><td    style=\"border: 1px solid black;\">5</td><td    style=\"border: 1px solid black;\"> </td><td    style=\"border: 1px solid black;\"> </td><td    style=\"border: 1px solid black;\"> </td><td    style=\"border: 1px solid black;\"> </td><td    style=\"border: 1px solid black;\"> </td><td    style=\"border: 1px solid black;\"> </td><td    style=\"border: 1px solid black;\"> </td><td    style=\"border: 1px solid black;\"> </td></tr>\n",
       "<tr><td    style=\"border: 1px solid black;\">6</td><td    style=\"border: 1px solid black;\"> </td><td    style=\"border: 1px solid black;\">♔</td><td    style=\"border: 1px solid black;\"> </td><td    style=\"border: 1px solid black;\"> </td><td    style=\"border: 1px solid black;\"> </td><td    style=\"border: 1px solid black;\"> </td><td    style=\"border: 1px solid black;\"> </td><td    style=\"border: 1px solid black;\"> </td></tr>\n",
       "<tr><td    style=\"border: 1px solid black;\">7</td><td    style=\"border: 1px solid black;\"> </td><td    style=\"border: 1px solid black;\"> </td><td    style=\"border: 1px solid black;\"> </td><td    style=\"border: 1px solid black;\"> </td><td    style=\"border: 1px solid black;\"> </td><td    style=\"border: 1px solid black;\"> </td><td    style=\"border: 1px solid black;\"> </td><td    style=\"border: 1px solid black;\"> </td></tr>\n",
       "<tr><td    style=\"border: 1px solid black;\">8</td><td    style=\"border: 1px solid black;\"> </td><td    style=\"border: 1px solid black;\"> </td><td    style=\"border: 1px solid black;\">♚</td><td    style=\"border: 1px solid black;\"> </td><td    style=\"border: 1px solid black;\"> </td><td    style=\"border: 1px solid black;\"> </td><td    style=\"border: 1px solid black;\"> </td><td    style=\"border: 1px solid black;\"> </td></tr>\n",
       "<tr><td    style=\"border: 1px solid black;\"> </td><td    style=\"border: 1px solid black;\">a</td><td    style=\"border: 1px solid black;\">b</td><td    style=\"border: 1px solid black;\">c</td><td    style=\"border: 1px solid black;\">d</td><td    style=\"border: 1px solid black;\">e</td><td    style=\"border: 1px solid black;\">f</td><td    style=\"border: 1px solid black;\">g</td><td    style=\"border: 1px solid black;\">h</td></tr>\n",
       "</tbody>\n",
       "</table>"
      ],
      "text/plain": [
       "<IPython.core.display.HTML object>"
      ]
     },
     "metadata": {},
     "output_type": "display_data"
    },
    {
     "data": {
      "text/html": [
       "<table style=\"border: 2px solid black;\">\n",
       "<tbody>\n",
       "<tr><td    style=\"border: 1px solid black;\">1</td><td    style=\"border: 1px solid black;\"> </td><td    style=\"border: 1px solid black;\"> </td><td    style=\"border: 1px solid black;\"> </td><td    style=\"border: 1px solid black;\"> </td><td    style=\"border: 1px solid black;\"> </td><td    style=\"border: 1px solid black;\"> </td><td    style=\"border: 1px solid black;\"> </td><td    style=\"border: 1px solid black;\"> </td></tr>\n",
       "<tr><td    style=\"border: 1px solid black;\">2</td><td    style=\"border: 1px solid black;\"> </td><td    style=\"border: 1px solid black;\"> </td><td    style=\"border: 1px solid black;\"> </td><td    style=\"border: 1px solid black;\"> </td><td    style=\"border: 1px solid black;\"> </td><td    style=\"border: 1px solid black;\"> </td><td    style=\"border: 1px solid black;\"> </td><td    style=\"border: 1px solid black;\"> </td></tr>\n",
       "<tr><td    style=\"border: 1px solid black;\">3</td><td    style=\"border: 1px solid black;\"> </td><td    style=\"border: 1px solid black;\"> </td><td    style=\"border: 1px solid black;\"> </td><td    style=\"border: 1px solid black;\"> </td><td    style=\"border: 1px solid black;\"> </td><td    style=\"border: 1px solid black;\"> </td><td    style=\"border: 1px solid black;\"> </td><td    style=\"border: 1px solid black;\"> </td></tr>\n",
       "<tr><td    style=\"border: 1px solid black;\">4</td><td    style=\"border: 1px solid black;\"> </td><td    style=\"border: 1px solid black;\"> </td><td    style=\"border: 1px solid black;\"> </td><td    style=\"border: 1px solid black;\"> </td><td    style=\"border: 1px solid black;\"> </td><td    style=\"border: 1px solid black;\">♖</td><td    style=\"border: 1px solid black;\"> </td><td    style=\"border: 1px solid black;\"> </td></tr>\n",
       "<tr><td    style=\"border: 1px solid black;\">5</td><td    style=\"border: 1px solid black;\"> </td><td    style=\"border: 1px solid black;\"> </td><td    style=\"border: 1px solid black;\"> </td><td    style=\"border: 1px solid black;\"> </td><td    style=\"border: 1px solid black;\"> </td><td    style=\"border: 1px solid black;\"> </td><td    style=\"border: 1px solid black;\"> </td><td    style=\"border: 1px solid black;\"> </td></tr>\n",
       "<tr><td    style=\"border: 1px solid black;\">6</td><td    style=\"border: 1px solid black;\"> </td><td    style=\"border: 1px solid black;\">♔</td><td    style=\"border: 1px solid black;\"> </td><td    style=\"border: 1px solid black;\"> </td><td    style=\"border: 1px solid black;\"> </td><td    style=\"border: 1px solid black;\"> </td><td    style=\"border: 1px solid black;\"> </td><td    style=\"border: 1px solid black;\"> </td></tr>\n",
       "<tr><td    style=\"border: 1px solid black;\">7</td><td    style=\"border: 1px solid black;\"> </td><td    style=\"border: 1px solid black;\"> </td><td    style=\"border: 1px solid black;\"> </td><td    style=\"border: 1px solid black;\"> </td><td    style=\"border: 1px solid black;\"> </td><td    style=\"border: 1px solid black;\"> </td><td    style=\"border: 1px solid black;\"> </td><td    style=\"border: 1px solid black;\"> </td></tr>\n",
       "<tr><td    style=\"border: 1px solid black;\">8</td><td    style=\"border: 1px solid black;\"> </td><td    style=\"border: 1px solid black;\">♚</td><td    style=\"border: 1px solid black;\"> </td><td    style=\"border: 1px solid black;\"> </td><td    style=\"border: 1px solid black;\"> </td><td    style=\"border: 1px solid black;\"> </td><td    style=\"border: 1px solid black;\"> </td><td    style=\"border: 1px solid black;\"> </td></tr>\n",
       "<tr><td    style=\"border: 1px solid black;\"> </td><td    style=\"border: 1px solid black;\">a</td><td    style=\"border: 1px solid black;\">b</td><td    style=\"border: 1px solid black;\">c</td><td    style=\"border: 1px solid black;\">d</td><td    style=\"border: 1px solid black;\">e</td><td    style=\"border: 1px solid black;\">f</td><td    style=\"border: 1px solid black;\">g</td><td    style=\"border: 1px solid black;\">h</td></tr>\n",
       "</tbody>\n",
       "</table>"
      ],
      "text/plain": [
       "<IPython.core.display.HTML object>"
      ]
     },
     "metadata": {},
     "output_type": "display_data"
    },
    {
     "data": {
      "text/html": [
       "<table style=\"border: 2px solid black;\">\n",
       "<tbody>\n",
       "<tr><td    style=\"border: 1px solid black;\">1</td><td    style=\"border: 1px solid black;\"> </td><td    style=\"border: 1px solid black;\"> </td><td    style=\"border: 1px solid black;\"> </td><td    style=\"border: 1px solid black;\"> </td><td    style=\"border: 1px solid black;\"> </td><td    style=\"border: 1px solid black;\"> </td><td    style=\"border: 1px solid black;\"> </td><td    style=\"border: 1px solid black;\"> </td></tr>\n",
       "<tr><td    style=\"border: 1px solid black;\">2</td><td    style=\"border: 1px solid black;\"> </td><td    style=\"border: 1px solid black;\"> </td><td    style=\"border: 1px solid black;\"> </td><td    style=\"border: 1px solid black;\"> </td><td    style=\"border: 1px solid black;\"> </td><td    style=\"border: 1px solid black;\"> </td><td    style=\"border: 1px solid black;\"> </td><td    style=\"border: 1px solid black;\"> </td></tr>\n",
       "<tr><td    style=\"border: 1px solid black;\">3</td><td    style=\"border: 1px solid black;\"> </td><td    style=\"border: 1px solid black;\"> </td><td    style=\"border: 1px solid black;\"> </td><td    style=\"border: 1px solid black;\"> </td><td    style=\"border: 1px solid black;\"> </td><td    style=\"border: 1px solid black;\"> </td><td    style=\"border: 1px solid black;\"> </td><td    style=\"border: 1px solid black;\"> </td></tr>\n",
       "<tr><td    style=\"border: 1px solid black;\">4</td><td    style=\"border: 1px solid black;\"> </td><td    style=\"border: 1px solid black;\"> </td><td    style=\"border: 1px solid black;\"> </td><td    style=\"border: 1px solid black;\"> </td><td    style=\"border: 1px solid black;\"> </td><td    style=\"border: 1px solid black;\"> </td><td    style=\"border: 1px solid black;\"> </td><td    style=\"border: 1px solid black;\"> </td></tr>\n",
       "<tr><td    style=\"border: 1px solid black;\">5</td><td    style=\"border: 1px solid black;\"> </td><td    style=\"border: 1px solid black;\"> </td><td    style=\"border: 1px solid black;\"> </td><td    style=\"border: 1px solid black;\"> </td><td    style=\"border: 1px solid black;\"> </td><td    style=\"border: 1px solid black;\"> </td><td    style=\"border: 1px solid black;\"> </td><td    style=\"border: 1px solid black;\"> </td></tr>\n",
       "<tr><td    style=\"border: 1px solid black;\">6</td><td    style=\"border: 1px solid black;\"> </td><td    style=\"border: 1px solid black;\">♔</td><td    style=\"border: 1px solid black;\"> </td><td    style=\"border: 1px solid black;\"> </td><td    style=\"border: 1px solid black;\"> </td><td    style=\"border: 1px solid black;\"> </td><td    style=\"border: 1px solid black;\"> </td><td    style=\"border: 1px solid black;\"> </td></tr>\n",
       "<tr><td    style=\"border: 1px solid black;\">7</td><td    style=\"border: 1px solid black;\"> </td><td    style=\"border: 1px solid black;\"> </td><td    style=\"border: 1px solid black;\"> </td><td    style=\"border: 1px solid black;\"> </td><td    style=\"border: 1px solid black;\"> </td><td    style=\"border: 1px solid black;\"> </td><td    style=\"border: 1px solid black;\"> </td><td    style=\"border: 1px solid black;\"> </td></tr>\n",
       "<tr><td    style=\"border: 1px solid black;\">8</td><td    style=\"border: 1px solid black;\"> </td><td    style=\"border: 1px solid black;\">♚</td><td    style=\"border: 1px solid black;\"> </td><td    style=\"border: 1px solid black;\"> </td><td    style=\"border: 1px solid black;\"> </td><td    style=\"border: 1px solid black;\">♖</td><td    style=\"border: 1px solid black;\"> </td><td    style=\"border: 1px solid black;\"> </td></tr>\n",
       "<tr><td    style=\"border: 1px solid black;\"> </td><td    style=\"border: 1px solid black;\">a</td><td    style=\"border: 1px solid black;\">b</td><td    style=\"border: 1px solid black;\">c</td><td    style=\"border: 1px solid black;\">d</td><td    style=\"border: 1px solid black;\">e</td><td    style=\"border: 1px solid black;\">f</td><td    style=\"border: 1px solid black;\">g</td><td    style=\"border: 1px solid black;\">h</td></tr>\n",
       "</tbody>\n",
       "</table>"
      ],
      "text/plain": [
       "<IPython.core.display.HTML object>"
      ]
     },
     "metadata": {},
     "output_type": "display_data"
    }
   ],
   "source": [
    "for test in tests:\n",
    "    print(\"We are testing {}\".format(test))\n",
    "    for state in solution(test)[1]:\n",
    "        print_board(*state)"
   ]
  },
  {
   "cell_type": "code",
   "execution_count": null,
   "metadata": {},
   "outputs": [],
   "source": []
  }
 ],
 "metadata": {
  "kernelspec": {
   "display_name": "Python 3",
   "language": "python",
   "name": "python3"
  },
  "language_info": {
   "codemirror_mode": {
    "name": "ipython",
    "version": 3
   },
   "file_extension": ".py",
   "mimetype": "text/x-python",
   "name": "python",
   "nbconvert_exporter": "python",
   "pygments_lexer": "ipython3",
   "version": "3.6.3"
  }
 },
 "nbformat": 4,
 "nbformat_minor": 2
}
