{
 "cells": [
  {
   "cell_type": "markdown",
   "metadata": {},
   "source": [
    "## Zadanie 1 "
   ]
  },
  {
   "cell_type": "markdown",
   "metadata": {},
   "source": [
    "a) Zawsze cenimy bezpieczne komórki (więc wybieramy je najpierw) - jeśli jest ich kilka, to wybieramy takie, które zajmą jak najwięcej bezpiecznych komórek\n",
    "\n",
    "b) Spójrzmy na to warstwami - warstwa 0 to brzeg, 1 to ten wewnętrzny pierścień etc.. (są warstwy 0, 1, 2)\n",
    "   Komórka na warstwie 0 jest bezpieczna wtw (jeśli wszystkie na danym brzegu są zajęte (być może przez inne kolory) lub od jednej strony są zajęte przez nasz kolor)\n",
    "\n",
    "Komórka na warstwie X jest bezpieczna wtw (jeśli możemy zaznaczyć 1/3 planszy wychodząc od jednego kierunku przez nasz kolor lub po wszystkich kierunkach wszystkie pola są zajęte (nie ma drogi do bicia, bo nic nie będzie wstawione))\n",
    "   \n",
    "c) ifolandia przy warstwach - sprawdzamy do jakiej warstwy należy komórka, dla zerowej - prosto, dla 1 i 2 warstwy sprawdzamy rzędy niżej od przekątnej do krańca.\n",
    "\n",
    "\n",
    "Moglibyśmy sprawdzać też po drugiej stronie, ale tam jest więcej komórek - więcej sprawdzeń no i w sumie małe prawdopodobieństwo, że od tej strony dostaniemy bezpieczeństwo\n"
   ]
  },
  {
   "cell_type": "markdown",
   "metadata": {},
   "source": [
    "## Zadanie 2 "
   ]
  },
  {
   "cell_type": "markdown",
   "metadata": {},
   "source": [
    "a) W poprzednim ruchu wygenerowaliśmy część drzewa gry dla obu algorytmów - możemy zapamiętać część drzewa gry.\n",
    "\n",
    "b) W MCTS możemy każdy możliwy ruch sprawdzać na osobnym wątku, w alfa-beta-search tak samo."
   ]
  },
  {
   "cell_type": "markdown",
   "metadata": {},
   "source": [
    "## Zadanie 3 \n",
    "Znamy wszyscy jakie są strategie w kółku krzyżyk, żeby otrzymać strategie nieprzegrywające (albo nawet i często wygrywające)\n",
    "\n",
    "https://www.quora.com/Is-there-a-way-to-never-lose-at-Tic-Tac-Toe\n",
    "\n",
    "Agent może próbować wykonywać ruchy z tych strategii - jeśli buczy, to znaczy, że jest tam przeciwnik i mamy dodatkową wiedzę o planszy\n",
    "\n",
    "Pierwszy gracz ma przewagę, ponieważ przy odpowiednim ruchu nie przegra partii"
   ]
  },
  {
   "cell_type": "markdown",
   "metadata": {},
   "source": [
    "## Zadanie 4"
   ]
  },
  {
   "cell_type": "markdown",
   "metadata": {},
   "source": [
    "a) losowanie możliwego stanu czyli losowanie możliwego układu kart, albo po ludzku: potasowanie i rozdanie kart"
   ]
  },
  {
   "cell_type": "markdown",
   "metadata": {},
   "source": [
    "b) W przypadku, gdy wnioskujemy dlaczego inni gracze zagrali w jakiś sposób (tj. gdyby gracz miał układ X, to mógłby zagrać tak i tak, co byłoby lepsze, więc skoro tak nie zagrał, to zdecydowanie mniej prawdopodobne jest, by miał taki układ etc). W przypadku, gdy gra polega na zmianie swojego układu - możemy też przewidywać jakie układy są bardziej, a jakie mniej prawdopodobne i na podstawie ruchów decydować, według których układów przeprowadzać gry.\n",
    "\n",
    "c) Problemy - umiejętności wnioskowania no i pomijamy w ten sposób możliwe taktyki polegające na blefowaniu czy grze nieoptymalnej w celu zmylenia przeciwnika. (Ze strony naszej jak i przeciwnika)"
   ]
  },
  {
   "cell_type": "markdown",
   "metadata": {},
   "source": [
    "## Zadanie 5"
   ]
  },
  {
   "cell_type": "markdown",
   "metadata": {},
   "source": [
    "Agent 1 - Agent bezpieczny, który najpierw zawsze rzuca zachłannie najniższą możliwą moc karty, którą rzeczywiście ma (biorąc pod uwagę, żeby wyrzucił jak najwięcej z nich), a dopiero gdy nie ma wyjścia, wyrzuca najbardziej prawdopodobny niesprzeczny blef. Podejmuje decyzję o sprawdzeniu gdy zachodzi sprzeczność z układem gry (no to nie jest optymalne, bo ktoś wcześniej mógł blefować) bądź z jakimś losowym prawdopodobieństwem, które rośnie z każdym ruchem."
   ]
  },
  {
   "cell_type": "markdown",
   "metadata": {},
   "source": [
    "Agent 2 - rzucający niesprzeczny z graczami poprzednich graczy bądź najbardziej prawdopodobny układ (dużo blefów, które mogą nie zostać wykryte, ale szybko zejdziemy z kart)"
   ]
  },
  {
   "cell_type": "markdown",
   "metadata": {},
   "source": [
    "Wszyscy z nich mogą mieć na uwadze, że blefowanie na początku gry przechodzi \"bardziej gładko\" niż na końcu rozgrywki (\"rzucam dwie 10\" jest bardziej prawdopodobne, niż \"rzucam cztery Asy\")."
   ]
  },
  {
   "cell_type": "markdown",
   "metadata": {},
   "source": [
    "## Zadanie 6\n"
   ]
  },
  {
   "cell_type": "markdown",
   "metadata": {},
   "source": [
    "a) tam gdzie zależność wyraża się \"ładną\" funkcją [x,y] -> ax + by + c (x,y to mogą być np. sin(x_1) albo coś) czyli tu wszystkie przykłady bez spirali, bowiem odpowiednio musimy dopasować ax^2 + by^2 + c, xy albo rozdzielić to prostą ax + by + c"
   ]
  },
  {
   "cell_type": "markdown",
   "metadata": {},
   "source": [
    "b) learning rate to jest zmiana tych wag parametrów, jeśli jest za duże, to będziemy za bardzo zmieniać wartości między epokami i nasza sieć będzie się zachowywać chaotycznie"
   ]
  },
  {
   "cell_type": "markdown",
   "metadata": {},
   "source": [
    "c) przydają się, gdy mamy dane rozrzucone cyklicznie, w przypadku spirali może się przydają"
   ]
  },
  {
   "cell_type": "markdown",
   "metadata": {},
   "source": [
    "d) bierzemy argumenty x_1^2, x_2^2 dla kółka (jeden neuron, zero ukrytych), argument xy dla kwadratów i argumenty x,y dla liniówki"
   ]
  },
  {
   "cell_type": "markdown",
   "metadata": {},
   "source": [
    "## Zadanie 7"
   ]
  },
  {
   "cell_type": "markdown",
   "metadata": {},
   "source": [
    "a1) x or y <=> $f([x,y]) = [1,1]^T \\cdot [x,y] = x + y $ Jeśli x = y = 0, to x + y = 0 mamy 0, a wpp x + y > 0 więc mamy 1 "
   ]
  },
  {
   "cell_type": "markdown",
   "metadata": {},
   "source": [
    "a2) x and y <=> $f([x,y]) = [1,1]^T \\cdot [x,y] - 1 = x + y - 1$ Jeśli x*y = 0, to wtedy x + y <= 1, czyli x + y - 1 <= 0, a dla 1 and 1 mamy 1\n"
   ]
  },
  {
   "cell_type": "markdown",
   "metadata": {},
   "source": [
    "a3) not x <=> $f([x]) = [-1]^T \\cdot [x] + 1 = 1 - x$ "
   ]
  },
  {
   "cell_type": "markdown",
   "metadata": {},
   "source": [
    "b) x xor y <=> korzystając, że x ^ y <=> (x or y) and not (x and y) to możemy przepuścić [x,y] przez neuron or, przez neuron and, ten drugi przepuścić przez neuron not, po czym oba wyniki przepuścić przez neuron and"
   ]
  },
  {
   "cell_type": "markdown",
   "metadata": {},
   "source": [
    "c) gdyby była to układ równań a+b+c <= 0, a + c >= 0, b + c >= 0, c <= 0 dałoby się spełnić, skoro a >= -c >= -c/2 to a + b >= -c więc a + b + c >= 0"
   ]
  },
  {
   "cell_type": "markdown",
   "metadata": {},
   "source": [
    "## Zadanie 8"
   ]
  },
  {
   "cell_type": "markdown",
   "metadata": {},
   "source": [
    "Pomysł ogólny: każdą funkcję boolowską (f: B^k -> B) da się zapisać jako tabelka\n",
    "dla każdego x: f(x) = 1, robimy neuron, gdzie bierzemy następująco: przykład: x = [1,0,0,0,1,1], w = [1,-1,-1,-1,1,1], b = - x.count(1) + 1, wtedy f(x) > 0 wtw mamy dokładnie jedynki na tych miejscach na których potrzebujemy, a jeśli ich jest za mało to będziemy mieli za małą sumę, jeśli jest coś na miejscach gdzie powinny być zera to wtedy suma tym bardziej maleje.\n",
    "\n",
    "Ilość tych węzłów jest równa co najwyżej 2^k + 1 (1 to neuronek na wyjściu sumujący wszystkie wartości), gdzie k to ilość możliwych x, gdzie f(x) = 1, a głębokość to dwie warstwy (jedna ukryta).\n",
    "\n",
    "gdy jest mało 0 a dużo jedynek, to możemy obliczyć not f, a wtedy wynik przepuścić przez not znowu - maksymalnie 2^(k-1) + 1 neuronków"
   ]
  },
  {
   "cell_type": "markdown",
   "metadata": {},
   "source": [
    "## Zadanie 9"
   ]
  },
  {
   "cell_type": "markdown",
   "metadata": {},
   "source": [
    "a) budujemy neuron Na = T-x, Nc = x - T i \n",
    "wynik to jest suma N1 = Na*(-inf) + a\n",
    "                +  N2 = Nc*(-inf) + c\n",
    "na neuronku wyjściowym jest N1 + N2\n",
    "b) max(a,b) = if a > b then a else b\n",
    "c) N = 1*a + 1*b, trywialne?\n",
    "\n",
    "notka: ewentualnie możemy chcieć mieć tego x (max(0,x) zawsze ucina ujemne wartości). by nie tracić (bo mamy input z [-1,1]) to możemy dać a+1,c+1 w a), w b) a + 1, b + 1 też etc\n",
    "w c) a + b + 2 "
   ]
  },
  {
   "cell_type": "markdown",
   "metadata": {},
   "source": [
    "b) a b -> a - b do tego neuronka dodajemy b"
   ]
  },
  {
   "cell_type": "markdown",
   "metadata": {},
   "source": [
    "## Zadanie 10"
   ]
  },
  {
   "cell_type": "code",
   "execution_count": null,
   "metadata": {},
   "outputs": [],
   "source": []
  }
 ],
 "metadata": {
  "kernelspec": {
   "display_name": "Python 3",
   "language": "python",
   "name": "python3"
  },
  "language_info": {
   "codemirror_mode": {
    "name": "ipython",
    "version": 3
   },
   "file_extension": ".py",
   "mimetype": "text/x-python",
   "name": "python",
   "nbconvert_exporter": "python",
   "pygments_lexer": "ipython3",
   "version": "3.6.4"
  }
 },
 "nbformat": 4,
 "nbformat_minor": 2
}
