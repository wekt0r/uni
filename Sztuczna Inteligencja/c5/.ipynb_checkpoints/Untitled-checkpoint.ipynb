{
 "cells": [
  {
   "cell_type": "markdown",
   "metadata": {},
   "source": [
    "## Zadanie 1\n",
    "1. Zbiór stanów = (zbiór stanów dokąd możemy dojść) x (pogoda) (iloczyn kartezjański\n",
    "2. Stan startowy = A (ewentualnie zbiór stanów A .* zbiór pogód)\n",
    "3. Sieć szlaków tworzy nam graf, gdzie koszt i nagroda przejścia jakiegoś z nich daje określone (dane już) nagrody, oraz mamy dany też discount\n",
    "3. Akcje(s) - sąsiedzi szlaków w grafie x (prawdopodobna pogoda) \n",
    "4. Prawdopodobieństwo wykonania akcji - zależy od pogody np 1 - p-stwo zmiany pogody\n",
    "5. Stan końcowy to dowolny stan B x pogoda lub stany gdzie np. wykonaliśmy za długą drogę i musimy czekać na helikopter\n",
    "6. Reward, discount już są dane \n",
    "\n",
    "Co dodać: do stanów końcowych możemy dodać np. że dowolny stan jest z jakimś bardzo małym prawdopodobieństwem stanem końcowym, bo np. złamaliśmy sobie nogę i czekamy na pomoc (a dla każdego szlaku to też może być jakoś dane w zależności od jego trudności).\n",
    "Może to pomóc układać fajne ścieżki dla turystów"
   ]
  },
  {
   "cell_type": "markdown",
   "metadata": {},
   "source": [
    "x## Zadanie 2\n",
    " "
   ]
  },
  {
   "cell_type": "markdown",
   "metadata": {},
   "source": [
    "x## Zadanie 3\n",
    "1. Wybierz politykę (być może znajdź wykorzystując value iteration, jeśli nie znamy jeszcze żadnej, lub uznaj, że mamy politykę shortest_path/optimistic_path albo coś)\n",
    "2. ewaluujemy politykę idąc po kolei od punktu startowego (przy czym możemy wybierać np. k najbardziej prawdopodobnych przejść)\n",
    "3. róbmy tak aż coś się w ogóle zmienia (np. polityka zostaje taka sama/wartości zmieniły się o mniej niż epsilon)\n",
    "\n",
    "Value iteration rozwiązuje to samo"
   ]
  },
  {
   "cell_type": "markdown",
   "metadata": {},
   "source": [
    "## Zadanie 4\n",
    "a) Tutaj także warto rozpatrywać symetrie, bo inaczej mamy dużo więcej obliczeń, a w przypadku symetrycznych gier raczej nie byłoby sensownym, gdyby gracz nauczył się X, ale przy symetrii nie nauczył się X\n",
    "\n",
    "b) $\\epsilon$-zachłanny z prawdopodobieństwem epsilon wybiera losowy ruch. Gracz $\\epsilon$-zachłanny może grać bardzo słabo przeciwko graczowi wykorzystującemu błędy przeciwnka (tj. przeciwko dobremu graczowi, bowiem przy jednym błędzie, przeciwnik może zyskać dużą przewagę). Zachłanny na pewno nie pozwoli takiemu graczowi wygrać prosto.\n",
    "   Ciężko sobie wyobrazić, gdzie $\\epsilon$-zachłanny gra lepiej - może w przypadkach 'wyifowanych' agentów, którzy stosują zawsze pojedyncze taktyki i liczą, że przeciwnik gra zawsze 'optymalnie/zachłannie'?\n",
    "\n",
    "c) Powinien maleć, bo mamy zdecydowanie mniej ruchów (i być może już mamy ruchy, które pozwolą nam wygrać, bądź blokują przeciwnika) - znamy dobrze świat i nie potrzebujemy eksplorować"
   ]
  },
  {
   "cell_type": "markdown",
   "metadata": {},
   "source": [
    "## Zadanie 5\n",
    "v - stan, q - akcja w stanie\n",
    "\n",
    "a) $v_*$ = max $q_*$\n",
    "\n",
    "b) $q_* = \\sum T(s, a, s')(R(s,a, s') + \\gamma v_*)$\n",
    "\n",
    "c) akcje dla których $q_*$ jest największe\n",
    "\n",
    "d) = c\\[q_*/b)\\] "
   ]
  },
  {
   "cell_type": "markdown",
   "metadata": {},
   "source": [
    "x## Zadanie 6\n",
    "\n",
    "Należy rozwijać te węzły, które minimalizują maksymalną możliwą wartość dla mina i maksymalizują minimalną wartość dla maksa.\n",
    "\n",
    "W praktyce powinniśmy gdzieś zapamiętywać, które węzły prowadziły do jakich wyników (w jakich przedziałach są wyniki)."
   ]
  },
  {
   "cell_type": "markdown",
   "metadata": {},
   "source": [
    "## Zadanie 7\n",
    "Można robić algorytm z AIMA (czyli tak: \n",
    "1. Wszystkie $\\Leftrightarrow $ zamień na $\\Rightarrow \\wedge \\Rightarrow$ \n",
    "2. Wszystkie $\\Rightarrow$ zamień na $\\neg p \\vee q$\n",
    "3. Wszystkie $\\neg$ wciskaj do środka za pomocą praw De Morgana\n",
    "4. Teraz mamy same $\\wedge, \\vee$, a negacje są tylko przy zmiennych (tak jak chcemy), teraz po prostu zamieniamy na podstawie prawe rozdzielności alternatywy względem koniunkcji i odwrotnego (koniunkcji względem alternatywy) i mamy cnfa\n",
    "\n",
    "wykładniczość \n",
    "\n",
    "(X1 && Y1) || (X2 && Y2) || ... || (Xn && Yn)\n",
    "\n",
    "\n",
    "(X1 || X2 || ... || Xn) && (Y1 || X2 || ... || Xn) && (X1 || Y2 || ... || Xn) &&\n",
    "        (Y1 || Y2 || ... || Xn) && ... && (Y1 || Y2 || ... || Yn)\n",
    "\n",
    "Wypadałoby udowodnić, że to daje radę\n",
    "\n",
    "Prostszy, brzydszy algorytm: Robimy tabelkę dla negacji, układamy dnfa, negujemy znowu (podwójna negacja) - dostajemy cnfa, profit - ale to zawsze daje wykładniczą długość formuły"
   ]
  },
  {
   "cell_type": "markdown",
   "metadata": {},
   "source": [
    "## Zadanie 8\n",
    "Pomysł - mamy drzewo wyrażenia F - niech t_i będzie ciągiem wyrażeń \"od nodów tego drzewa\" przypadki:\n",
    "t <=> a and b -------> (t v -a v -b) and (t v a) and (- t v b)\n",
    "t <=> not a ---------> (t v a) and (t v - a)\n",
    "t <=> a or b --------> (-t v a v b) and (t v -a) and (t v -b)\n",
    "\n",
    "https://en.wikipedia.org/wiki/Tseytin_transformation"
   ]
  },
  {
   "cell_type": "markdown",
   "metadata": {},
   "source": [
    "## Zadanie 9\n",
    "Pomysł: niech $f(x_1, ... x_n) = K \\Leftrightarrow \\sum x_i = K$. Na podstawie tabelki układamy zdanie Z w DNFie $\\neg f$ czyli każdy wiersz, gdzie jest prawda układamy anda i orujemy wszystko. Wtedy możemy zrobić $\\neg Z$ - jest to zdanie w CNFie no i mówi dokładnie to co chcemy, bo mamy podwójne zaprzeczenie"
   ]
  },
  {
   "cell_type": "markdown",
   "metadata": {},
   "source": [
    "## Zadanie 10\n",
    "Loteria - zbiór par (prawdopodobieństwo, stan) jako efekt wykonania jakiejś akcji\n",
    "\n",
    "Relacja preferencji - relacja przechodnia, antysymetryczna na stanach (czyli częściowy porządek na nich, gdy bierzemy $\\gtrsim$), która mówi, $A > B$, wtedy gdy agent preferuje A od B\n",
    "\n",
    "Funkcja użyteczności - U(s) to \"pożądaność stanu\" (przypisuje ona wartość liczbową stanom), U to funkcja spełniająca $U(s) > U(t) \\Leftrightarrow s > t$ (wedle relacji preferencji)\n",
    "\n",
    "Liniowe przekształcenia funkcji użyteczności - jeśli U jest funkcją użyteczności, to jest nią też $aU + b$ dla $a > 0$, tj. spełnia wszystkie jej założenia. Ważne znaczenie - np. możemy dopasować parametr b, dla którego uznajemy że jakieś wybory są dobre bądź złe - heurystyka, niedopuszczalność, możemy przekształcić tą funkcję też na przedział 0-1. "
   ]
  },
  {
   "cell_type": "markdown",
   "metadata": {},
   "source": [
    "## Zadanie 11\n",
    "Im więcej mamy pieniędzy, tym bardziej jesteśmy skłonni do ryzyka (mając 10 mln chętniej zaryzykujemy 1 mln, niż jakbyśmy mieli tylko ten milion). Jesteśmy też bardziej skłonni do ryzyka przy dużym długu (żeby się 'odbić'). \n",
    "\n",
    "Podatek wyglądałby jak jakiś przeskalowany logarytm od wartości (czyli byłby podobny do wykresu użyteczności pieniądza)"
   ]
  },
  {
   "cell_type": "markdown",
   "metadata": {},
   "source": [
    "## Zadanie 12\n",
    "\n",
    "Paradoks Allais - (A: 80\\% na \\$4000,B: 100\\% na \\$3000),(C: 20\\% na \\$4000,D: 25\\% na \\$3000)\n",
    "Większość wybierze B zamiast A (bo 100\\%), ale C zamiast D (wybierając wyższe EMV - expected monetary value).\n",
    "Czemu? \"certainty effect\" - lubimy dostać coś \"na pewno\", żeby nie czuć się idiotą i wolimy poświęcić te \\$200 względem EMV.\n",
    "\n",
    "Paradoks Ellsberga - (A: 100 za czerwoną piłkę, B: 100 za czarną piłkę), (C: 100 za czerwoną lub zółtą ,D: 100 za czarną lub żółtą)\n",
    "1/3 jest czerwona, 2/3 są czarne i zółte razem.\n",
    "Ludzie wolą A zamiast B ale D zamiast C (pewność ile ich jest co najmniej)\n",
    "\n",
    "framing effect - 90\\% przeżywalności operacji jest lepsze niż 10\\% śmiertelność\n",
    "\n",
    "anchoring effect - wino za \\$55 wygląda tanio przy winie za \\$200"
   ]
  },
  {
   "cell_type": "markdown",
   "metadata": {},
   "source": [
    "## Zadanie 13\n",
    "\n",
    "Koncern naftowy (kn) może kupić dowolny sektor spośród n, z których tylko na 1 znajduje\n",
    "\tsię\tropa o wartości C. 1 sektor kosztuje C/n. Jeśli kn pozyska informacje nt. jednego\n",
    "\tsektora, to z prawdopodobieństwem 1/n (bo tylko 1 zawiera ropę) zyska C, w przeciwnym\n",
    "\tprzypadku straci tylko tyle, ile zainwestował w informacje. Nietrudno zauważyć, że\n",
    "\tjeśli informacje są droższe od sektora, to inwestycja w nie jest nieopłacalna, bo\n",
    "\tniezależnie od tego, co się okaże, kn straci (cenę informacji - cenę sektora lub\n",
    "\ttylko cenę informacji). Formalny dowód znajduje się w AIMA."
   ]
  },
  {
   "cell_type": "markdown",
   "metadata": {},
   "source": [
    "## Zadanie 14\n",
    "a) Jak widać po drzewie gry (s. 671) wartość oczekiwana dla obu graczy jest taka sama,\n",
    "\tniezależnie czy wybierze 1, czy 2. Zatem wszystkie strategie (łącznie z losową) są\n",
    "\trównie dobre. Inaczej ma się sprawa dla zmodyfikowanej wersji gry, w której jeden z\n",
    "\tgraczy ujawnia drugiemu swój ruch.\n",
    " Były strategie mieszane \\[ p1, 1; p2; 2\\]\n",
    " i strategie czyste (pure strategies)\n",
    "    \n",
    "b) Dylemat więźnia: 2 złodziei zostało złapanych na gorącym uczynku, zostali rozdzieleni\n",
    "\ti każdemu z nich proponowany jest deal dany tabelką na s. 668. Więzień (każdy z\n",
    "\tosobna) zauważa, że cokolwiek wybierze jego wspólnik, najbardziej korzystnym wyborem\n",
    "\tjest dla niego zeznawanie. Sytuacja jest symetryczna, zatem oboje dostaną 5 lat. W\n",
    "\ttej sytuacji można dojść do błędnego wniosku, że obaj mogliby dostać tylko rok, jeśli\n",
    "\tbędą milczeć. Nie jest to jednak dobry wybór, bo jak zauważyliśmy na początku w\n",
    "\tkażdej sytuacji korzystniej jest zeznawać.\n",
    "    \n",
    "c) Punkt równowagi Nasha to lokalne optimum w przestrzeni wyborów (polityk) (dla\n",
    "\tustalenia uwagi powiedzmy, że maksimum). Każdy z wymiarów symbolizuje wybór polityki\n",
    "\tjednego gracza. Inaczej mówiąc, punkt równowagi Nasha to wybór polityk, dla którego\n",
    "\tżadnemu graczowi nie opłaca się go zmieniać (ale gdyby mogli się komunikować, mogłoby\n",
    "\tim się to opłacać)."
   ]
  },
  {
   "cell_type": "markdown",
   "metadata": {},
   "source": [
    "## Zadanie 15\n",
    "\n",
    "Nadracjonalność to założenie, że przeciwnik przeprowadza identyczne rozumowanie jak my i\n",
    "\tszukanie strategii, która daje najlepsze wyniki przy tym założeniu. Prowadzi to do\n",
    "\tbłędnych wniosków przy dylemacie więźnia: dochodzimy do wniosku, że lepiej jest\n",
    "\twspółpracować (z drugim więźniem), bo on zastosuje tę samą strategię i obaj dostaną\n",
    "\t1 rok. Nadracjonalny agent w tej sytuacji nie widzi, że bardziej opłaca mu się\n",
    "\tzeznawać, bo myśli, że drugi więzień zrobi to samo i obaj dostaną 5 lat.\n",
    "\tStrategia nadracjonalna ma sens w dylemacie podróżnika: linia lotnicza zgubiła dwie\n",
    "\twalizki, należące do dwóch podróżnych. Walizki były identyczne i miały taką samą\n",
    "\tzawartość. Linia oferuje odszkodowanie za ich zgubienie, ale w kwocie nie większej\n",
    "\tniż \\$100. Aby określić wartość walizek, ich właściciele proszeni są niezależnie od\n",
    "\tsiebie o napisanie kwoty jakiej oczekują – nie mniejszej niż \\$2 i nie większej niż\n",
    "\t\\$100. Jeśli napiszą taką samą kwotę, zostanie ona uznana za wiążącą i obaj otrzymają\n",
    "\todszkodowanie tej wysokości. Jeśli napiszą różne kwoty, za wiążącą zostanie uznana\n",
    "\tniższa kwota. Dodatkowo, ten kto napisze niższą kwotę, dostanie bonus w wysokości $2,\n",
    "\ta ten kto napisze wyższą, straci \\$2 ze swojego odszkodowania.\n",
    "\tW tym przypadku strategia RACJONALNA zakłada podawanie najniższej kwoty (2), bo\n",
    "\trozważając początkowo 100, dochodzimy do wniosku, że lepiej jest wybrać 99\n",
    "\t(przeciwnik wybierze 100 i zyskamy 101). Jednak przeciwnik pomyśli podobnie i\n",
    "\twybierze 98, my 97, on 96 itd. aż do 2. W strategii NADracjonalnej wybierzemy 100, bo\n",
    "\tprzeciwnik pewnie zrobi to samo i obaj dostaniemy 100, zamiast 2.\n",
    "\tWarto zauważyć, że intuicyjnie lepsza (w tym dla mnie) jest w tym przypadku strategia\n",
    "\tnadracjonalna."
   ]
  },
  {
   "cell_type": "code",
   "execution_count": null,
   "metadata": {},
   "outputs": [],
   "source": []
  }
 ],
 "metadata": {
  "kernelspec": {
   "display_name": "Python 3",
   "language": "python",
   "name": "python3"
  },
  "language_info": {
   "codemirror_mode": {
    "name": "ipython",
    "version": 3
   },
   "file_extension": ".py",
   "mimetype": "text/x-python",
   "name": "python",
   "nbconvert_exporter": "python",
   "pygments_lexer": "ipython3",
   "version": "3.6.4"
  }
 },
 "nbformat": 4,
 "nbformat_minor": 2
}
